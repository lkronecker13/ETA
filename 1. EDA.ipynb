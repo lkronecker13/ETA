{
 "cells": [
  {
   "cell_type": "markdown",
   "metadata": {},
   "source": [
    "# Exploratory data analysis"
   ]
  },
  {
   "cell_type": "code",
   "execution_count": 1,
   "metadata": {
    "collapsed": true
   },
   "outputs": [],
   "source": [
    "import pandas as pd\n",
    "import seaborn as sns\n",
    "import matplotlib.pyplot as plt\n",
    "\n",
    "# File with helper methods\n",
    "import tools\n",
    "\n",
    "%matplotlib inline\n",
    "from os import path"
   ]
  },
  {
   "cell_type": "markdown",
   "metadata": {},
   "source": [
    "In this notebook we will explore the data that was given to us with the objective of doing an exploratory analysis to see if we can discover some interesting insights and using that knowledge engineer features with high predictive potential. At the same time we will prepare our data for modeling in the next stage.\n",
    "\n",
    "At the end of the notebook will propose a very simple intuitive model before moving on to a more formal modeling stage.\n"
   ]
  },
  {
   "cell_type": "markdown",
   "metadata": {},
   "source": [
    "***Let's load our dataset to have a look***"
   ]
  },
  {
   "cell_type": "code",
   "execution_count": 2,
   "metadata": {
    "scrolled": true
   },
   "outputs": [
    {
     "name": "stderr",
     "output_type": "stream",
     "text": [
      "/Users/lkronecker/anaconda/envs/transit_env/lib/python3.6/site-packages/IPython/core/interactiveshell.py:2717: DtypeWarning: Columns (0) have mixed types. Specify dtype option on import or set low_memory=False.\n",
      "  interactivity=interactivity, compiler=compiler, result=result)\n"
     ]
    }
   ],
   "source": [
    "df_trips_stops = pd.read_csv('data/1_original/interview_test.csv')"
   ]
  },
  {
   "cell_type": "code",
   "execution_count": 3,
   "metadata": {},
   "outputs": [
    {
     "data": {
      "text/html": [
       "<div>\n",
       "<style>\n",
       "    .dataframe thead tr:only-child th {\n",
       "        text-align: right;\n",
       "    }\n",
       "\n",
       "    .dataframe thead th {\n",
       "        text-align: left;\n",
       "    }\n",
       "\n",
       "    .dataframe tbody tr th {\n",
       "        vertical-align: top;\n",
       "    }\n",
       "</style>\n",
       "<table border=\"1\" class=\"dataframe\">\n",
       "  <thead>\n",
       "    <tr style=\"text-align: right;\">\n",
       "      <th></th>\n",
       "      <th>rt_trip_id</th>\n",
       "      <th>rt_stop_id</th>\n",
       "      <th>stop_offset</th>\n",
       "      <th>departure</th>\n",
       "      <th>lat</th>\n",
       "      <th>lng</th>\n",
       "      <th>distance_prev</th>\n",
       "    </tr>\n",
       "  </thead>\n",
       "  <tbody>\n",
       "    <tr>\n",
       "      <th>0</th>\n",
       "      <td>201955859</td>\n",
       "      <td>51843</td>\n",
       "      <td>30</td>\n",
       "      <td>1568606460</td>\n",
       "      <td>45.541968</td>\n",
       "      <td>-73.590304</td>\n",
       "      <td>162.0</td>\n",
       "    </tr>\n",
       "    <tr>\n",
       "      <th>1</th>\n",
       "      <td>201955859</td>\n",
       "      <td>61653</td>\n",
       "      <td>37</td>\n",
       "      <td>1568606820</td>\n",
       "      <td>45.531186</td>\n",
       "      <td>-73.597507</td>\n",
       "      <td>289.0</td>\n",
       "    </tr>\n",
       "    <tr>\n",
       "      <th>2</th>\n",
       "      <td>201955861</td>\n",
       "      <td>51755</td>\n",
       "      <td>3</td>\n",
       "      <td>1568607347</td>\n",
       "      <td>45.536114</td>\n",
       "      <td>-73.593775</td>\n",
       "      <td>181.0</td>\n",
       "    </tr>\n",
       "    <tr>\n",
       "      <th>3</th>\n",
       "      <td>201955861</td>\n",
       "      <td>61579</td>\n",
       "      <td>4</td>\n",
       "      <td>1568607385</td>\n",
       "      <td>45.537211</td>\n",
       "      <td>-73.592786</td>\n",
       "      <td>144.0</td>\n",
       "    </tr>\n",
       "    <tr>\n",
       "      <th>4</th>\n",
       "      <td>201955862</td>\n",
       "      <td>53151</td>\n",
       "      <td>0</td>\n",
       "      <td>1568609160</td>\n",
       "      <td>45.582726</td>\n",
       "      <td>-73.542559</td>\n",
       "      <td>NaN</td>\n",
       "    </tr>\n",
       "  </tbody>\n",
       "</table>\n",
       "</div>"
      ],
      "text/plain": [
       "  rt_trip_id  rt_stop_id  stop_offset   departure        lat        lng  \\\n",
       "0  201955859       51843           30  1568606460  45.541968 -73.590304   \n",
       "1  201955859       61653           37  1568606820  45.531186 -73.597507   \n",
       "2  201955861       51755            3  1568607347  45.536114 -73.593775   \n",
       "3  201955861       61579            4  1568607385  45.537211 -73.592786   \n",
       "4  201955862       53151            0  1568609160  45.582726 -73.542559   \n",
       "\n",
       "   distance_prev  \n",
       "0          162.0  \n",
       "1          289.0  \n",
       "2          181.0  \n",
       "3          144.0  \n",
       "4            NaN  "
      ]
     },
     "execution_count": 3,
     "metadata": {},
     "output_type": "execute_result"
    }
   ],
   "source": [
    "df_trips_stops.head()"
   ]
  },
  {
   "cell_type": "code",
   "execution_count": 4,
   "metadata": {},
   "outputs": [
    {
     "data": {
      "text/plain": [
       "(600323, 7)"
      ]
     },
     "execution_count": 4,
     "metadata": {},
     "output_type": "execute_result"
    }
   ],
   "source": [
    "df_trips_stops.shape"
   ]
  },
  {
   "cell_type": "code",
   "execution_count": 5,
   "metadata": {},
   "outputs": [
    {
     "name": "stdout",
     "output_type": "stream",
     "text": [
      "<class 'pandas.core.frame.DataFrame'>\n",
      "RangeIndex: 600323 entries, 0 to 600322\n",
      "Data columns (total 7 columns):\n",
      "rt_trip_id       600323 non-null object\n",
      "rt_stop_id       600323 non-null int64\n",
      "stop_offset      600323 non-null int64\n",
      "departure        600323 non-null int64\n",
      "lat              600323 non-null float64\n",
      "lng              600323 non-null float64\n",
      "distance_prev    584037 non-null float64\n",
      "dtypes: float64(3), int64(3), object(1)\n",
      "memory usage: 32.1+ MB\n"
     ]
    }
   ],
   "source": [
    "df_trips_stops.info()"
   ]
  },
  {
   "cell_type": "markdown",
   "metadata": {},
   "source": [
    "Looks like the data corresponds to both stop and trip ids. It invites us to group it by both columns and to see what patterns unfold once the new groups are made."
   ]
  },
  {
   "cell_type": "code",
   "execution_count": 6,
   "metadata": {},
   "outputs": [
    {
     "name": "stdout",
     "output_type": "stream",
     "text": [
      "Number of different trip ids :17301\n",
      "Number of different stop ids :8756\n"
     ]
    }
   ],
   "source": [
    "print('Number of different trip ids :' + str(len(df_trips_stops.groupby('rt_trip_id').groups.keys())))\n",
    "print('Number of different stop ids :' + str(len(df_trips_stops.groupby('rt_stop_id').groups.keys())))"
   ]
  },
  {
   "cell_type": "markdown",
   "metadata": {},
   "source": [
    "***So we have 17301 trips over 8756 stops.***"
   ]
  },
  {
   "cell_type": "markdown",
   "metadata": {},
   "source": [
    "## Data processing"
   ]
  },
  {
   "cell_type": "markdown",
   "metadata": {},
   "source": [
    "### Nulls\n",
    "\n",
    "Let's explore the missing/null values in our dataset."
   ]
  },
  {
   "cell_type": "code",
   "execution_count": 7,
   "metadata": {},
   "outputs": [
    {
     "data": {
      "text/plain": [
       "rt_trip_id           0\n",
       "rt_stop_id           0\n",
       "stop_offset          0\n",
       "departure            0\n",
       "lat                  0\n",
       "lng                  0\n",
       "distance_prev    16286\n",
       "dtype: int64"
      ]
     },
     "execution_count": 7,
     "metadata": {},
     "output_type": "execute_result"
    }
   ],
   "source": [
    "# Number of nulls\n",
    "df_trips_stops.isnull().sum()"
   ]
  },
  {
   "cell_type": "markdown",
   "metadata": {},
   "source": [
    "Let's look specifically at some of the rows with Null values"
   ]
  },
  {
   "cell_type": "code",
   "execution_count": 8,
   "metadata": {},
   "outputs": [
    {
     "data": {
      "text/html": [
       "<div>\n",
       "<style>\n",
       "    .dataframe thead tr:only-child th {\n",
       "        text-align: right;\n",
       "    }\n",
       "\n",
       "    .dataframe thead th {\n",
       "        text-align: left;\n",
       "    }\n",
       "\n",
       "    .dataframe tbody tr th {\n",
       "        vertical-align: top;\n",
       "    }\n",
       "</style>\n",
       "<table border=\"1\" class=\"dataframe\">\n",
       "  <thead>\n",
       "    <tr style=\"text-align: right;\">\n",
       "      <th></th>\n",
       "      <th>rt_trip_id</th>\n",
       "      <th>rt_stop_id</th>\n",
       "      <th>stop_offset</th>\n",
       "      <th>departure</th>\n",
       "      <th>lat</th>\n",
       "      <th>lng</th>\n",
       "      <th>distance_prev</th>\n",
       "    </tr>\n",
       "  </thead>\n",
       "  <tbody>\n",
       "    <tr>\n",
       "      <th>4</th>\n",
       "      <td>201955862</td>\n",
       "      <td>53151</td>\n",
       "      <td>0</td>\n",
       "      <td>1568609160</td>\n",
       "      <td>45.582726</td>\n",
       "      <td>-73.542559</td>\n",
       "      <td>NaN</td>\n",
       "    </tr>\n",
       "    <tr>\n",
       "      <th>41</th>\n",
       "      <td>204062497</td>\n",
       "      <td>53151</td>\n",
       "      <td>0</td>\n",
       "      <td>1568641380</td>\n",
       "      <td>45.582726</td>\n",
       "      <td>-73.542559</td>\n",
       "      <td>NaN</td>\n",
       "    </tr>\n",
       "    <tr>\n",
       "      <th>79</th>\n",
       "      <td>201955395</td>\n",
       "      <td>53151</td>\n",
       "      <td>0</td>\n",
       "      <td>1568607180</td>\n",
       "      <td>45.582726</td>\n",
       "      <td>-73.542559</td>\n",
       "      <td>NaN</td>\n",
       "    </tr>\n",
       "    <tr>\n",
       "      <th>87</th>\n",
       "      <td>201955397</td>\n",
       "      <td>51661</td>\n",
       "      <td>0</td>\n",
       "      <td>1568609160</td>\n",
       "      <td>45.531006</td>\n",
       "      <td>-73.597669</td>\n",
       "      <td>NaN</td>\n",
       "    </tr>\n",
       "    <tr>\n",
       "      <th>122</th>\n",
       "      <td>204063324</td>\n",
       "      <td>51661</td>\n",
       "      <td>0</td>\n",
       "      <td>1568666160</td>\n",
       "      <td>45.531006</td>\n",
       "      <td>-73.597669</td>\n",
       "      <td>NaN</td>\n",
       "    </tr>\n",
       "  </tbody>\n",
       "</table>\n",
       "</div>"
      ],
      "text/plain": [
       "    rt_trip_id  rt_stop_id  stop_offset   departure        lat        lng  \\\n",
       "4    201955862       53151            0  1568609160  45.582726 -73.542559   \n",
       "41   204062497       53151            0  1568641380  45.582726 -73.542559   \n",
       "79   201955395       53151            0  1568607180  45.582726 -73.542559   \n",
       "87   201955397       51661            0  1568609160  45.531006 -73.597669   \n",
       "122  204063324       51661            0  1568666160  45.531006 -73.597669   \n",
       "\n",
       "     distance_prev  \n",
       "4              NaN  \n",
       "41             NaN  \n",
       "79             NaN  \n",
       "87             NaN  \n",
       "122            NaN  "
      ]
     },
     "execution_count": 8,
     "metadata": {},
     "output_type": "execute_result"
    }
   ],
   "source": [
    "df_trips_stops[df_trips_stops.isnull().any(axis=1)][:5]"
   ]
  },
  {
   "cell_type": "markdown",
   "metadata": {},
   "source": [
    "Now let's see how the zero values in stop_offset look"
   ]
  },
  {
   "cell_type": "code",
   "execution_count": 9,
   "metadata": {},
   "outputs": [
    {
     "data": {
      "text/html": [
       "<div>\n",
       "<style>\n",
       "    .dataframe thead tr:only-child th {\n",
       "        text-align: right;\n",
       "    }\n",
       "\n",
       "    .dataframe thead th {\n",
       "        text-align: left;\n",
       "    }\n",
       "\n",
       "    .dataframe tbody tr th {\n",
       "        vertical-align: top;\n",
       "    }\n",
       "</style>\n",
       "<table border=\"1\" class=\"dataframe\">\n",
       "  <thead>\n",
       "    <tr style=\"text-align: right;\">\n",
       "      <th></th>\n",
       "      <th>rt_trip_id</th>\n",
       "      <th>rt_stop_id</th>\n",
       "      <th>stop_offset</th>\n",
       "      <th>departure</th>\n",
       "      <th>lat</th>\n",
       "      <th>lng</th>\n",
       "      <th>distance_prev</th>\n",
       "    </tr>\n",
       "  </thead>\n",
       "  <tbody>\n",
       "    <tr>\n",
       "      <th>4</th>\n",
       "      <td>201955862</td>\n",
       "      <td>53151</td>\n",
       "      <td>0</td>\n",
       "      <td>1568609160</td>\n",
       "      <td>45.582726</td>\n",
       "      <td>-73.542559</td>\n",
       "      <td>NaN</td>\n",
       "    </tr>\n",
       "    <tr>\n",
       "      <th>41</th>\n",
       "      <td>204062497</td>\n",
       "      <td>53151</td>\n",
       "      <td>0</td>\n",
       "      <td>1568641380</td>\n",
       "      <td>45.582726</td>\n",
       "      <td>-73.542559</td>\n",
       "      <td>NaN</td>\n",
       "    </tr>\n",
       "    <tr>\n",
       "      <th>79</th>\n",
       "      <td>201955395</td>\n",
       "      <td>53151</td>\n",
       "      <td>0</td>\n",
       "      <td>1568607180</td>\n",
       "      <td>45.582726</td>\n",
       "      <td>-73.542559</td>\n",
       "      <td>NaN</td>\n",
       "    </tr>\n",
       "    <tr>\n",
       "      <th>87</th>\n",
       "      <td>201955397</td>\n",
       "      <td>51661</td>\n",
       "      <td>0</td>\n",
       "      <td>1568609160</td>\n",
       "      <td>45.531006</td>\n",
       "      <td>-73.597669</td>\n",
       "      <td>NaN</td>\n",
       "    </tr>\n",
       "    <tr>\n",
       "      <th>122</th>\n",
       "      <td>204063324</td>\n",
       "      <td>51661</td>\n",
       "      <td>0</td>\n",
       "      <td>1568666160</td>\n",
       "      <td>45.531006</td>\n",
       "      <td>-73.597669</td>\n",
       "      <td>NaN</td>\n",
       "    </tr>\n",
       "  </tbody>\n",
       "</table>\n",
       "</div>"
      ],
      "text/plain": [
       "    rt_trip_id  rt_stop_id  stop_offset   departure        lat        lng  \\\n",
       "4    201955862       53151            0  1568609160  45.582726 -73.542559   \n",
       "41   204062497       53151            0  1568641380  45.582726 -73.542559   \n",
       "79   201955395       53151            0  1568607180  45.582726 -73.542559   \n",
       "87   201955397       51661            0  1568609160  45.531006 -73.597669   \n",
       "122  204063324       51661            0  1568666160  45.531006 -73.597669   \n",
       "\n",
       "     distance_prev  \n",
       "4              NaN  \n",
       "41             NaN  \n",
       "79             NaN  \n",
       "87             NaN  \n",
       "122            NaN  "
      ]
     },
     "execution_count": 9,
     "metadata": {},
     "output_type": "execute_result"
    }
   ],
   "source": [
    "df_trips_stops.loc[df_trips_stops['stop_offset'] == 0][:5]"
   ]
  },
  {
   "cell_type": "markdown",
   "metadata": {},
   "source": [
    "Both dataframes seem to be identicall. Let's verify bellow:"
   ]
  },
  {
   "cell_type": "code",
   "execution_count": 10,
   "metadata": {},
   "outputs": [
    {
     "data": {
      "text/plain": [
       "True"
      ]
     },
     "execution_count": 10,
     "metadata": {},
     "output_type": "execute_result"
    }
   ],
   "source": [
    "df_trips_stops[df_trips_stops.isnull().any(axis=1)].equals(df_trips_stops.loc[df_trips_stops['stop_offset'] == 0])"
   ]
  },
  {
   "cell_type": "markdown",
   "metadata": {},
   "source": [
    "Both dataframes are exactly equal. This means that a 0 in 'stop_offset' is directly related to a missing value in 'distance_prev.\n",
    "Remembering that 'stop_offset' is defined as : 'the order of the stop for that bus journey. A bus trip starts with stop_offset zero'. This means that our missing (NaN) values are such because there are no readings emitted for 'distance_prev' when the bus is at the first stop. We can replace the missing values by 0 and we can be sure that it won't affect anything"
   ]
  },
  {
   "cell_type": "code",
   "execution_count": 11,
   "metadata": {
    "collapsed": true
   },
   "outputs": [],
   "source": [
    "df_trips_stops['distance_prev'].fillna(0, inplace=True)"
   ]
  },
  {
   "cell_type": "code",
   "execution_count": 12,
   "metadata": {},
   "outputs": [
    {
     "data": {
      "text/plain": [
       "rt_trip_id       0\n",
       "rt_stop_id       0\n",
       "stop_offset      0\n",
       "departure        0\n",
       "lat              0\n",
       "lng              0\n",
       "distance_prev    0\n",
       "dtype: int64"
      ]
     },
     "execution_count": 12,
     "metadata": {},
     "output_type": "execute_result"
    }
   ],
   "source": [
    "df_trips_stops.isnull().sum()"
   ]
  },
  {
   "cell_type": "markdown",
   "metadata": {},
   "source": [
    "Now we have no more missing values.\n",
    "\n"
   ]
  },
  {
   "cell_type": "markdown",
   "metadata": {},
   "source": [
    "### Data types\n",
    "\n",
    "From our info call on dataframe we can also see that the stop id is an object (rt_trip_id 600323 non-null object). And by by what we printed above we can verify that some of the trip id names are strings, lets see if we can do something about it."
   ]
  },
  {
   "cell_type": "code",
   "execution_count": 13,
   "metadata": {
    "collapsed": true
   },
   "outputs": [],
   "source": [
    "def find_strings_in_column(dataframe, column_name):\n",
    "    column_values = dataframe[column_name].values\n",
    "    stringed_rows = []\n",
    "    for index, val in enumerate(column_values):\n",
    "        try:\n",
    "            int_val = int(val)\n",
    "        except:\n",
    "            stringed_rows.append(dataframe.iloc[index])\n",
    "    return pd.DataFrame(stringed_rows)\n",
    "    \n",
    "def remove_rows_with_string_value(dataframe, column_name):\n",
    "    column_values = dataframe[column_name].values\n",
    "    clean_rows = []\n",
    "    count = 1 \n",
    "    for index, val in enumerate(column_values):\n",
    "        try:\n",
    "            int_val = int(val)\n",
    "            clean_rows.append(dataframe.iloc[index])\n",
    "        except:\n",
    "            print('Skipped row: ' + str(count))\n",
    "        \n",
    "        count += 1\n",
    "            \n",
    "    return pd.DataFrame(clean_rows)\n",
    "    "
   ]
  },
  {
   "cell_type": "code",
   "execution_count": 14,
   "metadata": {
    "collapsed": true
   },
   "outputs": [],
   "source": [
    "df_string_ids = find_strings_in_column(df_trips_stops, 'rt_trip_id')"
   ]
  },
  {
   "cell_type": "code",
   "execution_count": 15,
   "metadata": {},
   "outputs": [
    {
     "name": "stdout",
     "output_type": "stream",
     "text": [
      "(226, 7)\n"
     ]
    },
    {
     "data": {
      "text/html": [
       "<div>\n",
       "<style>\n",
       "    .dataframe thead tr:only-child th {\n",
       "        text-align: right;\n",
       "    }\n",
       "\n",
       "    .dataframe thead th {\n",
       "        text-align: left;\n",
       "    }\n",
       "\n",
       "    .dataframe tbody tr th {\n",
       "        vertical-align: top;\n",
       "    }\n",
       "</style>\n",
       "<table border=\"1\" class=\"dataframe\">\n",
       "  <thead>\n",
       "    <tr style=\"text-align: right;\">\n",
       "      <th></th>\n",
       "      <th>rt_trip_id</th>\n",
       "      <th>rt_stop_id</th>\n",
       "      <th>stop_offset</th>\n",
       "      <th>departure</th>\n",
       "      <th>lat</th>\n",
       "      <th>lng</th>\n",
       "      <th>distance_prev</th>\n",
       "    </tr>\n",
       "  </thead>\n",
       "  <tbody>\n",
       "    <tr>\n",
       "      <th>146192</th>\n",
       "      <td>19S-GLOBAUX-01-S_2_1</td>\n",
       "      <td>68</td>\n",
       "      <td>0</td>\n",
       "      <td>1568626200</td>\n",
       "      <td>45.558435</td>\n",
       "      <td>-73.722459</td>\n",
       "      <td>0.0</td>\n",
       "    </tr>\n",
       "    <tr>\n",
       "      <th>146193</th>\n",
       "      <td>19S-GLOBAUX-01-S_2_1</td>\n",
       "      <td>9999112</td>\n",
       "      <td>13</td>\n",
       "      <td>1568627460</td>\n",
       "      <td>45.515214</td>\n",
       "      <td>-73.561049</td>\n",
       "      <td>767.0</td>\n",
       "    </tr>\n",
       "    <tr>\n",
       "      <th>146194</th>\n",
       "      <td>19S-GLOBAUX-01-S_2_1</td>\n",
       "      <td>14</td>\n",
       "      <td>16</td>\n",
       "      <td>1568627700</td>\n",
       "      <td>45.501940</td>\n",
       "      <td>-73.563117</td>\n",
       "      <td>562.0</td>\n",
       "    </tr>\n",
       "    <tr>\n",
       "      <th>146195</th>\n",
       "      <td>19S-GLOBAUX-01-S_2_1</td>\n",
       "      <td>17</td>\n",
       "      <td>19</td>\n",
       "      <td>1568627940</td>\n",
       "      <td>45.488900</td>\n",
       "      <td>-73.576850</td>\n",
       "      <td>795.0</td>\n",
       "    </tr>\n",
       "    <tr>\n",
       "      <th>225981</th>\n",
       "      <td>19S-GLOBAUX-01-S_1_2</td>\n",
       "      <td>41</td>\n",
       "      <td>2</td>\n",
       "      <td>1568626380</td>\n",
       "      <td>45.457010</td>\n",
       "      <td>-73.581688</td>\n",
       "      <td>1203.0</td>\n",
       "    </tr>\n",
       "    <tr>\n",
       "      <th>225982</th>\n",
       "      <td>19S-GLOBAUX-01-S_1_2</td>\n",
       "      <td>39</td>\n",
       "      <td>4</td>\n",
       "      <td>1568626560</td>\n",
       "      <td>45.461893</td>\n",
       "      <td>-73.567074</td>\n",
       "      <td>549.0</td>\n",
       "    </tr>\n",
       "    <tr>\n",
       "      <th>225983</th>\n",
       "      <td>19S-GLOBAUX-01-S_1_2</td>\n",
       "      <td>36</td>\n",
       "      <td>7</td>\n",
       "      <td>1568626800</td>\n",
       "      <td>45.482505</td>\n",
       "      <td>-73.580178</td>\n",
       "      <td>1143.0</td>\n",
       "    </tr>\n",
       "    <tr>\n",
       "      <th>225984</th>\n",
       "      <td>19S-GLOBAUX-01-S_1_2</td>\n",
       "      <td>33</td>\n",
       "      <td>10</td>\n",
       "      <td>1568627100</td>\n",
       "      <td>45.500879</td>\n",
       "      <td>-73.574719</td>\n",
       "      <td>692.0</td>\n",
       "    </tr>\n",
       "    <tr>\n",
       "      <th>225985</th>\n",
       "      <td>19S-GLOBAUX-01-S_1_2</td>\n",
       "      <td>32</td>\n",
       "      <td>11</td>\n",
       "      <td>1568627160</td>\n",
       "      <td>45.504062</td>\n",
       "      <td>-73.571589</td>\n",
       "      <td>432.0</td>\n",
       "    </tr>\n",
       "    <tr>\n",
       "      <th>225986</th>\n",
       "      <td>19S-GLOBAUX-01-S_1_2</td>\n",
       "      <td>31</td>\n",
       "      <td>12</td>\n",
       "      <td>1568627280</td>\n",
       "      <td>45.508217</td>\n",
       "      <td>-73.568432</td>\n",
       "      <td>523.0</td>\n",
       "    </tr>\n",
       "    <tr>\n",
       "      <th>225987</th>\n",
       "      <td>19S-GLOBAUX-01-S_1_2</td>\n",
       "      <td>30</td>\n",
       "      <td>13</td>\n",
       "      <td>1568627340</td>\n",
       "      <td>45.511032</td>\n",
       "      <td>-73.564898</td>\n",
       "      <td>424.0</td>\n",
       "    </tr>\n",
       "    <tr>\n",
       "      <th>225988</th>\n",
       "      <td>19S-GLOBAUX-01-S_1_2</td>\n",
       "      <td>9999111</td>\n",
       "      <td>14</td>\n",
       "      <td>1568627400</td>\n",
       "      <td>45.515223</td>\n",
       "      <td>-73.561085</td>\n",
       "      <td>554.0</td>\n",
       "    </tr>\n",
       "    <tr>\n",
       "      <th>225989</th>\n",
       "      <td>19S-GLOBAUX-01-S_1_2</td>\n",
       "      <td>26</td>\n",
       "      <td>18</td>\n",
       "      <td>1568627760</td>\n",
       "      <td>45.541717</td>\n",
       "      <td>-73.554196</td>\n",
       "      <td>1155.0</td>\n",
       "    </tr>\n",
       "    <tr>\n",
       "      <th>256888</th>\n",
       "      <td>19S-GLOBAUX-01-S_2_0_205238755</td>\n",
       "      <td>46</td>\n",
       "      <td>9</td>\n",
       "      <td>1568637780</td>\n",
       "      <td>45.477316</td>\n",
       "      <td>-73.586626</td>\n",
       "      <td>1573.0</td>\n",
       "    </tr>\n",
       "    <tr>\n",
       "      <th>256889</th>\n",
       "      <td>19S-GLOBAUX-01-S_2_0_205238755</td>\n",
       "      <td>36</td>\n",
       "      <td>10</td>\n",
       "      <td>1568637840</td>\n",
       "      <td>45.482505</td>\n",
       "      <td>-73.580178</td>\n",
       "      <td>781.0</td>\n",
       "    </tr>\n",
       "    <tr>\n",
       "      <th>256890</th>\n",
       "      <td>19S-GLOBAUX-01-S_2_0_205238755</td>\n",
       "      <td>14</td>\n",
       "      <td>14</td>\n",
       "      <td>1568638200</td>\n",
       "      <td>45.501940</td>\n",
       "      <td>-73.563117</td>\n",
       "      <td>536.0</td>\n",
       "    </tr>\n",
       "    <tr>\n",
       "      <th>256891</th>\n",
       "      <td>19S-GLOBAUX-01-S_2_0_205238755</td>\n",
       "      <td>9999112</td>\n",
       "      <td>17</td>\n",
       "      <td>1568638440</td>\n",
       "      <td>45.515214</td>\n",
       "      <td>-73.561049</td>\n",
       "      <td>872.0</td>\n",
       "    </tr>\n",
       "    <tr>\n",
       "      <th>256892</th>\n",
       "      <td>19S-GLOBAUX-01-S_2_0_205238755</td>\n",
       "      <td>3</td>\n",
       "      <td>25</td>\n",
       "      <td>1568639160</td>\n",
       "      <td>45.546078</td>\n",
       "      <td>-73.639056</td>\n",
       "      <td>864.0</td>\n",
       "    </tr>\n",
       "    <tr>\n",
       "      <th>279492</th>\n",
       "      <td>19S-GLOBAUX-01-S_2_1</td>\n",
       "      <td>68</td>\n",
       "      <td>0</td>\n",
       "      <td>1568626200</td>\n",
       "      <td>45.558435</td>\n",
       "      <td>-73.722459</td>\n",
       "      <td>0.0</td>\n",
       "    </tr>\n",
       "    <tr>\n",
       "      <th>279493</th>\n",
       "      <td>19S-GLOBAUX-01-S_2_1</td>\n",
       "      <td>9999112</td>\n",
       "      <td>13</td>\n",
       "      <td>1568627460</td>\n",
       "      <td>45.515214</td>\n",
       "      <td>-73.561049</td>\n",
       "      <td>767.0</td>\n",
       "    </tr>\n",
       "  </tbody>\n",
       "</table>\n",
       "</div>"
      ],
      "text/plain": [
       "                            rt_trip_id  rt_stop_id  stop_offset   departure  \\\n",
       "146192            19S-GLOBAUX-01-S_2_1          68            0  1568626200   \n",
       "146193            19S-GLOBAUX-01-S_2_1     9999112           13  1568627460   \n",
       "146194            19S-GLOBAUX-01-S_2_1          14           16  1568627700   \n",
       "146195            19S-GLOBAUX-01-S_2_1          17           19  1568627940   \n",
       "225981            19S-GLOBAUX-01-S_1_2          41            2  1568626380   \n",
       "225982            19S-GLOBAUX-01-S_1_2          39            4  1568626560   \n",
       "225983            19S-GLOBAUX-01-S_1_2          36            7  1568626800   \n",
       "225984            19S-GLOBAUX-01-S_1_2          33           10  1568627100   \n",
       "225985            19S-GLOBAUX-01-S_1_2          32           11  1568627160   \n",
       "225986            19S-GLOBAUX-01-S_1_2          31           12  1568627280   \n",
       "225987            19S-GLOBAUX-01-S_1_2          30           13  1568627340   \n",
       "225988            19S-GLOBAUX-01-S_1_2     9999111           14  1568627400   \n",
       "225989            19S-GLOBAUX-01-S_1_2          26           18  1568627760   \n",
       "256888  19S-GLOBAUX-01-S_2_0_205238755          46            9  1568637780   \n",
       "256889  19S-GLOBAUX-01-S_2_0_205238755          36           10  1568637840   \n",
       "256890  19S-GLOBAUX-01-S_2_0_205238755          14           14  1568638200   \n",
       "256891  19S-GLOBAUX-01-S_2_0_205238755     9999112           17  1568638440   \n",
       "256892  19S-GLOBAUX-01-S_2_0_205238755           3           25  1568639160   \n",
       "279492            19S-GLOBAUX-01-S_2_1          68            0  1568626200   \n",
       "279493            19S-GLOBAUX-01-S_2_1     9999112           13  1568627460   \n",
       "\n",
       "              lat        lng  distance_prev  \n",
       "146192  45.558435 -73.722459            0.0  \n",
       "146193  45.515214 -73.561049          767.0  \n",
       "146194  45.501940 -73.563117          562.0  \n",
       "146195  45.488900 -73.576850          795.0  \n",
       "225981  45.457010 -73.581688         1203.0  \n",
       "225982  45.461893 -73.567074          549.0  \n",
       "225983  45.482505 -73.580178         1143.0  \n",
       "225984  45.500879 -73.574719          692.0  \n",
       "225985  45.504062 -73.571589          432.0  \n",
       "225986  45.508217 -73.568432          523.0  \n",
       "225987  45.511032 -73.564898          424.0  \n",
       "225988  45.515223 -73.561085          554.0  \n",
       "225989  45.541717 -73.554196         1155.0  \n",
       "256888  45.477316 -73.586626         1573.0  \n",
       "256889  45.482505 -73.580178          781.0  \n",
       "256890  45.501940 -73.563117          536.0  \n",
       "256891  45.515214 -73.561049          872.0  \n",
       "256892  45.546078 -73.639056          864.0  \n",
       "279492  45.558435 -73.722459            0.0  \n",
       "279493  45.515214 -73.561049          767.0  "
      ]
     },
     "execution_count": 15,
     "metadata": {},
     "output_type": "execute_result"
    }
   ],
   "source": [
    "print(df_string_ids.shape)\n",
    "df_string_ids.head(20)"
   ]
  },
  {
   "cell_type": "markdown",
   "metadata": {},
   "source": [
    "We have 27 rows with very ugly names for trip id. Whithin which only four are unique."
   ]
  },
  {
   "cell_type": "code",
   "execution_count": 16,
   "metadata": {
    "collapsed": true
   },
   "outputs": [],
   "source": [
    "df_grouped_by_trip = df_trips_stops.groupby('rt_trip_id') \n",
    "df_per_trip = df_grouped_by_trip.get_group('203579837') "
   ]
  },
  {
   "cell_type": "code",
   "execution_count": 17,
   "metadata": {},
   "outputs": [
    {
     "name": "stdout",
     "output_type": "stream",
     "text": [
      "(40, 7)\n"
     ]
    },
    {
     "data": {
      "text/html": [
       "<div>\n",
       "<style>\n",
       "    .dataframe thead tr:only-child th {\n",
       "        text-align: right;\n",
       "    }\n",
       "\n",
       "    .dataframe thead th {\n",
       "        text-align: left;\n",
       "    }\n",
       "\n",
       "    .dataframe tbody tr th {\n",
       "        vertical-align: top;\n",
       "    }\n",
       "</style>\n",
       "<table border=\"1\" class=\"dataframe\">\n",
       "  <thead>\n",
       "    <tr style=\"text-align: right;\">\n",
       "      <th></th>\n",
       "      <th>rt_trip_id</th>\n",
       "      <th>rt_stop_id</th>\n",
       "      <th>stop_offset</th>\n",
       "      <th>departure</th>\n",
       "      <th>lat</th>\n",
       "      <th>lng</th>\n",
       "      <th>distance_prev</th>\n",
       "    </tr>\n",
       "  </thead>\n",
       "  <tbody>\n",
       "    <tr>\n",
       "      <th>147054</th>\n",
       "      <td>203579837</td>\n",
       "      <td>61690</td>\n",
       "      <td>0</td>\n",
       "      <td>1568628660</td>\n",
       "      <td>45.662046</td>\n",
       "      <td>-73.538242</td>\n",
       "      <td>0.0</td>\n",
       "    </tr>\n",
       "    <tr>\n",
       "      <th>147055</th>\n",
       "      <td>203579837</td>\n",
       "      <td>53225</td>\n",
       "      <td>1</td>\n",
       "      <td>1568628725</td>\n",
       "      <td>45.664078</td>\n",
       "      <td>-73.536066</td>\n",
       "      <td>538.0</td>\n",
       "    </tr>\n",
       "    <tr>\n",
       "      <th>147056</th>\n",
       "      <td>203579837</td>\n",
       "      <td>53208</td>\n",
       "      <td>2</td>\n",
       "      <td>1568628746</td>\n",
       "      <td>45.665454</td>\n",
       "      <td>-73.537091</td>\n",
       "      <td>172.0</td>\n",
       "    </tr>\n",
       "    <tr>\n",
       "      <th>147057</th>\n",
       "      <td>203579837</td>\n",
       "      <td>53187</td>\n",
       "      <td>3</td>\n",
       "      <td>1568628780</td>\n",
       "      <td>45.667667</td>\n",
       "      <td>-73.538737</td>\n",
       "      <td>278.0</td>\n",
       "    </tr>\n",
       "    <tr>\n",
       "      <th>147058</th>\n",
       "      <td>203579837</td>\n",
       "      <td>53156</td>\n",
       "      <td>4</td>\n",
       "      <td>1568628823</td>\n",
       "      <td>45.669663</td>\n",
       "      <td>-73.540221</td>\n",
       "      <td>251.0</td>\n",
       "    </tr>\n",
       "  </tbody>\n",
       "</table>\n",
       "</div>"
      ],
      "text/plain": [
       "       rt_trip_id  rt_stop_id  stop_offset   departure        lat        lng  \\\n",
       "147054  203579837       61690            0  1568628660  45.662046 -73.538242   \n",
       "147055  203579837       53225            1  1568628725  45.664078 -73.536066   \n",
       "147056  203579837       53208            2  1568628746  45.665454 -73.537091   \n",
       "147057  203579837       53187            3  1568628780  45.667667 -73.538737   \n",
       "147058  203579837       53156            4  1568628823  45.669663 -73.540221   \n",
       "\n",
       "        distance_prev  \n",
       "147054            0.0  \n",
       "147055          538.0  \n",
       "147056          172.0  \n",
       "147057          278.0  \n",
       "147058          251.0  "
      ]
     },
     "execution_count": 17,
     "metadata": {},
     "output_type": "execute_result"
    }
   ],
   "source": [
    "print(df_per_trip.shape)\n",
    "df_per_trip.head()"
   ]
  },
  {
   "cell_type": "code",
   "execution_count": 18,
   "metadata": {},
   "outputs": [
    {
     "data": {
      "text/html": [
       "<div>\n",
       "<style>\n",
       "    .dataframe thead tr:only-child th {\n",
       "        text-align: right;\n",
       "    }\n",
       "\n",
       "    .dataframe thead th {\n",
       "        text-align: left;\n",
       "    }\n",
       "\n",
       "    .dataframe tbody tr th {\n",
       "        vertical-align: top;\n",
       "    }\n",
       "</style>\n",
       "<table border=\"1\" class=\"dataframe\">\n",
       "  <thead>\n",
       "    <tr style=\"text-align: right;\">\n",
       "      <th></th>\n",
       "      <th>rt_trip_id</th>\n",
       "      <th>rt_stop_id</th>\n",
       "      <th>stop_offset</th>\n",
       "      <th>departure</th>\n",
       "      <th>lat</th>\n",
       "      <th>lng</th>\n",
       "      <th>distance_prev</th>\n",
       "    </tr>\n",
       "  </thead>\n",
       "  <tbody>\n",
       "    <tr>\n",
       "      <th>146190</th>\n",
       "      <td>203895443</td>\n",
       "      <td>52697</td>\n",
       "      <td>38</td>\n",
       "      <td>1568637900</td>\n",
       "      <td>45.505879</td>\n",
       "      <td>-73.564394</td>\n",
       "      <td>263.0</td>\n",
       "    </tr>\n",
       "    <tr>\n",
       "      <th>146191</th>\n",
       "      <td>203895443</td>\n",
       "      <td>52587</td>\n",
       "      <td>39</td>\n",
       "      <td>1568638080</td>\n",
       "      <td>45.502129</td>\n",
       "      <td>-73.567335</td>\n",
       "      <td>477.0</td>\n",
       "    </tr>\n",
       "    <tr>\n",
       "      <th>146192</th>\n",
       "      <td>19S-GLOBAUX-01-S_2_1</td>\n",
       "      <td>68</td>\n",
       "      <td>0</td>\n",
       "      <td>1568626200</td>\n",
       "      <td>45.558435</td>\n",
       "      <td>-73.722459</td>\n",
       "      <td>0.0</td>\n",
       "    </tr>\n",
       "    <tr>\n",
       "      <th>146193</th>\n",
       "      <td>19S-GLOBAUX-01-S_2_1</td>\n",
       "      <td>9999112</td>\n",
       "      <td>13</td>\n",
       "      <td>1568627460</td>\n",
       "      <td>45.515214</td>\n",
       "      <td>-73.561049</td>\n",
       "      <td>767.0</td>\n",
       "    </tr>\n",
       "    <tr>\n",
       "      <th>146194</th>\n",
       "      <td>19S-GLOBAUX-01-S_2_1</td>\n",
       "      <td>14</td>\n",
       "      <td>16</td>\n",
       "      <td>1568627700</td>\n",
       "      <td>45.501940</td>\n",
       "      <td>-73.563117</td>\n",
       "      <td>562.0</td>\n",
       "    </tr>\n",
       "    <tr>\n",
       "      <th>146195</th>\n",
       "      <td>19S-GLOBAUX-01-S_2_1</td>\n",
       "      <td>17</td>\n",
       "      <td>19</td>\n",
       "      <td>1568627940</td>\n",
       "      <td>45.488900</td>\n",
       "      <td>-73.576850</td>\n",
       "      <td>795.0</td>\n",
       "    </tr>\n",
       "    <tr>\n",
       "      <th>146196</th>\n",
       "      <td>204028608</td>\n",
       "      <td>60238</td>\n",
       "      <td>0</td>\n",
       "      <td>1568628900</td>\n",
       "      <td>45.489115</td>\n",
       "      <td>-73.583424</td>\n",
       "      <td>0.0</td>\n",
       "    </tr>\n",
       "    <tr>\n",
       "      <th>146197</th>\n",
       "      <td>204028608</td>\n",
       "      <td>56302</td>\n",
       "      <td>1</td>\n",
       "      <td>1568628960</td>\n",
       "      <td>45.488621</td>\n",
       "      <td>-73.585457</td>\n",
       "      <td>241.0</td>\n",
       "    </tr>\n",
       "    <tr>\n",
       "      <th>146198</th>\n",
       "      <td>204028608</td>\n",
       "      <td>56296</td>\n",
       "      <td>2</td>\n",
       "      <td>1568629020</td>\n",
       "      <td>45.487614</td>\n",
       "      <td>-73.586626</td>\n",
       "      <td>144.0</td>\n",
       "    </tr>\n",
       "  </tbody>\n",
       "</table>\n",
       "</div>"
      ],
      "text/plain": [
       "                  rt_trip_id  rt_stop_id  stop_offset   departure        lat  \\\n",
       "146190             203895443       52697           38  1568637900  45.505879   \n",
       "146191             203895443       52587           39  1568638080  45.502129   \n",
       "146192  19S-GLOBAUX-01-S_2_1          68            0  1568626200  45.558435   \n",
       "146193  19S-GLOBAUX-01-S_2_1     9999112           13  1568627460  45.515214   \n",
       "146194  19S-GLOBAUX-01-S_2_1          14           16  1568627700  45.501940   \n",
       "146195  19S-GLOBAUX-01-S_2_1          17           19  1568627940  45.488900   \n",
       "146196             204028608       60238            0  1568628900  45.489115   \n",
       "146197             204028608       56302            1  1568628960  45.488621   \n",
       "146198             204028608       56296            2  1568629020  45.487614   \n",
       "\n",
       "              lng  distance_prev  \n",
       "146190 -73.564394          263.0  \n",
       "146191 -73.567335          477.0  \n",
       "146192 -73.722459            0.0  \n",
       "146193 -73.561049          767.0  \n",
       "146194 -73.563117          562.0  \n",
       "146195 -73.576850          795.0  \n",
       "146196 -73.583424            0.0  \n",
       "146197 -73.585457          241.0  \n",
       "146198 -73.586626          144.0  "
      ]
     },
     "execution_count": 18,
     "metadata": {},
     "output_type": "execute_result"
    }
   ],
   "source": [
    "# df_trips_stops.iloc[225988] # 146194\n",
    "df_trips_stops[146190:146199]"
   ]
  },
  {
   "cell_type": "code",
   "execution_count": 19,
   "metadata": {},
   "outputs": [
    {
     "data": {
      "text/html": [
       "<div>\n",
       "<style>\n",
       "    .dataframe thead tr:only-child th {\n",
       "        text-align: right;\n",
       "    }\n",
       "\n",
       "    .dataframe thead th {\n",
       "        text-align: left;\n",
       "    }\n",
       "\n",
       "    .dataframe tbody tr th {\n",
       "        vertical-align: top;\n",
       "    }\n",
       "</style>\n",
       "<table border=\"1\" class=\"dataframe\">\n",
       "  <thead>\n",
       "    <tr style=\"text-align: right;\">\n",
       "      <th></th>\n",
       "      <th>rt_trip_id</th>\n",
       "      <th>rt_stop_id</th>\n",
       "      <th>stop_offset</th>\n",
       "      <th>departure</th>\n",
       "      <th>lat</th>\n",
       "      <th>lng</th>\n",
       "      <th>distance_prev</th>\n",
       "    </tr>\n",
       "  </thead>\n",
       "  <tbody>\n",
       "  </tbody>\n",
       "</table>\n",
       "</div>"
      ],
      "text/plain": [
       "Empty DataFrame\n",
       "Columns: [rt_trip_id, rt_stop_id, stop_offset, departure, lat, lng, distance_prev]\n",
       "Index: []"
      ]
     },
     "execution_count": 19,
     "metadata": {},
     "output_type": "execute_result"
    }
   ],
   "source": [
    "df_trips_stops[256888:225992]"
   ]
  },
  {
   "cell_type": "code",
   "execution_count": 20,
   "metadata": {},
   "outputs": [
    {
     "data": {
      "text/html": [
       "<div>\n",
       "<style>\n",
       "    .dataframe thead tr:only-child th {\n",
       "        text-align: right;\n",
       "    }\n",
       "\n",
       "    .dataframe thead th {\n",
       "        text-align: left;\n",
       "    }\n",
       "\n",
       "    .dataframe tbody tr th {\n",
       "        vertical-align: top;\n",
       "    }\n",
       "</style>\n",
       "<table border=\"1\" class=\"dataframe\">\n",
       "  <thead>\n",
       "    <tr style=\"text-align: right;\">\n",
       "      <th></th>\n",
       "      <th>rt_trip_id</th>\n",
       "      <th>rt_stop_id</th>\n",
       "      <th>stop_offset</th>\n",
       "      <th>departure</th>\n",
       "      <th>lat</th>\n",
       "      <th>lng</th>\n",
       "      <th>distance_prev</th>\n",
       "    </tr>\n",
       "  </thead>\n",
       "  <tbody>\n",
       "    <tr>\n",
       "      <th>256886</th>\n",
       "      <td>203580116</td>\n",
       "      <td>53301</td>\n",
       "      <td>44</td>\n",
       "      <td>1568662860</td>\n",
       "      <td>45.603383</td>\n",
       "      <td>-73.531084</td>\n",
       "      <td>157.0</td>\n",
       "    </tr>\n",
       "    <tr>\n",
       "      <th>256887</th>\n",
       "      <td>203580116</td>\n",
       "      <td>53287</td>\n",
       "      <td>45</td>\n",
       "      <td>1568662920</td>\n",
       "      <td>45.601135</td>\n",
       "      <td>-73.532424</td>\n",
       "      <td>271.0</td>\n",
       "    </tr>\n",
       "    <tr>\n",
       "      <th>256888</th>\n",
       "      <td>19S-GLOBAUX-01-S_2_0_205238755</td>\n",
       "      <td>46</td>\n",
       "      <td>9</td>\n",
       "      <td>1568637780</td>\n",
       "      <td>45.477316</td>\n",
       "      <td>-73.586626</td>\n",
       "      <td>1573.0</td>\n",
       "    </tr>\n",
       "    <tr>\n",
       "      <th>256889</th>\n",
       "      <td>19S-GLOBAUX-01-S_2_0_205238755</td>\n",
       "      <td>36</td>\n",
       "      <td>10</td>\n",
       "      <td>1568637840</td>\n",
       "      <td>45.482505</td>\n",
       "      <td>-73.580178</td>\n",
       "      <td>781.0</td>\n",
       "    </tr>\n",
       "    <tr>\n",
       "      <th>256890</th>\n",
       "      <td>19S-GLOBAUX-01-S_2_0_205238755</td>\n",
       "      <td>14</td>\n",
       "      <td>14</td>\n",
       "      <td>1568638200</td>\n",
       "      <td>45.501940</td>\n",
       "      <td>-73.563117</td>\n",
       "      <td>536.0</td>\n",
       "    </tr>\n",
       "    <tr>\n",
       "      <th>256891</th>\n",
       "      <td>19S-GLOBAUX-01-S_2_0_205238755</td>\n",
       "      <td>9999112</td>\n",
       "      <td>17</td>\n",
       "      <td>1568638440</td>\n",
       "      <td>45.515214</td>\n",
       "      <td>-73.561049</td>\n",
       "      <td>872.0</td>\n",
       "    </tr>\n",
       "    <tr>\n",
       "      <th>256892</th>\n",
       "      <td>19S-GLOBAUX-01-S_2_0_205238755</td>\n",
       "      <td>3</td>\n",
       "      <td>25</td>\n",
       "      <td>1568639160</td>\n",
       "      <td>45.546078</td>\n",
       "      <td>-73.639056</td>\n",
       "      <td>864.0</td>\n",
       "    </tr>\n",
       "    <tr>\n",
       "      <th>256893</th>\n",
       "      <td>204905352</td>\n",
       "      <td>57795</td>\n",
       "      <td>0</td>\n",
       "      <td>1568634180</td>\n",
       "      <td>45.465553</td>\n",
       "      <td>-73.831250</td>\n",
       "      <td>0.0</td>\n",
       "    </tr>\n",
       "    <tr>\n",
       "      <th>256894</th>\n",
       "      <td>204905352</td>\n",
       "      <td>57621</td>\n",
       "      <td>1</td>\n",
       "      <td>1568634300</td>\n",
       "      <td>45.467298</td>\n",
       "      <td>-73.829541</td>\n",
       "      <td>469.0</td>\n",
       "    </tr>\n",
       "  </tbody>\n",
       "</table>\n",
       "</div>"
      ],
      "text/plain": [
       "                            rt_trip_id  rt_stop_id  stop_offset   departure  \\\n",
       "256886                       203580116       53301           44  1568662860   \n",
       "256887                       203580116       53287           45  1568662920   \n",
       "256888  19S-GLOBAUX-01-S_2_0_205238755          46            9  1568637780   \n",
       "256889  19S-GLOBAUX-01-S_2_0_205238755          36           10  1568637840   \n",
       "256890  19S-GLOBAUX-01-S_2_0_205238755          14           14  1568638200   \n",
       "256891  19S-GLOBAUX-01-S_2_0_205238755     9999112           17  1568638440   \n",
       "256892  19S-GLOBAUX-01-S_2_0_205238755           3           25  1568639160   \n",
       "256893                       204905352       57795            0  1568634180   \n",
       "256894                       204905352       57621            1  1568634300   \n",
       "\n",
       "              lat        lng  distance_prev  \n",
       "256886  45.603383 -73.531084          157.0  \n",
       "256887  45.601135 -73.532424          271.0  \n",
       "256888  45.477316 -73.586626         1573.0  \n",
       "256889  45.482505 -73.580178          781.0  \n",
       "256890  45.501940 -73.563117          536.0  \n",
       "256891  45.515214 -73.561049          872.0  \n",
       "256892  45.546078 -73.639056          864.0  \n",
       "256893  45.465553 -73.831250            0.0  \n",
       "256894  45.467298 -73.829541          469.0  "
      ]
     },
     "execution_count": 20,
     "metadata": {},
     "output_type": "execute_result"
    }
   ],
   "source": [
    "df_trips_stops[256886:256895]"
   ]
  },
  {
   "cell_type": "code",
   "execution_count": 21,
   "metadata": {},
   "outputs": [
    {
     "data": {
      "text/html": [
       "<div>\n",
       "<style>\n",
       "    .dataframe thead tr:only-child th {\n",
       "        text-align: right;\n",
       "    }\n",
       "\n",
       "    .dataframe thead th {\n",
       "        text-align: left;\n",
       "    }\n",
       "\n",
       "    .dataframe tbody tr th {\n",
       "        vertical-align: top;\n",
       "    }\n",
       "</style>\n",
       "<table border=\"1\" class=\"dataframe\">\n",
       "  <thead>\n",
       "    <tr style=\"text-align: right;\">\n",
       "      <th></th>\n",
       "      <th>rt_trip_id</th>\n",
       "      <th>rt_stop_id</th>\n",
       "      <th>stop_offset</th>\n",
       "      <th>departure</th>\n",
       "      <th>lat</th>\n",
       "      <th>lng</th>\n",
       "      <th>distance_prev</th>\n",
       "    </tr>\n",
       "  </thead>\n",
       "  <tbody>\n",
       "    <tr>\n",
       "      <th>279490</th>\n",
       "      <td>204028024</td>\n",
       "      <td>52003</td>\n",
       "      <td>27</td>\n",
       "      <td>1568675160</td>\n",
       "      <td>45.475464</td>\n",
       "      <td>-73.586419</td>\n",
       "      <td>283.0</td>\n",
       "    </tr>\n",
       "    <tr>\n",
       "      <th>279491</th>\n",
       "      <td>204028024</td>\n",
       "      <td>54283</td>\n",
       "      <td>28</td>\n",
       "      <td>1568675220</td>\n",
       "      <td>45.476552</td>\n",
       "      <td>-73.588595</td>\n",
       "      <td>276.0</td>\n",
       "    </tr>\n",
       "    <tr>\n",
       "      <th>279492</th>\n",
       "      <td>19S-GLOBAUX-01-S_2_1</td>\n",
       "      <td>68</td>\n",
       "      <td>0</td>\n",
       "      <td>1568626200</td>\n",
       "      <td>45.558435</td>\n",
       "      <td>-73.722459</td>\n",
       "      <td>0.0</td>\n",
       "    </tr>\n",
       "    <tr>\n",
       "      <th>279493</th>\n",
       "      <td>19S-GLOBAUX-01-S_2_1</td>\n",
       "      <td>9999112</td>\n",
       "      <td>13</td>\n",
       "      <td>1568627460</td>\n",
       "      <td>45.515214</td>\n",
       "      <td>-73.561049</td>\n",
       "      <td>767.0</td>\n",
       "    </tr>\n",
       "    <tr>\n",
       "      <th>279494</th>\n",
       "      <td>19S-GLOBAUX-01-S_2_1</td>\n",
       "      <td>14</td>\n",
       "      <td>16</td>\n",
       "      <td>1568627700</td>\n",
       "      <td>45.501940</td>\n",
       "      <td>-73.563117</td>\n",
       "      <td>562.0</td>\n",
       "    </tr>\n",
       "    <tr>\n",
       "      <th>279495</th>\n",
       "      <td>19S-GLOBAUX-01-S_2_1</td>\n",
       "      <td>17</td>\n",
       "      <td>19</td>\n",
       "      <td>1568627940</td>\n",
       "      <td>45.488900</td>\n",
       "      <td>-73.576850</td>\n",
       "      <td>795.0</td>\n",
       "    </tr>\n",
       "    <tr>\n",
       "      <th>279496</th>\n",
       "      <td>203581397</td>\n",
       "      <td>54837</td>\n",
       "      <td>2</td>\n",
       "      <td>1568634420</td>\n",
       "      <td>45.603500</td>\n",
       "      <td>-73.600889</td>\n",
       "      <td>323.0</td>\n",
       "    </tr>\n",
       "    <tr>\n",
       "      <th>279497</th>\n",
       "      <td>203581397</td>\n",
       "      <td>54862</td>\n",
       "      <td>3</td>\n",
       "      <td>1568634472</td>\n",
       "      <td>45.601755</td>\n",
       "      <td>-73.597975</td>\n",
       "      <td>299.0</td>\n",
       "    </tr>\n",
       "  </tbody>\n",
       "</table>\n",
       "</div>"
      ],
      "text/plain": [
       "                  rt_trip_id  rt_stop_id  stop_offset   departure        lat  \\\n",
       "279490             204028024       52003           27  1568675160  45.475464   \n",
       "279491             204028024       54283           28  1568675220  45.476552   \n",
       "279492  19S-GLOBAUX-01-S_2_1          68            0  1568626200  45.558435   \n",
       "279493  19S-GLOBAUX-01-S_2_1     9999112           13  1568627460  45.515214   \n",
       "279494  19S-GLOBAUX-01-S_2_1          14           16  1568627700  45.501940   \n",
       "279495  19S-GLOBAUX-01-S_2_1          17           19  1568627940  45.488900   \n",
       "279496             203581397       54837            2  1568634420  45.603500   \n",
       "279497             203581397       54862            3  1568634472  45.601755   \n",
       "\n",
       "              lng  distance_prev  \n",
       "279490 -73.586419          283.0  \n",
       "279491 -73.588595          276.0  \n",
       "279492 -73.722459            0.0  \n",
       "279493 -73.561049          767.0  \n",
       "279494 -73.563117          562.0  \n",
       "279495 -73.576850          795.0  \n",
       "279496 -73.600889          323.0  \n",
       "279497 -73.597975          299.0  "
      ]
     },
     "execution_count": 21,
     "metadata": {},
     "output_type": "execute_result"
    }
   ],
   "source": [
    "df_trips_stops[279490:279498]"
   ]
  },
  {
   "cell_type": "markdown",
   "metadata": {},
   "source": [
    "The routes above ill be considered anomalous since they show no continuity in the stop+offset feature and the stop and trip id are completely out of the normal. In the case of trip id it is a string and in the case of stop id they are either too small or large and they do not appear to be shared among other routes. This could be because the routes are very isolated or because our data ingestion mechanisms are not working properly. \n",
    "\n",
    "Let's remove them.\n",
    "\n"
   ]
  },
  {
   "cell_type": "code",
   "execution_count": 1,
   "metadata": {},
   "outputs": [],
   "source": [
    "df_trips_stops = remove_rows_with_string_value(df_trips_stops, 'rt_trip_id')"
   ]
  },
  {
   "cell_type": "code",
   "execution_count": 23,
   "metadata": {},
   "outputs": [
    {
     "name": "stdout",
     "output_type": "stream",
     "text": [
      "600097\n",
      "226\n"
     ]
    },
    {
     "data": {
      "text/plain": [
       "(0, 0)"
      ]
     },
     "execution_count": 23,
     "metadata": {},
     "output_type": "execute_result"
    }
   ],
   "source": [
    "print(df_trips_stops.shape[0]) # Length before: 600323\n",
    "print(df_string_ids.shape[0]) # 226\n",
    "# print(df_test.shape[0])\n",
    "\n",
    "assert 600323 - df_string_ids.shape[0] == df_trips_stops.shape[0]\n",
    "\n",
    "find_strings_in_column(df_trips_stops, 'rt_trip_id').shape\n"
   ]
  },
  {
   "cell_type": "markdown",
   "metadata": {},
   "source": [
    "### Duplicates"
   ]
  },
  {
   "cell_type": "code",
   "execution_count": 24,
   "metadata": {},
   "outputs": [
    {
     "data": {
      "text/plain": [
       "rt_stop_id  rt_trip_id\n",
       "50101       201955932     1\n",
       "            201956072     1\n",
       "            201956123     1\n",
       "            204063388     1\n",
       "            204063391     1\n",
       "            204063394     1\n",
       "            204063397     1\n",
       "            204063400     1\n",
       "            204063403     1\n",
       "            204063406     1\n",
       "            204063432     1\n",
       "            204063435     1\n",
       "            204063451     1\n",
       "            204063454     1\n",
       "            204063457     1\n",
       "dtype: int64"
      ]
     },
     "execution_count": 24,
     "metadata": {},
     "output_type": "execute_result"
    }
   ],
   "source": [
    "df_trips_stops.groupby(['rt_stop_id', 'rt_trip_id']).size()[:15]\n"
   ]
  },
  {
   "cell_type": "markdown",
   "metadata": {},
   "source": [
    "Seems like we have several goups with rows that have the same stop and trip id. Now if those same records had the same departure date then we would be sure that the records are duplicate. There is never two buses leaving the same stop for the same trip at exactly the same time!!"
   ]
  },
  {
   "cell_type": "code",
   "execution_count": 25,
   "metadata": {
    "collapsed": true
   },
   "outputs": [],
   "source": [
    " df_trips_stops.drop_duplicates(['rt_trip_id', 'rt_stop_id', 'departure'], inplace=True)"
   ]
  },
  {
   "cell_type": "code",
   "execution_count": 26,
   "metadata": {},
   "outputs": [
    {
     "data": {
      "text/plain": [
       "(589448, 7)"
      ]
     },
     "execution_count": 26,
     "metadata": {},
     "output_type": "execute_result"
    }
   ],
   "source": [
    "df_trips_stops.shape # (589448, 7)"
   ]
  },
  {
   "cell_type": "markdown",
   "metadata": {},
   "source": [
    "### Dates\n",
    "\n",
    "As a last preparation for analysis lets transform the 'departure' into humanly readable dates."
   ]
  },
  {
   "cell_type": "code",
   "execution_count": 27,
   "metadata": {},
   "outputs": [
    {
     "data": {
      "text/html": [
       "<div>\n",
       "<style>\n",
       "    .dataframe thead tr:only-child th {\n",
       "        text-align: right;\n",
       "    }\n",
       "\n",
       "    .dataframe thead th {\n",
       "        text-align: left;\n",
       "    }\n",
       "\n",
       "    .dataframe tbody tr th {\n",
       "        vertical-align: top;\n",
       "    }\n",
       "</style>\n",
       "<table border=\"1\" class=\"dataframe\">\n",
       "  <thead>\n",
       "    <tr style=\"text-align: right;\">\n",
       "      <th></th>\n",
       "      <th>rt_trip_id</th>\n",
       "      <th>rt_stop_id</th>\n",
       "      <th>stop_offset</th>\n",
       "      <th>departure</th>\n",
       "      <th>lat</th>\n",
       "      <th>lng</th>\n",
       "      <th>distance_prev</th>\n",
       "      <th>departure_date</th>\n",
       "    </tr>\n",
       "  </thead>\n",
       "  <tbody>\n",
       "    <tr>\n",
       "      <th>0</th>\n",
       "      <td>201955859</td>\n",
       "      <td>51843</td>\n",
       "      <td>30</td>\n",
       "      <td>1568606460</td>\n",
       "      <td>45.541968</td>\n",
       "      <td>-73.590304</td>\n",
       "      <td>162.0</td>\n",
       "      <td>2019-09-16 04:01:00</td>\n",
       "    </tr>\n",
       "    <tr>\n",
       "      <th>1</th>\n",
       "      <td>201955859</td>\n",
       "      <td>61653</td>\n",
       "      <td>37</td>\n",
       "      <td>1568606820</td>\n",
       "      <td>45.531186</td>\n",
       "      <td>-73.597507</td>\n",
       "      <td>289.0</td>\n",
       "      <td>2019-09-16 04:07:00</td>\n",
       "    </tr>\n",
       "    <tr>\n",
       "      <th>2</th>\n",
       "      <td>201955861</td>\n",
       "      <td>51755</td>\n",
       "      <td>3</td>\n",
       "      <td>1568607347</td>\n",
       "      <td>45.536114</td>\n",
       "      <td>-73.593775</td>\n",
       "      <td>181.0</td>\n",
       "      <td>2019-09-16 04:15:47</td>\n",
       "    </tr>\n",
       "    <tr>\n",
       "      <th>3</th>\n",
       "      <td>201955861</td>\n",
       "      <td>61579</td>\n",
       "      <td>4</td>\n",
       "      <td>1568607385</td>\n",
       "      <td>45.537211</td>\n",
       "      <td>-73.592786</td>\n",
       "      <td>144.0</td>\n",
       "      <td>2019-09-16 04:16:25</td>\n",
       "    </tr>\n",
       "    <tr>\n",
       "      <th>4</th>\n",
       "      <td>201955862</td>\n",
       "      <td>53151</td>\n",
       "      <td>0</td>\n",
       "      <td>1568609160</td>\n",
       "      <td>45.582726</td>\n",
       "      <td>-73.542559</td>\n",
       "      <td>0.0</td>\n",
       "      <td>2019-09-16 04:46:00</td>\n",
       "    </tr>\n",
       "  </tbody>\n",
       "</table>\n",
       "</div>"
      ],
      "text/plain": [
       "  rt_trip_id  rt_stop_id  stop_offset   departure        lat        lng  \\\n",
       "0  201955859       51843           30  1568606460  45.541968 -73.590304   \n",
       "1  201955859       61653           37  1568606820  45.531186 -73.597507   \n",
       "2  201955861       51755            3  1568607347  45.536114 -73.593775   \n",
       "3  201955861       61579            4  1568607385  45.537211 -73.592786   \n",
       "4  201955862       53151            0  1568609160  45.582726 -73.542559   \n",
       "\n",
       "   distance_prev      departure_date  \n",
       "0          162.0 2019-09-16 04:01:00  \n",
       "1          289.0 2019-09-16 04:07:00  \n",
       "2          181.0 2019-09-16 04:15:47  \n",
       "3          144.0 2019-09-16 04:16:25  \n",
       "4            0.0 2019-09-16 04:46:00  "
      ]
     },
     "execution_count": 27,
     "metadata": {},
     "output_type": "execute_result"
    }
   ],
   "source": [
    "df_trips_stops['departure_date'] = pd.to_datetime(df_trips_stops['departure'].astype(int), unit='s')\n",
    "df_trips_stops.head()"
   ]
  },
  {
   "cell_type": "markdown",
   "metadata": {},
   "source": [
    "Let's split out data per 'rt_stop_id' and 'rt_trip_id' to see if we can discover some patterns."
   ]
  },
  {
   "cell_type": "markdown",
   "metadata": {},
   "source": [
    " Save for later use:"
   ]
  },
  {
   "cell_type": "code",
   "execution_count": 28,
   "metadata": {
    "collapsed": true
   },
   "outputs": [],
   "source": [
    "if path.exists('data/2_processed/df_trips_stops_ready.csv') == False:\n",
    "    df_trips_stops.to_csv ('data/2_processed/df_trips_stops_ready.csv', index = None, header=True)"
   ]
  },
  {
   "cell_type": "markdown",
   "metadata": {
    "collapsed": true
   },
   "source": [
    "## Grouping data\n",
    "\n",
    "In this section we will group our data by trip id and by stop id separately in order to see if we can discover interesting patterns.\n",
    "\n",
    "***Hypothesis*** : Grouping by trip will give us route specific information. This will allow us to do estimates like speed from one stop to another, among others. \n"
   ]
  },
  {
   "cell_type": "code",
   "execution_count": 29,
   "metadata": {
    "collapsed": true
   },
   "outputs": [],
   "source": [
    "df_trips_stops = pd.read_csv('data/2_processed/df_trips_stops_ready.csv')"
   ]
  },
  {
   "cell_type": "markdown",
   "metadata": {},
   "source": [
    "### By trip\n",
    "\n",
    "Let's group by trip"
   ]
  },
  {
   "cell_type": "code",
   "execution_count": 30,
   "metadata": {
    "collapsed": true
   },
   "outputs": [],
   "source": [
    "df_grouped_by_trip = df_trips_stops.groupby('rt_trip_id') "
   ]
  },
  {
   "cell_type": "code",
   "execution_count": 31,
   "metadata": {},
   "outputs": [
    {
     "name": "stdout",
     "output_type": "stream",
     "text": [
      "Number of different trip ids :17248\n"
     ]
    }
   ],
   "source": [
    "# Number of different trips as we saw above\n",
    "print('Number of different trip ids :' + str(len(df_grouped_by_trip.groups.keys())))"
   ]
  },
  {
   "cell_type": "code",
   "execution_count": 32,
   "metadata": {
    "collapsed": true
   },
   "outputs": [],
   "source": [
    "# df_grouped_by_trip['rt_stop_id'].nunique()"
   ]
  },
  {
   "cell_type": "markdown",
   "metadata": {},
   "source": [
    "Let's see how many dirrerent trips we have in each group."
   ]
  },
  {
   "cell_type": "code",
   "execution_count": 1,
   "metadata": {},
   "outputs": [],
   "source": [
    "trip_ids_multitrip_dict = {}\n",
    "for trip_id, group in df_grouped_by_trip:\n",
    "    if group.loc[group['stop_offset'] == min(group['stop_offset'].values)].shape[0] > 1:\n",
    "        trip_ids_multitrip_dict[trip_id] = group.loc[group['stop_offset'] == min(group['stop_offset'].values)].shape[0]\n",
    "        print(str(group.loc[group['stop_offset'] == min(group['stop_offset'].values)].shape[0]) + ' trips for: ' + str(trip_id))\n",
    "        "
   ]
  },
  {
   "cell_type": "code",
   "execution_count": 34,
   "metadata": {},
   "outputs": [
    {
     "name": "stdout",
     "output_type": "stream",
     "text": [
      "[2, 2, 2, 2, 2, 2, 2, 2, 2, 2, 2, 2, 2, 2, 2, 2, 2, 2, 2, 2, 2, 2, 2, 2, 2, 2, 2, 2, 2, 2, 2, 2, 2, 2, 2, 2, 2, 2, 2, 2, 2, 2, 2, 2, 2, 2]\n"
     ]
    }
   ],
   "source": [
    "print(list(trip_ids_multitrip_dict.values()))"
   ]
  },
  {
   "cell_type": "markdown",
   "metadata": {},
   "source": [
    "For some routes we have more than one trip"
   ]
  },
  {
   "cell_type": "markdown",
   "metadata": {},
   "source": [
    "\n",
    "\n",
    "Let's choose a ***trip id *** to explore in more detail:"
   ]
  },
  {
   "cell_type": "code",
   "execution_count": 35,
   "metadata": {
    "collapsed": true
   },
   "outputs": [],
   "source": [
    "sample_route_id = 204063694 \n",
    "df_per_trip = df_grouped_by_trip.get_group(sample_route_id) "
   ]
  },
  {
   "cell_type": "code",
   "execution_count": 36,
   "metadata": {},
   "outputs": [
    {
     "name": "stdout",
     "output_type": "stream",
     "text": [
      "(100, 8)\n"
     ]
    },
    {
     "data": {
      "text/html": [
       "<div>\n",
       "<style>\n",
       "    .dataframe thead tr:only-child th {\n",
       "        text-align: right;\n",
       "    }\n",
       "\n",
       "    .dataframe thead th {\n",
       "        text-align: left;\n",
       "    }\n",
       "\n",
       "    .dataframe tbody tr th {\n",
       "        vertical-align: top;\n",
       "    }\n",
       "</style>\n",
       "<table border=\"1\" class=\"dataframe\">\n",
       "  <thead>\n",
       "    <tr style=\"text-align: right;\">\n",
       "      <th></th>\n",
       "      <th>rt_trip_id</th>\n",
       "      <th>rt_stop_id</th>\n",
       "      <th>stop_offset</th>\n",
       "      <th>departure</th>\n",
       "      <th>lat</th>\n",
       "      <th>lng</th>\n",
       "      <th>distance_prev</th>\n",
       "      <th>departure_date</th>\n",
       "    </tr>\n",
       "  </thead>\n",
       "  <tbody>\n",
       "    <tr>\n",
       "      <th>111255</th>\n",
       "      <td>204063694</td>\n",
       "      <td>54269</td>\n",
       "      <td>0</td>\n",
       "      <td>1568638740</td>\n",
       "      <td>45.550548</td>\n",
       "      <td>-73.655055</td>\n",
       "      <td>0.0</td>\n",
       "      <td>2019-09-16 12:59:00</td>\n",
       "    </tr>\n",
       "    <tr>\n",
       "      <th>111256</th>\n",
       "      <td>204063694</td>\n",
       "      <td>61241</td>\n",
       "      <td>1</td>\n",
       "      <td>1568638860</td>\n",
       "      <td>45.551789</td>\n",
       "      <td>-73.650271</td>\n",
       "      <td>554.0</td>\n",
       "      <td>2019-09-16 13:01:00</td>\n",
       "    </tr>\n",
       "    <tr>\n",
       "      <th>111257</th>\n",
       "      <td>204063694</td>\n",
       "      <td>61117</td>\n",
       "      <td>2</td>\n",
       "      <td>1568638920</td>\n",
       "      <td>45.553471</td>\n",
       "      <td>-73.650172</td>\n",
       "      <td>226.0</td>\n",
       "      <td>2019-09-16 13:02:00</td>\n",
       "    </tr>\n",
       "    <tr>\n",
       "      <th>111258</th>\n",
       "      <td>204063694</td>\n",
       "      <td>50466</td>\n",
       "      <td>3</td>\n",
       "      <td>1568638980</td>\n",
       "      <td>45.554496</td>\n",
       "      <td>-73.653760</td>\n",
       "      <td>302.0</td>\n",
       "      <td>2019-09-16 13:03:00</td>\n",
       "    </tr>\n",
       "    <tr>\n",
       "      <th>111259</th>\n",
       "      <td>204063694</td>\n",
       "      <td>50420</td>\n",
       "      <td>4</td>\n",
       "      <td>1568639040</td>\n",
       "      <td>45.555440</td>\n",
       "      <td>-73.656970</td>\n",
       "      <td>272.0</td>\n",
       "      <td>2019-09-16 13:04:00</td>\n",
       "    </tr>\n",
       "  </tbody>\n",
       "</table>\n",
       "</div>"
      ],
      "text/plain": [
       "        rt_trip_id  rt_stop_id  stop_offset   departure        lat        lng  \\\n",
       "111255   204063694       54269            0  1568638740  45.550548 -73.655055   \n",
       "111256   204063694       61241            1  1568638860  45.551789 -73.650271   \n",
       "111257   204063694       61117            2  1568638920  45.553471 -73.650172   \n",
       "111258   204063694       50466            3  1568638980  45.554496 -73.653760   \n",
       "111259   204063694       50420            4  1568639040  45.555440 -73.656970   \n",
       "\n",
       "        distance_prev       departure_date  \n",
       "111255            0.0  2019-09-16 12:59:00  \n",
       "111256          554.0  2019-09-16 13:01:00  \n",
       "111257          226.0  2019-09-16 13:02:00  \n",
       "111258          302.0  2019-09-16 13:03:00  \n",
       "111259          272.0  2019-09-16 13:04:00  "
      ]
     },
     "execution_count": 36,
     "metadata": {},
     "output_type": "execute_result"
    }
   ],
   "source": [
    "print(df_per_trip.shape)\n",
    "df_per_trip.head()"
   ]
  },
  {
   "cell_type": "code",
   "execution_count": 37,
   "metadata": {},
   "outputs": [
    {
     "data": {
      "text/html": [
       "<div>\n",
       "<style>\n",
       "    .dataframe thead tr:only-child th {\n",
       "        text-align: right;\n",
       "    }\n",
       "\n",
       "    .dataframe thead th {\n",
       "        text-align: left;\n",
       "    }\n",
       "\n",
       "    .dataframe tbody tr th {\n",
       "        vertical-align: top;\n",
       "    }\n",
       "</style>\n",
       "<table border=\"1\" class=\"dataframe\">\n",
       "  <thead>\n",
       "    <tr style=\"text-align: right;\">\n",
       "      <th></th>\n",
       "      <th>rt_trip_id</th>\n",
       "      <th>rt_stop_id</th>\n",
       "      <th>stop_offset</th>\n",
       "      <th>departure</th>\n",
       "      <th>lat</th>\n",
       "      <th>lng</th>\n",
       "      <th>distance_prev</th>\n",
       "    </tr>\n",
       "  </thead>\n",
       "  <tbody>\n",
       "    <tr>\n",
       "      <th>count</th>\n",
       "      <td>100.0</td>\n",
       "      <td>100.000000</td>\n",
       "      <td>100.000000</td>\n",
       "      <td>1.000000e+02</td>\n",
       "      <td>100.000000</td>\n",
       "      <td>100.000000</td>\n",
       "      <td>100.000000</td>\n",
       "    </tr>\n",
       "    <tr>\n",
       "      <th>mean</th>\n",
       "      <td>204063694.0</td>\n",
       "      <td>53850.740000</td>\n",
       "      <td>24.620000</td>\n",
       "      <td>1.568640e+09</td>\n",
       "      <td>45.566882</td>\n",
       "      <td>-73.627360</td>\n",
       "      <td>272.500000</td>\n",
       "    </tr>\n",
       "    <tr>\n",
       "      <th>std</th>\n",
       "      <td>0.0</td>\n",
       "      <td>4635.187176</td>\n",
       "      <td>14.706406</td>\n",
       "      <td>9.556637e+02</td>\n",
       "      <td>0.007929</td>\n",
       "      <td>0.022571</td>\n",
       "      <td>118.566394</td>\n",
       "    </tr>\n",
       "    <tr>\n",
       "      <th>min</th>\n",
       "      <td>204063694.0</td>\n",
       "      <td>50383.000000</td>\n",
       "      <td>0.000000</td>\n",
       "      <td>1.568639e+09</td>\n",
       "      <td>45.550548</td>\n",
       "      <td>-73.660019</td>\n",
       "      <td>0.000000</td>\n",
       "    </tr>\n",
       "    <tr>\n",
       "      <th>25%</th>\n",
       "      <td>204063694.0</td>\n",
       "      <td>50595.000000</td>\n",
       "      <td>12.000000</td>\n",
       "      <td>1.568639e+09</td>\n",
       "      <td>45.561718</td>\n",
       "      <td>-73.650271</td>\n",
       "      <td>211.000000</td>\n",
       "    </tr>\n",
       "    <tr>\n",
       "      <th>50%</th>\n",
       "      <td>204063694.0</td>\n",
       "      <td>51377.000000</td>\n",
       "      <td>24.500000</td>\n",
       "      <td>1.568640e+09</td>\n",
       "      <td>45.566902</td>\n",
       "      <td>-73.627765</td>\n",
       "      <td>255.000000</td>\n",
       "    </tr>\n",
       "    <tr>\n",
       "      <th>75%</th>\n",
       "      <td>204063694.0</td>\n",
       "      <td>60771.000000</td>\n",
       "      <td>37.000000</td>\n",
       "      <td>1.568641e+09</td>\n",
       "      <td>45.572509</td>\n",
       "      <td>-73.606887</td>\n",
       "      <td>302.000000</td>\n",
       "    </tr>\n",
       "    <tr>\n",
       "      <th>max</th>\n",
       "      <td>204063694.0</td>\n",
       "      <td>61812.000000</td>\n",
       "      <td>51.000000</td>\n",
       "      <td>1.568642e+09</td>\n",
       "      <td>45.586449</td>\n",
       "      <td>-73.591473</td>\n",
       "      <td>617.000000</td>\n",
       "    </tr>\n",
       "  </tbody>\n",
       "</table>\n",
       "</div>"
      ],
      "text/plain": [
       "        rt_trip_id    rt_stop_id  stop_offset     departure         lat  \\\n",
       "count        100.0    100.000000   100.000000  1.000000e+02  100.000000   \n",
       "mean   204063694.0  53850.740000    24.620000  1.568640e+09   45.566882   \n",
       "std            0.0   4635.187176    14.706406  9.556637e+02    0.007929   \n",
       "min    204063694.0  50383.000000     0.000000  1.568639e+09   45.550548   \n",
       "25%    204063694.0  50595.000000    12.000000  1.568639e+09   45.561718   \n",
       "50%    204063694.0  51377.000000    24.500000  1.568640e+09   45.566902   \n",
       "75%    204063694.0  60771.000000    37.000000  1.568641e+09   45.572509   \n",
       "max    204063694.0  61812.000000    51.000000  1.568642e+09   45.586449   \n",
       "\n",
       "              lng  distance_prev  \n",
       "count  100.000000     100.000000  \n",
       "mean   -73.627360     272.500000  \n",
       "std      0.022571     118.566394  \n",
       "min    -73.660019       0.000000  \n",
       "25%    -73.650271     211.000000  \n",
       "50%    -73.627765     255.000000  \n",
       "75%    -73.606887     302.000000  \n",
       "max    -73.591473     617.000000  "
      ]
     },
     "execution_count": 37,
     "metadata": {},
     "output_type": "execute_result"
    }
   ],
   "source": [
    "df_per_trip.describe()"
   ]
  },
  {
   "cell_type": "markdown",
   "metadata": {},
   "source": [
    "Let's reindex the dataframe to be able to explore it more easily. We'll keep to original index in case we want to \n",
    "refer back to the original data"
   ]
  },
  {
   "cell_type": "code",
   "execution_count": 38,
   "metadata": {
    "collapsed": true
   },
   "outputs": [],
   "source": [
    "df_per_trip = df_per_trip.reset_index(drop=False)"
   ]
  },
  {
   "cell_type": "markdown",
   "metadata": {},
   "source": [
    "#### Deeper into each trip\n",
    "\n",
    "We have data for more than one trip in each group sometimes. For the one we have chosen to study there is data for at least three trips. Let's split the data in separate trips so we can have a closer look at how each trip behaves, how many trips per route and other interesting insights.\n",
    "\n",
    "***Definition***\n",
    "\n",
    "From now on the groups will now be called ***ROUTES*** and the separate trip in each group will be called ***TRIP***. This way we can say things like. We have data for three trips in the data for route with id : xxxx"
   ]
  },
  {
   "cell_type": "code",
   "execution_count": 39,
   "metadata": {},
   "outputs": [
    {
     "data": {
      "text/plain": [
       "(2, 9)"
      ]
     },
     "execution_count": 39,
     "metadata": {},
     "output_type": "execute_result"
    }
   ],
   "source": [
    "# Get the initial stop rows\n",
    "df_per_trip.loc[df_per_trip['stop_offset'] == min(df_per_trip['stop_offset'].values)].shape"
   ]
  },
  {
   "cell_type": "markdown",
   "metadata": {},
   "source": [
    "We have three records with 'stop_offset' = 0, this means that we have data fro three trip starts (in the case of this specific route)\n",
    "\n"
   ]
  },
  {
   "cell_type": "markdown",
   "metadata": {},
   "source": [
    "Let's write a method that extracts splits df_per_trip into different trips that might be contained within it.\n",
    "To achieve this we will make use of the first stop in each right which as we have seen before has a 'stop_offset' value of zero. \n",
    "\n",
    "*** The code for this method is found in tools.py ***\n"
   ]
  },
  {
   "cell_type": "code",
   "execution_count": 40,
   "metadata": {},
   "outputs": [
    {
     "name": "stdout",
     "output_type": "stream",
     "text": [
      "Number of trips in route: 2\n"
     ]
    }
   ],
   "source": [
    "df_list_trips = tools.split_trips(df_per_trip)\n",
    "print('Number of trips in route: ' + str(len(df_list_trips)))"
   ]
  },
  {
   "cell_type": "code",
   "execution_count": 41,
   "metadata": {},
   "outputs": [
    {
     "data": {
      "text/html": [
       "<div>\n",
       "<style>\n",
       "    .dataframe thead tr:only-child th {\n",
       "        text-align: right;\n",
       "    }\n",
       "\n",
       "    .dataframe thead th {\n",
       "        text-align: left;\n",
       "    }\n",
       "\n",
       "    .dataframe tbody tr th {\n",
       "        vertical-align: top;\n",
       "    }\n",
       "</style>\n",
       "<table border=\"1\" class=\"dataframe\">\n",
       "  <thead>\n",
       "    <tr style=\"text-align: right;\">\n",
       "      <th></th>\n",
       "      <th>level_0</th>\n",
       "      <th>index</th>\n",
       "      <th>rt_trip_id</th>\n",
       "      <th>rt_stop_id</th>\n",
       "      <th>stop_offset</th>\n",
       "      <th>departure</th>\n",
       "      <th>lat</th>\n",
       "      <th>lng</th>\n",
       "      <th>distance_prev</th>\n",
       "      <th>departure_date</th>\n",
       "    </tr>\n",
       "  </thead>\n",
       "  <tbody>\n",
       "    <tr>\n",
       "      <th>0</th>\n",
       "      <td>0</td>\n",
       "      <td>111255</td>\n",
       "      <td>204063694</td>\n",
       "      <td>54269</td>\n",
       "      <td>0</td>\n",
       "      <td>1568638740</td>\n",
       "      <td>45.550548</td>\n",
       "      <td>-73.655055</td>\n",
       "      <td>0.0</td>\n",
       "      <td>2019-09-16 12:59:00</td>\n",
       "    </tr>\n",
       "    <tr>\n",
       "      <th>1</th>\n",
       "      <td>1</td>\n",
       "      <td>111256</td>\n",
       "      <td>204063694</td>\n",
       "      <td>61241</td>\n",
       "      <td>1</td>\n",
       "      <td>1568638860</td>\n",
       "      <td>45.551789</td>\n",
       "      <td>-73.650271</td>\n",
       "      <td>554.0</td>\n",
       "      <td>2019-09-16 13:01:00</td>\n",
       "    </tr>\n",
       "    <tr>\n",
       "      <th>2</th>\n",
       "      <td>2</td>\n",
       "      <td>111257</td>\n",
       "      <td>204063694</td>\n",
       "      <td>61117</td>\n",
       "      <td>2</td>\n",
       "      <td>1568638920</td>\n",
       "      <td>45.553471</td>\n",
       "      <td>-73.650172</td>\n",
       "      <td>226.0</td>\n",
       "      <td>2019-09-16 13:02:00</td>\n",
       "    </tr>\n",
       "    <tr>\n",
       "      <th>3</th>\n",
       "      <td>3</td>\n",
       "      <td>111258</td>\n",
       "      <td>204063694</td>\n",
       "      <td>50466</td>\n",
       "      <td>3</td>\n",
       "      <td>1568638980</td>\n",
       "      <td>45.554496</td>\n",
       "      <td>-73.653760</td>\n",
       "      <td>302.0</td>\n",
       "      <td>2019-09-16 13:03:00</td>\n",
       "    </tr>\n",
       "    <tr>\n",
       "      <th>4</th>\n",
       "      <td>4</td>\n",
       "      <td>111259</td>\n",
       "      <td>204063694</td>\n",
       "      <td>50420</td>\n",
       "      <td>4</td>\n",
       "      <td>1568639040</td>\n",
       "      <td>45.555440</td>\n",
       "      <td>-73.656970</td>\n",
       "      <td>272.0</td>\n",
       "      <td>2019-09-16 13:04:00</td>\n",
       "    </tr>\n",
       "  </tbody>\n",
       "</table>\n",
       "</div>"
      ],
      "text/plain": [
       "   level_0   index  rt_trip_id  rt_stop_id  stop_offset   departure  \\\n",
       "0        0  111255   204063694       54269            0  1568638740   \n",
       "1        1  111256   204063694       61241            1  1568638860   \n",
       "2        2  111257   204063694       61117            2  1568638920   \n",
       "3        3  111258   204063694       50466            3  1568638980   \n",
       "4        4  111259   204063694       50420            4  1568639040   \n",
       "\n",
       "         lat        lng  distance_prev       departure_date  \n",
       "0  45.550548 -73.655055            0.0  2019-09-16 12:59:00  \n",
       "1  45.551789 -73.650271          554.0  2019-09-16 13:01:00  \n",
       "2  45.553471 -73.650172          226.0  2019-09-16 13:02:00  \n",
       "3  45.554496 -73.653760          302.0  2019-09-16 13:03:00  \n",
       "4  45.555440 -73.656970          272.0  2019-09-16 13:04:00  "
      ]
     },
     "execution_count": 41,
     "metadata": {},
     "output_type": "execute_result"
    }
   ],
   "source": [
    "df_list_trips[0].head()"
   ]
  },
  {
   "cell_type": "markdown",
   "metadata": {},
   "source": [
    "Let's take a more detailed look at one of the trips in our route."
   ]
  },
  {
   "cell_type": "code",
   "execution_count": 42,
   "metadata": {},
   "outputs": [
    {
     "data": {
      "text/html": [
       "<div>\n",
       "<style>\n",
       "    .dataframe thead tr:only-child th {\n",
       "        text-align: right;\n",
       "    }\n",
       "\n",
       "    .dataframe thead th {\n",
       "        text-align: left;\n",
       "    }\n",
       "\n",
       "    .dataframe tbody tr th {\n",
       "        vertical-align: top;\n",
       "    }\n",
       "</style>\n",
       "<table border=\"1\" class=\"dataframe\">\n",
       "  <thead>\n",
       "    <tr style=\"text-align: right;\">\n",
       "      <th></th>\n",
       "      <th>level_0</th>\n",
       "      <th>index</th>\n",
       "      <th>rt_trip_id</th>\n",
       "      <th>rt_stop_id</th>\n",
       "      <th>stop_offset</th>\n",
       "      <th>departure</th>\n",
       "      <th>lat</th>\n",
       "      <th>lng</th>\n",
       "      <th>distance_prev</th>\n",
       "    </tr>\n",
       "  </thead>\n",
       "  <tbody>\n",
       "    <tr>\n",
       "      <th>count</th>\n",
       "      <td>50.00000</td>\n",
       "      <td>50.00000</td>\n",
       "      <td>50.0</td>\n",
       "      <td>50.000000</td>\n",
       "      <td>50.000000</td>\n",
       "      <td>5.000000e+01</td>\n",
       "      <td>50.000000</td>\n",
       "      <td>50.000000</td>\n",
       "      <td>50.00000</td>\n",
       "    </tr>\n",
       "    <tr>\n",
       "      <th>mean</th>\n",
       "      <td>24.50000</td>\n",
       "      <td>111279.50000</td>\n",
       "      <td>204063694.0</td>\n",
       "      <td>53850.740000</td>\n",
       "      <td>24.620000</td>\n",
       "      <td>1.568640e+09</td>\n",
       "      <td>45.566882</td>\n",
       "      <td>-73.627360</td>\n",
       "      <td>272.50000</td>\n",
       "    </tr>\n",
       "    <tr>\n",
       "      <th>std</th>\n",
       "      <td>14.57738</td>\n",
       "      <td>14.57738</td>\n",
       "      <td>0.0</td>\n",
       "      <td>4658.776067</td>\n",
       "      <td>14.781248</td>\n",
       "      <td>9.605272e+02</td>\n",
       "      <td>0.007969</td>\n",
       "      <td>0.022686</td>\n",
       "      <td>119.16979</td>\n",
       "    </tr>\n",
       "    <tr>\n",
       "      <th>min</th>\n",
       "      <td>0.00000</td>\n",
       "      <td>111255.00000</td>\n",
       "      <td>204063694.0</td>\n",
       "      <td>50383.000000</td>\n",
       "      <td>0.000000</td>\n",
       "      <td>1.568639e+09</td>\n",
       "      <td>45.550548</td>\n",
       "      <td>-73.660019</td>\n",
       "      <td>0.00000</td>\n",
       "    </tr>\n",
       "    <tr>\n",
       "      <th>25%</th>\n",
       "      <td>12.25000</td>\n",
       "      <td>111267.25000</td>\n",
       "      <td>204063694.0</td>\n",
       "      <td>50622.750000</td>\n",
       "      <td>12.250000</td>\n",
       "      <td>1.568639e+09</td>\n",
       "      <td>45.561808</td>\n",
       "      <td>-73.650246</td>\n",
       "      <td>211.00000</td>\n",
       "    </tr>\n",
       "    <tr>\n",
       "      <th>50%</th>\n",
       "      <td>24.50000</td>\n",
       "      <td>111279.50000</td>\n",
       "      <td>204063694.0</td>\n",
       "      <td>51377.000000</td>\n",
       "      <td>24.500000</td>\n",
       "      <td>1.568640e+09</td>\n",
       "      <td>45.566902</td>\n",
       "      <td>-73.627765</td>\n",
       "      <td>255.00000</td>\n",
       "    </tr>\n",
       "    <tr>\n",
       "      <th>75%</th>\n",
       "      <td>36.75000</td>\n",
       "      <td>111291.75000</td>\n",
       "      <td>204063694.0</td>\n",
       "      <td>59145.500000</td>\n",
       "      <td>36.750000</td>\n",
       "      <td>1.568641e+09</td>\n",
       "      <td>45.572295</td>\n",
       "      <td>-73.607054</td>\n",
       "      <td>295.25000</td>\n",
       "    </tr>\n",
       "    <tr>\n",
       "      <th>max</th>\n",
       "      <td>49.00000</td>\n",
       "      <td>111304.00000</td>\n",
       "      <td>204063694.0</td>\n",
       "      <td>61812.000000</td>\n",
       "      <td>51.000000</td>\n",
       "      <td>1.568642e+09</td>\n",
       "      <td>45.586449</td>\n",
       "      <td>-73.591473</td>\n",
       "      <td>617.00000</td>\n",
       "    </tr>\n",
       "  </tbody>\n",
       "</table>\n",
       "</div>"
      ],
      "text/plain": [
       "        level_0         index   rt_trip_id    rt_stop_id  stop_offset  \\\n",
       "count  50.00000      50.00000         50.0     50.000000    50.000000   \n",
       "mean   24.50000  111279.50000  204063694.0  53850.740000    24.620000   \n",
       "std    14.57738      14.57738          0.0   4658.776067    14.781248   \n",
       "min     0.00000  111255.00000  204063694.0  50383.000000     0.000000   \n",
       "25%    12.25000  111267.25000  204063694.0  50622.750000    12.250000   \n",
       "50%    24.50000  111279.50000  204063694.0  51377.000000    24.500000   \n",
       "75%    36.75000  111291.75000  204063694.0  59145.500000    36.750000   \n",
       "max    49.00000  111304.00000  204063694.0  61812.000000    51.000000   \n",
       "\n",
       "          departure        lat        lng  distance_prev  \n",
       "count  5.000000e+01  50.000000  50.000000       50.00000  \n",
       "mean   1.568640e+09  45.566882 -73.627360      272.50000  \n",
       "std    9.605272e+02   0.007969   0.022686      119.16979  \n",
       "min    1.568639e+09  45.550548 -73.660019        0.00000  \n",
       "25%    1.568639e+09  45.561808 -73.650246      211.00000  \n",
       "50%    1.568640e+09  45.566902 -73.627765      255.00000  \n",
       "75%    1.568641e+09  45.572295 -73.607054      295.25000  \n",
       "max    1.568642e+09  45.586449 -73.591473      617.00000  "
      ]
     },
     "execution_count": 42,
     "metadata": {},
     "output_type": "execute_result"
    }
   ],
   "source": [
    "df_split_trip = df_list_trips[0]\n",
    "df_split_trip.describe()"
   ]
  },
  {
   "cell_type": "markdown",
   "metadata": {},
   "source": [
    "- Looks like some datapoints are missing for some stops, ie; we don;t have certain values for stop_offset this coould mean that there was some problem collecting the data (low internet) or the bus did not stop at those stops so no data was sent.\n",
    "\n",
    "- We also observe that the data is meissing exactly for the between the same stop iterval (in the dataframe bellow between stop_offset 16 and 27). There is definetly a problem collecting data from these stations\n",
    "\n",
    "- Would other routes passing through the same stops have problem collecting data as well? We'll verify this soon\n"
   ]
  },
  {
   "cell_type": "code",
   "execution_count": 43,
   "metadata": {},
   "outputs": [
    {
     "data": {
      "text/html": [
       "<div>\n",
       "<style>\n",
       "    .dataframe thead tr:only-child th {\n",
       "        text-align: right;\n",
       "    }\n",
       "\n",
       "    .dataframe thead th {\n",
       "        text-align: left;\n",
       "    }\n",
       "\n",
       "    .dataframe tbody tr th {\n",
       "        vertical-align: top;\n",
       "    }\n",
       "</style>\n",
       "<table border=\"1\" class=\"dataframe\">\n",
       "  <thead>\n",
       "    <tr style=\"text-align: right;\">\n",
       "      <th></th>\n",
       "      <th>level_0</th>\n",
       "      <th>index</th>\n",
       "      <th>rt_trip_id</th>\n",
       "      <th>rt_stop_id</th>\n",
       "      <th>stop_offset</th>\n",
       "      <th>departure</th>\n",
       "      <th>lat</th>\n",
       "      <th>lng</th>\n",
       "      <th>distance_prev</th>\n",
       "      <th>departure_date</th>\n",
       "    </tr>\n",
       "  </thead>\n",
       "  <tbody>\n",
       "    <tr>\n",
       "      <th>15</th>\n",
       "      <td>15</td>\n",
       "      <td>111270</td>\n",
       "      <td>204063694</td>\n",
       "      <td>50595</td>\n",
       "      <td>15</td>\n",
       "      <td>1568639640</td>\n",
       "      <td>45.568579</td>\n",
       "      <td>-73.645378</td>\n",
       "      <td>211.0</td>\n",
       "      <td>2019-09-16 13:14:00</td>\n",
       "    </tr>\n",
       "    <tr>\n",
       "      <th>16</th>\n",
       "      <td>16</td>\n",
       "      <td>111271</td>\n",
       "      <td>204063694</td>\n",
       "      <td>61118</td>\n",
       "      <td>16</td>\n",
       "      <td>1568639700</td>\n",
       "      <td>45.567653</td>\n",
       "      <td>-73.642986</td>\n",
       "      <td>227.0</td>\n",
       "      <td>2019-09-16 13:15:00</td>\n",
       "    </tr>\n",
       "    <tr>\n",
       "      <th>17</th>\n",
       "      <td>17</td>\n",
       "      <td>111272</td>\n",
       "      <td>204063694</td>\n",
       "      <td>61242</td>\n",
       "      <td>17</td>\n",
       "      <td>1568639760</td>\n",
       "      <td>45.568723</td>\n",
       "      <td>-73.641277</td>\n",
       "      <td>211.0</td>\n",
       "      <td>2019-09-16 13:16:00</td>\n",
       "    </tr>\n",
       "    <tr>\n",
       "      <th>18</th>\n",
       "      <td>18</td>\n",
       "      <td>111273</td>\n",
       "      <td>204063694</td>\n",
       "      <td>50706</td>\n",
       "      <td>18</td>\n",
       "      <td>1568639820</td>\n",
       "      <td>45.570405</td>\n",
       "      <td>-73.639865</td>\n",
       "      <td>217.0</td>\n",
       "      <td>2019-09-16 13:17:00</td>\n",
       "    </tr>\n",
       "  </tbody>\n",
       "</table>\n",
       "</div>"
      ],
      "text/plain": [
       "    level_0   index  rt_trip_id  rt_stop_id  stop_offset   departure  \\\n",
       "15       15  111270   204063694       50595           15  1568639640   \n",
       "16       16  111271   204063694       61118           16  1568639700   \n",
       "17       17  111272   204063694       61242           17  1568639760   \n",
       "18       18  111273   204063694       50706           18  1568639820   \n",
       "\n",
       "          lat        lng  distance_prev       departure_date  \n",
       "15  45.568579 -73.645378          211.0  2019-09-16 13:14:00  \n",
       "16  45.567653 -73.642986          227.0  2019-09-16 13:15:00  \n",
       "17  45.568723 -73.641277          211.0  2019-09-16 13:16:00  \n",
       "18  45.570405 -73.639865          217.0  2019-09-16 13:17:00  "
      ]
     },
     "execution_count": 43,
     "metadata": {},
     "output_type": "execute_result"
    }
   ],
   "source": [
    "df_split_trip[15:19]"
   ]
  },
  {
   "cell_type": "markdown",
   "metadata": {},
   "source": [
    "Let's do some plots to visualize this in a better way"
   ]
  },
  {
   "cell_type": "code",
   "execution_count": 44,
   "metadata": {},
   "outputs": [
    {
     "data": {
      "image/png": "[encoded data removed]",
      "text/plain": [
       "<matplotlib.figure.Figure at 0x121256ef0>"
      ]
     },
     "metadata": {},
     "output_type": "display_data"
    }
   ],
   "source": [
    "plt.figure(figsize=(15, 5), dpi=70)\n",
    "sns.tsplot([df_split_trip['stop_offset']],\n",
    "           time=df_split_trip.index,\n",
    "          legend=True)\n",
    "sns.plt.legend(labels = ['stop_offset']) \n",
    "sns.plt.show()"
   ]
  },
  {
   "cell_type": "markdown",
   "metadata": {},
   "source": [
    "By plotting 'stop_offset' against index in a line plot we can visualize the outliers mentioned in the step above. We have two big jumps that may indicate missing data. Let's slice our dataframe to make sure that they are liked"
   ]
  },
  {
   "cell_type": "code",
   "execution_count": 45,
   "metadata": {},
   "outputs": [
    {
     "data": {
      "text/html": [
       "<div>\n",
       "<style>\n",
       "    .dataframe thead tr:only-child th {\n",
       "        text-align: right;\n",
       "    }\n",
       "\n",
       "    .dataframe thead th {\n",
       "        text-align: left;\n",
       "    }\n",
       "\n",
       "    .dataframe tbody tr th {\n",
       "        vertical-align: top;\n",
       "    }\n",
       "</style>\n",
       "<table border=\"1\" class=\"dataframe\">\n",
       "  <thead>\n",
       "    <tr style=\"text-align: right;\">\n",
       "      <th></th>\n",
       "      <th>level_0</th>\n",
       "      <th>index</th>\n",
       "      <th>rt_trip_id</th>\n",
       "      <th>rt_stop_id</th>\n",
       "      <th>stop_offset</th>\n",
       "      <th>departure</th>\n",
       "      <th>lat</th>\n",
       "      <th>lng</th>\n",
       "      <th>distance_prev</th>\n",
       "      <th>departure_date</th>\n",
       "    </tr>\n",
       "  </thead>\n",
       "  <tbody>\n",
       "  </tbody>\n",
       "</table>\n",
       "</div>"
      ],
      "text/plain": [
       "Empty DataFrame\n",
       "Columns: [level_0, index, rt_trip_id, rt_stop_id, stop_offset, departure, lat, lng, distance_prev, departure_date]\n",
       "Index: []"
      ]
     },
     "execution_count": 45,
     "metadata": {},
     "output_type": "execute_result"
    }
   ],
   "source": [
    "df_split_trip[73:77]"
   ]
  },
  {
   "cell_type": "markdown",
   "metadata": {},
   "source": [
    "So that's it ! The jumps we saw in the graph correspond to missing records.\n",
    "\n",
    "#### Hypothses:  There are more missing records in other routes. Let's come up with a way to identify all the missing records through all the routes. \n",
    "\n",
    "This way we'll be able to identify stops that are not emitting data, Let's write a sliding window function that will help us find the just discovered anomalies in all the routes and at the same time return data frames that provide us with details of the stops for which we have no data across routes, this is a type of spatial hotspot.\n"
   ]
  },
  {
   "cell_type": "code",
   "execution_count": 46,
   "metadata": {
    "collapsed": true
   },
   "outputs": [],
   "source": [
    "# Discovers anomalies over the stop_offset serie od values by sliding a window of size two and making sure that the \n",
    "# value at rightmost end of the window differs positively from the leftmost one only my one.\n",
    "\n",
    "def find_missing_stop_offset(df_route, trip_id):\n",
    "#     df_route.sort_values(\"stop_offset\", inplace=True) \n",
    "\n",
    "#     df_route = df_route.reset_index(drop=False)\n",
    "    serie = df_route['stop_offset'].values\n",
    "    spatial_hotspots_list = []\n",
    "    for i in range(len(serie)):\n",
    "        if i+1 >= len(serie):\n",
    "            break\n",
    "            \n",
    "        # If the ith number differs positively by more than 1 then we have an outlier\n",
    "        if serie[i+1] > serie[i]+1:\n",
    "            index_i = df_route.index[df_route['stop_offset'] == serie[i]].tolist()[0]\n",
    "            dict_spatial_hotspot = {'rt_trip_id':trip_id, \n",
    "                     'start_rt_stop_id':df_route.iloc[index_i].rt_stop_id,\n",
    "                     'start_stop_offset': df_route.iloc[index_i].stop_offset,\n",
    "                     'start_lat': df_route.iloc[index_i].lat,\n",
    "                     'start_lng': df_route.iloc[index_i].lng,\n",
    "                     'end_rt_stop_id':df_route.iloc[index_i+1].rt_stop_id,\n",
    "                     'end_stop_offset': df_route.iloc[index_i+1].stop_offset,\n",
    "                     'end_lat': df_route.iloc[index_i+1].lat,\n",
    "                     'end_lng': df_route.iloc[index_i+1].lng,}\n",
    "            spatial_hotspots_list.append(dict_spatial_hotspot)\n",
    "    df_hotspots_for_trip = pd.DataFrame(spatial_hotspots_list)\n",
    "    return df_hotspots_for_trip"
   ]
  },
  {
   "cell_type": "markdown",
   "metadata": {},
   "source": [
    "Let's test it on the dataframe that we were exploring above to see if it finds the same missing rows."
   ]
  },
  {
   "cell_type": "code",
   "execution_count": 47,
   "metadata": {},
   "outputs": [
    {
     "data": {
      "text/html": [
       "<div>\n",
       "<style>\n",
       "    .dataframe thead tr:only-child th {\n",
       "        text-align: right;\n",
       "    }\n",
       "\n",
       "    .dataframe thead th {\n",
       "        text-align: left;\n",
       "    }\n",
       "\n",
       "    .dataframe tbody tr th {\n",
       "        vertical-align: top;\n",
       "    }\n",
       "</style>\n",
       "<table border=\"1\" class=\"dataframe\">\n",
       "  <thead>\n",
       "    <tr style=\"text-align: right;\">\n",
       "      <th></th>\n",
       "      <th>end_lat</th>\n",
       "      <th>end_lng</th>\n",
       "      <th>end_rt_stop_id</th>\n",
       "      <th>end_stop_offset</th>\n",
       "      <th>rt_trip_id</th>\n",
       "      <th>start_lat</th>\n",
       "      <th>start_lng</th>\n",
       "      <th>start_rt_stop_id</th>\n",
       "      <th>start_stop_offset</th>\n",
       "    </tr>\n",
       "  </thead>\n",
       "  <tbody>\n",
       "    <tr>\n",
       "      <th>0</th>\n",
       "      <td>45.581979</td>\n",
       "      <td>-73.626079</td>\n",
       "      <td>51037</td>\n",
       "      <td>49</td>\n",
       "      <td>204063694</td>\n",
       "      <td>45.578814</td>\n",
       "      <td>-73.615584</td>\n",
       "      <td>61784</td>\n",
       "      <td>46</td>\n",
       "    </tr>\n",
       "  </tbody>\n",
       "</table>\n",
       "</div>"
      ],
      "text/plain": [
       "     end_lat    end_lng  end_rt_stop_id  end_stop_offset  rt_trip_id  \\\n",
       "0  45.581979 -73.626079           51037               49   204063694   \n",
       "\n",
       "   start_lat  start_lng  start_rt_stop_id  start_stop_offset  \n",
       "0  45.578814 -73.615584             61784                 46  "
      ]
     },
     "execution_count": 47,
     "metadata": {},
     "output_type": "execute_result"
    }
   ],
   "source": [
    "df_spatial_hotspots = find_missing_stop_offset(df_split_trip, sample_route_id)\n",
    "df_spatial_hotspots.head()"
   ]
  },
  {
   "cell_type": "markdown",
   "metadata": {},
   "source": [
    "Indeed it does find the blind areas in the trip that we had just seen above along with another one (stop_offset from 57 to 59) that we had not spotted with the intuitive analysis above. Let's run this same process on all the routes so we can identify all the hotspots across all routes. This information will be of good value to the company since we will identify the stops from which we did not receive any events through Montreal for the period of emission of this data.\n",
    "\n",
    "\n",
    "***The following few cells will identify the geographical areas for which we did not recive stop related data***"
   ]
  },
  {
   "cell_type": "code",
   "execution_count": null,
   "metadata": {
    "collapsed": true
   },
   "outputs": [],
   "source": []
  },
  {
   "cell_type": "code",
   "execution_count": 48,
   "metadata": {
    "collapsed": true
   },
   "outputs": [],
   "source": [
    "def find_missing_spots(grouped_dataframe):\n",
    "    df_spatial_hotspots_list = []\n",
    "    for trip_id, group in grouped_dataframe:\n",
    "\n",
    "        df_list_trips = split_trips(group)\n",
    "        spatial_hotspot_per_trip_list = []\n",
    "\n",
    "        for trip in df_list_trips:\n",
    "            spatial_hotspot_per_trip_list.append(find_missing_stop_offset(trip, trip_id))\n",
    "\n",
    "        df_spatial_hotspots_list.append(pd.concat(spatial_hotspot_per_trip_list))\n",
    "\n",
    "    return pd.concat(df_spatial_hotspots_list)    "
   ]
  },
  {
   "cell_type": "code",
   "execution_count": 49,
   "metadata": {
    "collapsed": true
   },
   "outputs": [],
   "source": [
    "if path.exists('data/3_results/df_spatial_hotspots.csv') == False:\n",
    "    df_spatial_hotspots = df_spatial_hotspots.reset_index(drop=True)\n",
    "    df_spatial_hotspots.head()"
   ]
  },
  {
   "cell_type": "markdown",
   "metadata": {},
   "source": [
    "The dataframe 'df_spatial_hotspots' contains all the locations between 2 stops across all trips in which we are blind (we have no data for them). We will save it to disk in case we need to refer to it in the future.\n"
   ]
  },
  {
   "cell_type": "code",
   "execution_count": 50,
   "metadata": {
    "collapsed": true
   },
   "outputs": [],
   "source": [
    "if path.exists('data/3_results/df_spatial_hotspots.csv') == False:\n",
    "    df_spatial_hotspots.to_csv ('data/df_spatial_hotspots.csv', index = None, header=True)"
   ]
  },
  {
   "cell_type": "code",
   "execution_count": 51,
   "metadata": {
    "collapsed": true
   },
   "outputs": [],
   "source": [
    "# df_spatial_hotspots.shape()"
   ]
  },
  {
   "cell_type": "markdown",
   "metadata": {},
   "source": [
    "We have 3268 different hotspots through all the routes."
   ]
  },
  {
   "cell_type": "markdown",
   "metadata": {},
   "source": [
    "## Feature engineering"
   ]
  },
  {
   "cell_type": "code",
   "execution_count": 52,
   "metadata": {
    "collapsed": true
   },
   "outputs": [],
   "source": [
    "import utm\n",
    "import math\n",
    "import numpy as np"
   ]
  },
  {
   "cell_type": "markdown",
   "metadata": {
    "collapsed": true
   },
   "source": [
    "###  Distance\n",
    "\n",
    "Let's calculate the distance between two stops on our own in order to assess the quality of the distance_prev column. We will calculate the distance in a straight line between two stops using first the library UTM (Bidirectional UTM-WGS84 converter for python) and a euclidean distance function made by us.\n",
    "\n",
    "This will allow us to know if our distance_prev function is provides straight line distances or better."
   ]
  },
  {
   "cell_type": "code",
   "execution_count": 53,
   "metadata": {
    "collapsed": true
   },
   "outputs": [],
   "source": [
    "def calculate_euclidean_distance(x1,y1,x2,y2):  \n",
    "    utm_org = utm.from_latlon(x1, y1)\n",
    "    utm_dest = utm.from_latlon(x2, y2)\n",
    "    dist = math.sqrt((utm_dest[0] - utm_org[0])**2 + (utm_dest[1] - utm_org[1])**2)  \n",
    "    return dist  "
   ]
  },
  {
   "cell_type": "code",
   "execution_count": 54,
   "metadata": {},
   "outputs": [
    {
     "data": {
      "text/plain": [
       "847.4886498684139"
      ]
     },
     "execution_count": 54,
     "metadata": {},
     "output_type": "execute_result"
    }
   ],
   "source": [
    "distance = calculate_euclidean_distance(45.459726, -73.544160, 45.452648, -73.548198)\n",
    "distance"
   ]
  },
  {
   "cell_type": "code",
   "execution_count": 55,
   "metadata": {
    "collapsed": true
   },
   "outputs": [],
   "source": [
    "#  df_list_trips[0].apply(lambda row: row.lat + row.lng, axis=1)\n",
    "def calculate_distances(dataframe):\n",
    "    distances = []\n",
    "    for index, row in dataframe.iterrows():\n",
    "        distance = 0\n",
    "        if index > 0:\n",
    "            previous_row = dataframe.iloc[index-1]\n",
    "            distance = calculate_euclidean_distance(previous_row.lat, previous_row.lng, row.lat, row.lng)\n",
    "        distances.append(distance)\n",
    "    return distances"
   ]
  },
  {
   "cell_type": "code",
   "execution_count": 56,
   "metadata": {
    "collapsed": true
   },
   "outputs": [],
   "source": [
    "distances = calculate_distances(df_split_trip)\n",
    "df_split_trip.insert(len(df_split_trip.columns), \"dist_to_prev\", distances, True) "
   ]
  },
  {
   "cell_type": "code",
   "execution_count": 57,
   "metadata": {},
   "outputs": [
    {
     "data": {
      "text/html": [
       "<div>\n",
       "<style>\n",
       "    .dataframe thead tr:only-child th {\n",
       "        text-align: right;\n",
       "    }\n",
       "\n",
       "    .dataframe thead th {\n",
       "        text-align: left;\n",
       "    }\n",
       "\n",
       "    .dataframe tbody tr th {\n",
       "        vertical-align: top;\n",
       "    }\n",
       "</style>\n",
       "<table border=\"1\" class=\"dataframe\">\n",
       "  <thead>\n",
       "    <tr style=\"text-align: right;\">\n",
       "      <th></th>\n",
       "      <th>level_0</th>\n",
       "      <th>index</th>\n",
       "      <th>rt_trip_id</th>\n",
       "      <th>rt_stop_id</th>\n",
       "      <th>stop_offset</th>\n",
       "      <th>departure</th>\n",
       "      <th>lat</th>\n",
       "      <th>lng</th>\n",
       "      <th>distance_prev</th>\n",
       "      <th>departure_date</th>\n",
       "      <th>dist_to_prev</th>\n",
       "    </tr>\n",
       "  </thead>\n",
       "  <tbody>\n",
       "    <tr>\n",
       "      <th>0</th>\n",
       "      <td>0</td>\n",
       "      <td>111255</td>\n",
       "      <td>204063694</td>\n",
       "      <td>54269</td>\n",
       "      <td>0</td>\n",
       "      <td>1568638740</td>\n",
       "      <td>45.550548</td>\n",
       "      <td>-73.655055</td>\n",
       "      <td>0.0</td>\n",
       "      <td>2019-09-16 12:59:00</td>\n",
       "      <td>0.000000</td>\n",
       "    </tr>\n",
       "    <tr>\n",
       "      <th>1</th>\n",
       "      <td>1</td>\n",
       "      <td>111256</td>\n",
       "      <td>204063694</td>\n",
       "      <td>61241</td>\n",
       "      <td>1</td>\n",
       "      <td>1568638860</td>\n",
       "      <td>45.551789</td>\n",
       "      <td>-73.650271</td>\n",
       "      <td>554.0</td>\n",
       "      <td>2019-09-16 13:01:00</td>\n",
       "      <td>398.113600</td>\n",
       "    </tr>\n",
       "    <tr>\n",
       "      <th>2</th>\n",
       "      <td>2</td>\n",
       "      <td>111257</td>\n",
       "      <td>204063694</td>\n",
       "      <td>61117</td>\n",
       "      <td>2</td>\n",
       "      <td>1568638920</td>\n",
       "      <td>45.553471</td>\n",
       "      <td>-73.650172</td>\n",
       "      <td>226.0</td>\n",
       "      <td>2019-09-16 13:02:00</td>\n",
       "      <td>187.052274</td>\n",
       "    </tr>\n",
       "    <tr>\n",
       "      <th>3</th>\n",
       "      <td>3</td>\n",
       "      <td>111258</td>\n",
       "      <td>204063694</td>\n",
       "      <td>50466</td>\n",
       "      <td>3</td>\n",
       "      <td>1568638980</td>\n",
       "      <td>45.554496</td>\n",
       "      <td>-73.653760</td>\n",
       "      <td>302.0</td>\n",
       "      <td>2019-09-16 13:03:00</td>\n",
       "      <td>302.359194</td>\n",
       "    </tr>\n",
       "    <tr>\n",
       "      <th>4</th>\n",
       "      <td>4</td>\n",
       "      <td>111259</td>\n",
       "      <td>204063694</td>\n",
       "      <td>50420</td>\n",
       "      <td>4</td>\n",
       "      <td>1568639040</td>\n",
       "      <td>45.555440</td>\n",
       "      <td>-73.656970</td>\n",
       "      <td>272.0</td>\n",
       "      <td>2019-09-16 13:04:00</td>\n",
       "      <td>271.644700</td>\n",
       "    </tr>\n",
       "  </tbody>\n",
       "</table>\n",
       "</div>"
      ],
      "text/plain": [
       "   level_0   index  rt_trip_id  rt_stop_id  stop_offset   departure  \\\n",
       "0        0  111255   204063694       54269            0  1568638740   \n",
       "1        1  111256   204063694       61241            1  1568638860   \n",
       "2        2  111257   204063694       61117            2  1568638920   \n",
       "3        3  111258   204063694       50466            3  1568638980   \n",
       "4        4  111259   204063694       50420            4  1568639040   \n",
       "\n",
       "         lat        lng  distance_prev       departure_date  dist_to_prev  \n",
       "0  45.550548 -73.655055            0.0  2019-09-16 12:59:00      0.000000  \n",
       "1  45.551789 -73.650271          554.0  2019-09-16 13:01:00    398.113600  \n",
       "2  45.553471 -73.650172          226.0  2019-09-16 13:02:00    187.052274  \n",
       "3  45.554496 -73.653760          302.0  2019-09-16 13:03:00    302.359194  \n",
       "4  45.555440 -73.656970          272.0  2019-09-16 13:04:00    271.644700  "
      ]
     },
     "execution_count": 57,
     "metadata": {},
     "output_type": "execute_result"
    }
   ],
   "source": [
    "df_split_trip.head()"
   ]
  },
  {
   "cell_type": "code",
   "execution_count": 64,
   "metadata": {},
   "outputs": [
    {
     "data": {
      "image/png": "[encoded data removed]",
      "text/plain": [
       "<matplotlib.figure.Figure at 0x11ab352b0>"
      ]
     },
     "metadata": {},
     "output_type": "display_data"
    }
   ],
   "source": [
    "plt.figure(figsize=(15, 10), dpi=70)\n",
    "sns.tsplot([df_split_trip['distance_prev'], df_split_trip['dist_to_prev']],\n",
    "           time=df_split_trip['departure'],\n",
    "          legend=True)\n",
    "sns.plt.show()"
   ]
  },
  {
   "cell_type": "code",
   "execution_count": 65,
   "metadata": {},
   "outputs": [
    {
     "data": {
      "image/png": "[encoded data removed]",
      "text/plain": [
       "<matplotlib.figure.Figure at 0x118a9c9e8>"
      ]
     },
     "metadata": {},
     "output_type": "display_data"
    }
   ],
   "source": [
    "plt.figure(figsize=(15, 7), dpi=70)\n",
    "sns.regplot(x=\"distance_prev\", y=\"dist_to_prev\", data=df_split_trip);\n",
    "# sns.plt.legend(labels = ['dist_to_start']) \n",
    "sns.plt.show()"
   ]
  },
  {
   "cell_type": "code",
   "execution_count": 66,
   "metadata": {
    "scrolled": true
   },
   "outputs": [
    {
     "data": {
      "text/html": [
       "<div>\n",
       "<style>\n",
       "    .dataframe thead tr:only-child th {\n",
       "        text-align: right;\n",
       "    }\n",
       "\n",
       "    .dataframe thead th {\n",
       "        text-align: left;\n",
       "    }\n",
       "\n",
       "    .dataframe tbody tr th {\n",
       "        vertical-align: top;\n",
       "    }\n",
       "</style>\n",
       "<table border=\"1\" class=\"dataframe\">\n",
       "  <thead>\n",
       "    <tr style=\"text-align: right;\">\n",
       "      <th></th>\n",
       "      <th>level_0</th>\n",
       "      <th>index</th>\n",
       "      <th>rt_trip_id</th>\n",
       "      <th>rt_stop_id</th>\n",
       "      <th>stop_offset</th>\n",
       "      <th>departure</th>\n",
       "      <th>lat</th>\n",
       "      <th>lng</th>\n",
       "      <th>distance_prev</th>\n",
       "      <th>departure_date</th>\n",
       "      <th>dist_to_prev</th>\n",
       "      <th>dist_to_start</th>\n",
       "    </tr>\n",
       "  </thead>\n",
       "  <tbody>\n",
       "  </tbody>\n",
       "</table>\n",
       "</div>"
      ],
      "text/plain": [
       "Empty DataFrame\n",
       "Columns: [level_0, index, rt_trip_id, rt_stop_id, stop_offset, departure, lat, lng, distance_prev, departure_date, dist_to_prev, dist_to_start]\n",
       "Index: []"
      ]
     },
     "execution_count": 66,
     "metadata": {},
     "output_type": "execute_result"
    }
   ],
   "source": [
    "df_split_trip.loc[df_split_trip['dist_to_prev'] > 1500]"
   ]
  },
  {
   "cell_type": "markdown",
   "metadata": {},
   "source": [
    "We have some problems with our calculation of time given the gps coordinates!!"
   ]
  },
  {
   "cell_type": "markdown",
   "metadata": {},
   "source": [
    "We can see that our calculated distances are almost all the time smaller that the ones that were given (ditance_prev). This tells us that the provided values are a better measurement of distances between stops. It might even be that they approximate the full trayectory of the bus.\n",
    "\n",
    "This also gives us more confidence on using ditance_prev to conmpute speeds and a 'naive eta'."
   ]
  },
  {
   "cell_type": "markdown",
   "metadata": {},
   "source": [
    "#### Distance to start\n",
    "\n",
    "This is another feature that might come in handy. The distance of each stop to the start."
   ]
  },
  {
   "cell_type": "code",
   "execution_count": 67,
   "metadata": {
    "collapsed": true
   },
   "outputs": [],
   "source": [
    "def distance_to_start(dataframe):\n",
    "    distances = [0]\n",
    "    distance_sum = 0\n",
    "    for index, row in dataframe.iterrows():\n",
    "        distance_sum += row.distance_prev + sum(distances)\n",
    "        distances.append(distance_sum)\n",
    "    return distances[:len(distances)-1]"
   ]
  },
  {
   "cell_type": "code",
   "execution_count": 68,
   "metadata": {
    "collapsed": true
   },
   "outputs": [],
   "source": [
    "distances = distance_to_start(df_split_trip)\n",
    "df_split_trip.insert(len(df_split_trip.columns), \"dist_to_start\", distances, True) "
   ]
  },
  {
   "cell_type": "code",
   "execution_count": 69,
   "metadata": {},
   "outputs": [
    {
     "data": {
      "text/html": [
       "<div>\n",
       "<style>\n",
       "    .dataframe thead tr:only-child th {\n",
       "        text-align: right;\n",
       "    }\n",
       "\n",
       "    .dataframe thead th {\n",
       "        text-align: left;\n",
       "    }\n",
       "\n",
       "    .dataframe tbody tr th {\n",
       "        vertical-align: top;\n",
       "    }\n",
       "</style>\n",
       "<table border=\"1\" class=\"dataframe\">\n",
       "  <thead>\n",
       "    <tr style=\"text-align: right;\">\n",
       "      <th></th>\n",
       "      <th>level_0</th>\n",
       "      <th>index</th>\n",
       "      <th>rt_trip_id</th>\n",
       "      <th>rt_stop_id</th>\n",
       "      <th>stop_offset</th>\n",
       "      <th>departure</th>\n",
       "      <th>lat</th>\n",
       "      <th>lng</th>\n",
       "      <th>distance_prev</th>\n",
       "      <th>departure_date</th>\n",
       "      <th>dist_to_prev</th>\n",
       "      <th>dist_to_start</th>\n",
       "      <th>dist_to_start</th>\n",
       "    </tr>\n",
       "  </thead>\n",
       "  <tbody>\n",
       "    <tr>\n",
       "      <th>0</th>\n",
       "      <td>0</td>\n",
       "      <td>111255</td>\n",
       "      <td>204063694</td>\n",
       "      <td>54269</td>\n",
       "      <td>0</td>\n",
       "      <td>1568638740</td>\n",
       "      <td>45.550548</td>\n",
       "      <td>-73.655055</td>\n",
       "      <td>0.0</td>\n",
       "      <td>2019-09-16 12:59:00</td>\n",
       "      <td>0.000000</td>\n",
       "      <td>0.0</td>\n",
       "      <td>0.0</td>\n",
       "    </tr>\n",
       "    <tr>\n",
       "      <th>1</th>\n",
       "      <td>1</td>\n",
       "      <td>111256</td>\n",
       "      <td>204063694</td>\n",
       "      <td>61241</td>\n",
       "      <td>1</td>\n",
       "      <td>1568638860</td>\n",
       "      <td>45.551789</td>\n",
       "      <td>-73.650271</td>\n",
       "      <td>554.0</td>\n",
       "      <td>2019-09-16 13:01:00</td>\n",
       "      <td>398.113600</td>\n",
       "      <td>0.0</td>\n",
       "      <td>0.0</td>\n",
       "    </tr>\n",
       "    <tr>\n",
       "      <th>2</th>\n",
       "      <td>2</td>\n",
       "      <td>111257</td>\n",
       "      <td>204063694</td>\n",
       "      <td>61117</td>\n",
       "      <td>2</td>\n",
       "      <td>1568638920</td>\n",
       "      <td>45.553471</td>\n",
       "      <td>-73.650172</td>\n",
       "      <td>226.0</td>\n",
       "      <td>2019-09-16 13:02:00</td>\n",
       "      <td>187.052274</td>\n",
       "      <td>554.0</td>\n",
       "      <td>554.0</td>\n",
       "    </tr>\n",
       "    <tr>\n",
       "      <th>3</th>\n",
       "      <td>3</td>\n",
       "      <td>111258</td>\n",
       "      <td>204063694</td>\n",
       "      <td>50466</td>\n",
       "      <td>3</td>\n",
       "      <td>1568638980</td>\n",
       "      <td>45.554496</td>\n",
       "      <td>-73.653760</td>\n",
       "      <td>302.0</td>\n",
       "      <td>2019-09-16 13:03:00</td>\n",
       "      <td>302.359194</td>\n",
       "      <td>1334.0</td>\n",
       "      <td>1334.0</td>\n",
       "    </tr>\n",
       "    <tr>\n",
       "      <th>4</th>\n",
       "      <td>4</td>\n",
       "      <td>111259</td>\n",
       "      <td>204063694</td>\n",
       "      <td>50420</td>\n",
       "      <td>4</td>\n",
       "      <td>1568639040</td>\n",
       "      <td>45.555440</td>\n",
       "      <td>-73.656970</td>\n",
       "      <td>272.0</td>\n",
       "      <td>2019-09-16 13:04:00</td>\n",
       "      <td>271.644700</td>\n",
       "      <td>3524.0</td>\n",
       "      <td>3524.0</td>\n",
       "    </tr>\n",
       "  </tbody>\n",
       "</table>\n",
       "</div>"
      ],
      "text/plain": [
       "   level_0   index  rt_trip_id  rt_stop_id  stop_offset   departure  \\\n",
       "0        0  111255   204063694       54269            0  1568638740   \n",
       "1        1  111256   204063694       61241            1  1568638860   \n",
       "2        2  111257   204063694       61117            2  1568638920   \n",
       "3        3  111258   204063694       50466            3  1568638980   \n",
       "4        4  111259   204063694       50420            4  1568639040   \n",
       "\n",
       "         lat        lng  distance_prev       departure_date  dist_to_prev  \\\n",
       "0  45.550548 -73.655055            0.0  2019-09-16 12:59:00      0.000000   \n",
       "1  45.551789 -73.650271          554.0  2019-09-16 13:01:00    398.113600   \n",
       "2  45.553471 -73.650172          226.0  2019-09-16 13:02:00    187.052274   \n",
       "3  45.554496 -73.653760          302.0  2019-09-16 13:03:00    302.359194   \n",
       "4  45.555440 -73.656970          272.0  2019-09-16 13:04:00    271.644700   \n",
       "\n",
       "   dist_to_start  dist_to_start  \n",
       "0            0.0            0.0  \n",
       "1            0.0            0.0  \n",
       "2          554.0          554.0  \n",
       "3         1334.0         1334.0  \n",
       "4         3524.0         3524.0  "
      ]
     },
     "execution_count": 69,
     "metadata": {},
     "output_type": "execute_result"
    }
   ],
   "source": [
    "df_split_trip.head()"
   ]
  },
  {
   "cell_type": "markdown",
   "metadata": {},
   "source": [
    "### Time\n",
    "\n",
    "Since we have been provided with 'departure_date' we can use it as a threshold to judge whether the predictions are accurate or not. It can also be used to create an optimal user arrival time feature ('arrival_ax_date') by subtracting a constant (optimum_interval) to 'departure_date'. The size of the constant will represent the length of the interval of time in minutes that will define the segment in which it is best for the user to arrive.\n",
    "\n",
    "For example if we set optimum_interval to 5 minutes then we would be considering that up to 5 minutes before the bus arrived, the user would be happy. This is a bit too long. Maybe one minute, arriving 1 minute before the bus arrives would be very convenient since the waiting time would be minimized a lot. We'll use 1.5 minutes value for now.\n",
    "\n",
    "\n",
    "#### Aproximate time of arrival (arrival_ax_date)\n",
    "Let's define arrival_ax_date = departure_date - 1 min. This feature will be significantly closer to the true value of the ETA since arrival only happens shortly after departure (this will not be true for all cases). Creating this feature will allow us to train our models around a date that is 'closer' to the true ETA. This feature will be used as the independent variable (labels to train) in the modeling section.\n",
    "\n",
    "#### Time in seconds to previous stop (time_sec_prev)\n",
    "We will calculate the time in seconds to the last stop. This feature will be of crucial importance when computing the speed to previous stop further down. We will compute the difference between current and previous 'departure_time's. To calculate the time in seconds between two consecutive bus departures \n"
   ]
  },
  {
   "cell_type": "code",
   "execution_count": 74,
   "metadata": {
    "collapsed": true
   },
   "outputs": [],
   "source": [
    "def calculate_time_previous_stop(dataframe):\n",
    "    times = [0]\n",
    "    dates = dataframe['departure_date'].values\n",
    "    for index, row in dataframe.iterrows():\n",
    "        time = 0\n",
    "        if index < len(dates)-1:\n",
    "            diff = pd.to_datetime(dates[index+1]) - pd.to_datetime(row.departure_date)\n",
    "            time = (diff/np.timedelta64(1,'D'))*86400\n",
    "        \n",
    "        times.append(time)\n",
    "    return times[:len(times)-1]\n",
    "\n",
    "def calculate_arrival_aprox_time(dataframe, optimum_interval):\n",
    "    user_optimal_times = []\n",
    "    for index, row in dataframe.iterrows():\n",
    "        # Calculate optimal time for user arrival (one minute before bus departure)\n",
    "        user_optimal = pd.to_datetime(row.departure_date) - pd.Timedelta(seconds = optimum_interval)\n",
    "    \n",
    "        user_optimal_times.append(user_optimal)\n",
    "    return user_optimal_times "
   ]
  },
  {
   "cell_type": "code",
   "execution_count": 75,
   "metadata": {
    "collapsed": true
   },
   "outputs": [],
   "source": [
    "times = calculate_time_previous_stop(df_split_trip)\n",
    "user_optimal_times = calculate_arrival_aprox_time(df_split_trip, 30)\n",
    "df_split_trip.insert(len(df_split_trip.columns), \"time_sec_prev\", times, True) \n",
    "df_split_trip.insert(len(df_split_trip.columns), \"arrival_ax_date\", user_optimal_times, True)\n"
   ]
  },
  {
   "cell_type": "code",
   "execution_count": 76,
   "metadata": {},
   "outputs": [
    {
     "data": {
      "text/html": [
       "<div>\n",
       "<style>\n",
       "    .dataframe thead tr:only-child th {\n",
       "        text-align: right;\n",
       "    }\n",
       "\n",
       "    .dataframe thead th {\n",
       "        text-align: left;\n",
       "    }\n",
       "\n",
       "    .dataframe tbody tr th {\n",
       "        vertical-align: top;\n",
       "    }\n",
       "</style>\n",
       "<table border=\"1\" class=\"dataframe\">\n",
       "  <thead>\n",
       "    <tr style=\"text-align: right;\">\n",
       "      <th></th>\n",
       "      <th>level_0</th>\n",
       "      <th>index</th>\n",
       "      <th>rt_trip_id</th>\n",
       "      <th>rt_stop_id</th>\n",
       "      <th>stop_offset</th>\n",
       "      <th>departure</th>\n",
       "      <th>lat</th>\n",
       "      <th>lng</th>\n",
       "      <th>distance_prev</th>\n",
       "      <th>departure_date</th>\n",
       "      <th>dist_to_prev</th>\n",
       "      <th>dist_to_start</th>\n",
       "      <th>dist_to_start</th>\n",
       "      <th>time_sec_prev</th>\n",
       "      <th>arrival_ax_date</th>\n",
       "    </tr>\n",
       "  </thead>\n",
       "  <tbody>\n",
       "    <tr>\n",
       "      <th>0</th>\n",
       "      <td>0</td>\n",
       "      <td>111255</td>\n",
       "      <td>204063694</td>\n",
       "      <td>54269</td>\n",
       "      <td>0</td>\n",
       "      <td>1568638740</td>\n",
       "      <td>45.550548</td>\n",
       "      <td>-73.655055</td>\n",
       "      <td>0.0</td>\n",
       "      <td>2019-09-16 12:59:00</td>\n",
       "      <td>0.000000</td>\n",
       "      <td>0.0</td>\n",
       "      <td>0.0</td>\n",
       "      <td>0.0</td>\n",
       "      <td>2019-09-16 12:58:30</td>\n",
       "    </tr>\n",
       "    <tr>\n",
       "      <th>1</th>\n",
       "      <td>1</td>\n",
       "      <td>111256</td>\n",
       "      <td>204063694</td>\n",
       "      <td>61241</td>\n",
       "      <td>1</td>\n",
       "      <td>1568638860</td>\n",
       "      <td>45.551789</td>\n",
       "      <td>-73.650271</td>\n",
       "      <td>554.0</td>\n",
       "      <td>2019-09-16 13:01:00</td>\n",
       "      <td>398.113600</td>\n",
       "      <td>0.0</td>\n",
       "      <td>0.0</td>\n",
       "      <td>120.0</td>\n",
       "      <td>2019-09-16 13:00:30</td>\n",
       "    </tr>\n",
       "    <tr>\n",
       "      <th>2</th>\n",
       "      <td>2</td>\n",
       "      <td>111257</td>\n",
       "      <td>204063694</td>\n",
       "      <td>61117</td>\n",
       "      <td>2</td>\n",
       "      <td>1568638920</td>\n",
       "      <td>45.553471</td>\n",
       "      <td>-73.650172</td>\n",
       "      <td>226.0</td>\n",
       "      <td>2019-09-16 13:02:00</td>\n",
       "      <td>187.052274</td>\n",
       "      <td>554.0</td>\n",
       "      <td>554.0</td>\n",
       "      <td>60.0</td>\n",
       "      <td>2019-09-16 13:01:30</td>\n",
       "    </tr>\n",
       "    <tr>\n",
       "      <th>3</th>\n",
       "      <td>3</td>\n",
       "      <td>111258</td>\n",
       "      <td>204063694</td>\n",
       "      <td>50466</td>\n",
       "      <td>3</td>\n",
       "      <td>1568638980</td>\n",
       "      <td>45.554496</td>\n",
       "      <td>-73.653760</td>\n",
       "      <td>302.0</td>\n",
       "      <td>2019-09-16 13:03:00</td>\n",
       "      <td>302.359194</td>\n",
       "      <td>1334.0</td>\n",
       "      <td>1334.0</td>\n",
       "      <td>60.0</td>\n",
       "      <td>2019-09-16 13:02:30</td>\n",
       "    </tr>\n",
       "    <tr>\n",
       "      <th>4</th>\n",
       "      <td>4</td>\n",
       "      <td>111259</td>\n",
       "      <td>204063694</td>\n",
       "      <td>50420</td>\n",
       "      <td>4</td>\n",
       "      <td>1568639040</td>\n",
       "      <td>45.555440</td>\n",
       "      <td>-73.656970</td>\n",
       "      <td>272.0</td>\n",
       "      <td>2019-09-16 13:04:00</td>\n",
       "      <td>271.644700</td>\n",
       "      <td>3524.0</td>\n",
       "      <td>3524.0</td>\n",
       "      <td>60.0</td>\n",
       "      <td>2019-09-16 13:03:30</td>\n",
       "    </tr>\n",
       "  </tbody>\n",
       "</table>\n",
       "</div>"
      ],
      "text/plain": [
       "   level_0   index  rt_trip_id  rt_stop_id  stop_offset   departure  \\\n",
       "0        0  111255   204063694       54269            0  1568638740   \n",
       "1        1  111256   204063694       61241            1  1568638860   \n",
       "2        2  111257   204063694       61117            2  1568638920   \n",
       "3        3  111258   204063694       50466            3  1568638980   \n",
       "4        4  111259   204063694       50420            4  1568639040   \n",
       "\n",
       "         lat        lng  distance_prev       departure_date  dist_to_prev  \\\n",
       "0  45.550548 -73.655055            0.0  2019-09-16 12:59:00      0.000000   \n",
       "1  45.551789 -73.650271          554.0  2019-09-16 13:01:00    398.113600   \n",
       "2  45.553471 -73.650172          226.0  2019-09-16 13:02:00    187.052274   \n",
       "3  45.554496 -73.653760          302.0  2019-09-16 13:03:00    302.359194   \n",
       "4  45.555440 -73.656970          272.0  2019-09-16 13:04:00    271.644700   \n",
       "\n",
       "   dist_to_start  dist_to_start  time_sec_prev     arrival_ax_date  \n",
       "0            0.0            0.0            0.0 2019-09-16 12:58:30  \n",
       "1            0.0            0.0          120.0 2019-09-16 13:00:30  \n",
       "2          554.0          554.0           60.0 2019-09-16 13:01:30  \n",
       "3         1334.0         1334.0           60.0 2019-09-16 13:02:30  \n",
       "4         3524.0         3524.0           60.0 2019-09-16 13:03:30  "
      ]
     },
     "execution_count": 76,
     "metadata": {},
     "output_type": "execute_result"
    }
   ],
   "source": [
    "df_split_trip.head()"
   ]
  },
  {
   "cell_type": "markdown",
   "metadata": {},
   "source": [
    "### Speed\n",
    "\n",
    "This will probably be the most important feature when we come to modeling since we will directly use it to compute ETAs in two simple models below. "
   ]
  },
  {
   "cell_type": "code",
   "execution_count": 77,
   "metadata": {
    "collapsed": true
   },
   "outputs": [],
   "source": [
    "def calculate_speed(dataframe):\n",
    "    speeds = []\n",
    "    for index, row in dataframe.iterrows():\n",
    "        speed = 0\n",
    "        if float(row.time_sec_prev) > 0:\n",
    "            speed = float(row.distance_prev) / float(row.time_sec_prev)\n",
    "        speeds.append(speed)\n",
    "    return speeds"
   ]
  },
  {
   "cell_type": "code",
   "execution_count": 78,
   "metadata": {
    "collapsed": true
   },
   "outputs": [],
   "source": [
    "speeds = calculate_speed(df_split_trip)\n",
    "df_split_trip.insert(len(df_split_trip.columns), \"speed_mps_prev\", speeds, True) "
   ]
  },
  {
   "cell_type": "code",
   "execution_count": 79,
   "metadata": {},
   "outputs": [
    {
     "data": {
      "text/html": [
       "<div>\n",
       "<style>\n",
       "    .dataframe thead tr:only-child th {\n",
       "        text-align: right;\n",
       "    }\n",
       "\n",
       "    .dataframe thead th {\n",
       "        text-align: left;\n",
       "    }\n",
       "\n",
       "    .dataframe tbody tr th {\n",
       "        vertical-align: top;\n",
       "    }\n",
       "</style>\n",
       "<table border=\"1\" class=\"dataframe\">\n",
       "  <thead>\n",
       "    <tr style=\"text-align: right;\">\n",
       "      <th></th>\n",
       "      <th>level_0</th>\n",
       "      <th>index</th>\n",
       "      <th>rt_trip_id</th>\n",
       "      <th>rt_stop_id</th>\n",
       "      <th>stop_offset</th>\n",
       "      <th>departure</th>\n",
       "      <th>lat</th>\n",
       "      <th>lng</th>\n",
       "      <th>distance_prev</th>\n",
       "      <th>departure_date</th>\n",
       "      <th>dist_to_prev</th>\n",
       "      <th>dist_to_start</th>\n",
       "      <th>dist_to_start</th>\n",
       "      <th>time_sec_prev</th>\n",
       "      <th>arrival_ax_date</th>\n",
       "      <th>speed_mps_prev</th>\n",
       "    </tr>\n",
       "  </thead>\n",
       "  <tbody>\n",
       "    <tr>\n",
       "      <th>0</th>\n",
       "      <td>0</td>\n",
       "      <td>111255</td>\n",
       "      <td>204063694</td>\n",
       "      <td>54269</td>\n",
       "      <td>0</td>\n",
       "      <td>1568638740</td>\n",
       "      <td>45.550548</td>\n",
       "      <td>-73.655055</td>\n",
       "      <td>0.0</td>\n",
       "      <td>2019-09-16 12:59:00</td>\n",
       "      <td>0.000000</td>\n",
       "      <td>0.0</td>\n",
       "      <td>0.0</td>\n",
       "      <td>0.0</td>\n",
       "      <td>2019-09-16 12:58:30</td>\n",
       "      <td>0.000000</td>\n",
       "    </tr>\n",
       "    <tr>\n",
       "      <th>1</th>\n",
       "      <td>1</td>\n",
       "      <td>111256</td>\n",
       "      <td>204063694</td>\n",
       "      <td>61241</td>\n",
       "      <td>1</td>\n",
       "      <td>1568638860</td>\n",
       "      <td>45.551789</td>\n",
       "      <td>-73.650271</td>\n",
       "      <td>554.0</td>\n",
       "      <td>2019-09-16 13:01:00</td>\n",
       "      <td>398.113600</td>\n",
       "      <td>0.0</td>\n",
       "      <td>0.0</td>\n",
       "      <td>120.0</td>\n",
       "      <td>2019-09-16 13:00:30</td>\n",
       "      <td>4.616667</td>\n",
       "    </tr>\n",
       "    <tr>\n",
       "      <th>2</th>\n",
       "      <td>2</td>\n",
       "      <td>111257</td>\n",
       "      <td>204063694</td>\n",
       "      <td>61117</td>\n",
       "      <td>2</td>\n",
       "      <td>1568638920</td>\n",
       "      <td>45.553471</td>\n",
       "      <td>-73.650172</td>\n",
       "      <td>226.0</td>\n",
       "      <td>2019-09-16 13:02:00</td>\n",
       "      <td>187.052274</td>\n",
       "      <td>554.0</td>\n",
       "      <td>554.0</td>\n",
       "      <td>60.0</td>\n",
       "      <td>2019-09-16 13:01:30</td>\n",
       "      <td>3.766667</td>\n",
       "    </tr>\n",
       "    <tr>\n",
       "      <th>3</th>\n",
       "      <td>3</td>\n",
       "      <td>111258</td>\n",
       "      <td>204063694</td>\n",
       "      <td>50466</td>\n",
       "      <td>3</td>\n",
       "      <td>1568638980</td>\n",
       "      <td>45.554496</td>\n",
       "      <td>-73.653760</td>\n",
       "      <td>302.0</td>\n",
       "      <td>2019-09-16 13:03:00</td>\n",
       "      <td>302.359194</td>\n",
       "      <td>1334.0</td>\n",
       "      <td>1334.0</td>\n",
       "      <td>60.0</td>\n",
       "      <td>2019-09-16 13:02:30</td>\n",
       "      <td>5.033333</td>\n",
       "    </tr>\n",
       "    <tr>\n",
       "      <th>4</th>\n",
       "      <td>4</td>\n",
       "      <td>111259</td>\n",
       "      <td>204063694</td>\n",
       "      <td>50420</td>\n",
       "      <td>4</td>\n",
       "      <td>1568639040</td>\n",
       "      <td>45.555440</td>\n",
       "      <td>-73.656970</td>\n",
       "      <td>272.0</td>\n",
       "      <td>2019-09-16 13:04:00</td>\n",
       "      <td>271.644700</td>\n",
       "      <td>3524.0</td>\n",
       "      <td>3524.0</td>\n",
       "      <td>60.0</td>\n",
       "      <td>2019-09-16 13:03:30</td>\n",
       "      <td>4.533333</td>\n",
       "    </tr>\n",
       "  </tbody>\n",
       "</table>\n",
       "</div>"
      ],
      "text/plain": [
       "   level_0   index  rt_trip_id  rt_stop_id  stop_offset   departure  \\\n",
       "0        0  111255   204063694       54269            0  1568638740   \n",
       "1        1  111256   204063694       61241            1  1568638860   \n",
       "2        2  111257   204063694       61117            2  1568638920   \n",
       "3        3  111258   204063694       50466            3  1568638980   \n",
       "4        4  111259   204063694       50420            4  1568639040   \n",
       "\n",
       "         lat        lng  distance_prev       departure_date  dist_to_prev  \\\n",
       "0  45.550548 -73.655055            0.0  2019-09-16 12:59:00      0.000000   \n",
       "1  45.551789 -73.650271          554.0  2019-09-16 13:01:00    398.113600   \n",
       "2  45.553471 -73.650172          226.0  2019-09-16 13:02:00    187.052274   \n",
       "3  45.554496 -73.653760          302.0  2019-09-16 13:03:00    302.359194   \n",
       "4  45.555440 -73.656970          272.0  2019-09-16 13:04:00    271.644700   \n",
       "\n",
       "   dist_to_start  dist_to_start  time_sec_prev     arrival_ax_date  \\\n",
       "0            0.0            0.0            0.0 2019-09-16 12:58:30   \n",
       "1            0.0            0.0          120.0 2019-09-16 13:00:30   \n",
       "2          554.0          554.0           60.0 2019-09-16 13:01:30   \n",
       "3         1334.0         1334.0           60.0 2019-09-16 13:02:30   \n",
       "4         3524.0         3524.0           60.0 2019-09-16 13:03:30   \n",
       "\n",
       "   speed_mps_prev  \n",
       "0        0.000000  \n",
       "1        4.616667  \n",
       "2        3.766667  \n",
       "3        5.033333  \n",
       "4        4.533333  "
      ]
     },
     "execution_count": 79,
     "metadata": {},
     "output_type": "execute_result"
    }
   ],
   "source": [
    "df_split_trip.head()"
   ]
  },
  {
   "cell_type": "markdown",
   "metadata": {},
   "source": [
    "### Feature engineering the full dataset\n",
    "\n",
    "Let's ingeneer the same features in all the dataset and save it for more complex modeling.\n"
   ]
  },
  {
   "cell_type": "code",
   "execution_count": 80,
   "metadata": {
    "collapsed": true
   },
   "outputs": [],
   "source": [
    "def enhance_dataset(df_grouped_by_trip):\n",
    "    df_enhanced_trips_list = []\n",
    "    for trip_id, group in df_grouped_by_trip:\n",
    "        print('Trip id: ' + str(trip_id))\n",
    "        \n",
    "        df_list_trips = tools.split_trips(group)\n",
    "        print('All recoords for trip: ' + str(group.shape))\n",
    "        print('Trips in data: ' + str(len(df_list_trips)))\n",
    "        \n",
    "        df_list_trips_enhanced = []\n",
    "\n",
    "        for trip in df_list_trips:\n",
    "            print(trip.head())\n",
    "            print(trip.shape)\n",
    "            print('Stops in trip : ' + str(trip.shape[0]))\n",
    "            \n",
    "            # Distances\n",
    "            distances = distance_to_start(trip)\n",
    "            trip.insert(len(trip.columns), \"dist_to_start\", distances, True) \n",
    "            \n",
    "            # Time\n",
    "            times = calculate_time_previous_stop(trip)\n",
    "            print(len(times))\n",
    "            trip.insert(len(trip.columns), \"time_sec_prev\", times, True) \n",
    "            \n",
    "            user_optimal_times = calculate_arrival_aprox_time(trip, 90)\n",
    "            trip.insert(len(trip.columns), \"arrival_ax_date\", user_optimal_times, True)\n",
    "            \n",
    "            # Speed\n",
    "            speeds = calculate_speed(trip)\n",
    "            trip.insert(len(trip.columns), \"speed_mps_prev\", speeds, True)  \n",
    "            \n",
    "            print('After enhancing, Stops in trip : ' + str(trip.shape[0])) \n",
    "            \n",
    "            df_list_trips_enhanced.append(trip)\n",
    "        \n",
    "        enriched = pd.concat(df_list_trips_enhanced)\n",
    "        assert group.shape[0] == enriched.shape[0]\n",
    "        \n",
    "        df_enhanced_trips_list.append(enriched)\n",
    "\n",
    "    return pd.concat(df_enhanced_trips_list) "
   ]
  },
  {
   "cell_type": "code",
   "execution_count": 2,
   "metadata": {
    "scrolled": false
   },
   "outputs": [],
   "source": [
    "if path.exists('data/3_modeling/enhanced_data.csv') == False:\n",
    "    df_enhanced_data = enhance_dataset(df_grouped_by_trip)\n",
    "    df_enhanced_data.to_csv ('data/3_modeling/enhanced_data.csv', index = None, header=True)\n",
    "else:\n",
    "    df_enhanced_data = pd.read_csv('data/3_modeling/enhanced_data.csv')"
   ]
  },
  {
   "cell_type": "code",
   "execution_count": 82,
   "metadata": {},
   "outputs": [
    {
     "data": {
      "text/html": [
       "<div>\n",
       "<style>\n",
       "    .dataframe thead tr:only-child th {\n",
       "        text-align: right;\n",
       "    }\n",
       "\n",
       "    .dataframe thead th {\n",
       "        text-align: left;\n",
       "    }\n",
       "\n",
       "    .dataframe tbody tr th {\n",
       "        vertical-align: top;\n",
       "    }\n",
       "</style>\n",
       "<table border=\"1\" class=\"dataframe\">\n",
       "  <thead>\n",
       "    <tr style=\"text-align: right;\">\n",
       "      <th></th>\n",
       "      <th>index</th>\n",
       "      <th>rt_trip_id</th>\n",
       "      <th>rt_stop_id</th>\n",
       "      <th>stop_offset</th>\n",
       "      <th>departure</th>\n",
       "      <th>lat</th>\n",
       "      <th>lng</th>\n",
       "      <th>distance_prev</th>\n",
       "      <th>departure_date</th>\n",
       "      <th>dist_to_start</th>\n",
       "      <th>time_sec_prev</th>\n",
       "      <th>arrival_ax_date</th>\n",
       "      <th>speed_mps_prev</th>\n",
       "    </tr>\n",
       "  </thead>\n",
       "  <tbody>\n",
       "    <tr>\n",
       "      <th>0</th>\n",
       "      <td>22211</td>\n",
       "      <td>201874894</td>\n",
       "      <td>60693</td>\n",
       "      <td>1</td>\n",
       "      <td>1568608765</td>\n",
       "      <td>45.448844</td>\n",
       "      <td>-73.552496</td>\n",
       "      <td>219.0</td>\n",
       "      <td>2019-09-16 04:39:25</td>\n",
       "      <td>0.0</td>\n",
       "      <td>0.0</td>\n",
       "      <td>2019-09-16 04:37:55</td>\n",
       "      <td>0.0</td>\n",
       "    </tr>\n",
       "    <tr>\n",
       "      <th>0</th>\n",
       "      <td>448781</td>\n",
       "      <td>204032213</td>\n",
       "      <td>52786</td>\n",
       "      <td>0</td>\n",
       "      <td>1568658600</td>\n",
       "      <td>45.501436</td>\n",
       "      <td>-73.562137</td>\n",
       "      <td>0.0</td>\n",
       "      <td>2019-09-16 18:30:00</td>\n",
       "      <td>0.0</td>\n",
       "      <td>0.0</td>\n",
       "      <td>2019-09-16 18:28:30</td>\n",
       "      <td>0.0</td>\n",
       "    </tr>\n",
       "    <tr>\n",
       "      <th>0</th>\n",
       "      <td>427884</td>\n",
       "      <td>204032211</td>\n",
       "      <td>53869</td>\n",
       "      <td>0</td>\n",
       "      <td>1568655720</td>\n",
       "      <td>45.484970</td>\n",
       "      <td>-73.558189</td>\n",
       "      <td>0.0</td>\n",
       "      <td>2019-09-16 17:42:00</td>\n",
       "      <td>0.0</td>\n",
       "      <td>0.0</td>\n",
       "      <td>2019-09-16 17:40:30</td>\n",
       "      <td>0.0</td>\n",
       "    </tr>\n",
       "    <tr>\n",
       "      <th>0</th>\n",
       "      <td>427850</td>\n",
       "      <td>204032210</td>\n",
       "      <td>52146</td>\n",
       "      <td>0</td>\n",
       "      <td>1568653260</td>\n",
       "      <td>45.494700</td>\n",
       "      <td>-73.580483</td>\n",
       "      <td>0.0</td>\n",
       "      <td>2019-09-16 17:01:00</td>\n",
       "      <td>0.0</td>\n",
       "      <td>0.0</td>\n",
       "      <td>2019-09-16 16:59:30</td>\n",
       "      <td>0.0</td>\n",
       "    </tr>\n",
       "    <tr>\n",
       "      <th>0</th>\n",
       "      <td>4486</td>\n",
       "      <td>202595718</td>\n",
       "      <td>52543</td>\n",
       "      <td>29</td>\n",
       "      <td>1568607000</td>\n",
       "      <td>45.514368</td>\n",
       "      <td>-73.568477</td>\n",
       "      <td>237.0</td>\n",
       "      <td>2019-09-16 04:10:00</td>\n",
       "      <td>0.0</td>\n",
       "      <td>0.0</td>\n",
       "      <td>2019-09-16 04:08:30</td>\n",
       "      <td>0.0</td>\n",
       "    </tr>\n",
       "  </tbody>\n",
       "</table>\n",
       "</div>"
      ],
      "text/plain": [
       "    index  rt_trip_id  rt_stop_id  stop_offset   departure        lat  \\\n",
       "0   22211   201874894       60693            1  1568608765  45.448844   \n",
       "0  448781   204032213       52786            0  1568658600  45.501436   \n",
       "0  427884   204032211       53869            0  1568655720  45.484970   \n",
       "0  427850   204032210       52146            0  1568653260  45.494700   \n",
       "0    4486   202595718       52543           29  1568607000  45.514368   \n",
       "\n",
       "         lng  distance_prev       departure_date  dist_to_start  \\\n",
       "0 -73.552496          219.0  2019-09-16 04:39:25            0.0   \n",
       "0 -73.562137            0.0  2019-09-16 18:30:00            0.0   \n",
       "0 -73.558189            0.0  2019-09-16 17:42:00            0.0   \n",
       "0 -73.580483            0.0  2019-09-16 17:01:00            0.0   \n",
       "0 -73.568477          237.0  2019-09-16 04:10:00            0.0   \n",
       "\n",
       "   time_sec_prev     arrival_ax_date  speed_mps_prev  \n",
       "0            0.0 2019-09-16 04:37:55             0.0  \n",
       "0            0.0 2019-09-16 18:28:30             0.0  \n",
       "0            0.0 2019-09-16 17:40:30             0.0  \n",
       "0            0.0 2019-09-16 16:59:30             0.0  \n",
       "0            0.0 2019-09-16 04:08:30             0.0  "
      ]
     },
     "execution_count": 82,
     "metadata": {},
     "output_type": "execute_result"
    }
   ],
   "source": [
    "df_enhanced_data.sort_index(inplace=True)\n",
    "df_enhanced_data.head()"
   ]
  },
  {
   "cell_type": "markdown",
   "metadata": {},
   "source": [
    "## ETA - Simple model\n",
    "\n",
    "\n",
    "We should have enough data for modeling now. Let’s build a couple of basic models by making use of the features that were engineered. Our basic models will make use of the laws of classical mechanics (speed = distance/time) to approximate the time of arrival.\n",
    "\n",
    "By looking at the data ordered for each trip we can easily discover a sense of sequentiality. As one stop follows the other we can make use of the *** n *** previous speeds to compute an average speed and use it to estimate eta like this:\n",
    "\n",
    "*** ETA = arrival_ax_date - (distance_prev/average_speed) ***\n",
    "\n",
    "By taking ***arrival_ax_date*** as ***departure_date - constant*** we can make sure that we are predicting for a decent interval of time in which the user will be satisfied (attempting to arrive shortly before the bus leaves)\n",
    "One of our models will receive a parameter called *memory*, this will tell it how many stops to remember so we can calculate an average speed based on the # *memory* previous speeds. The other one will take the average speed over the full route.\n"
   ]
  },
  {
   "cell_type": "code",
   "execution_count": 83,
   "metadata": {
    "collapsed": true
   },
   "outputs": [],
   "source": [
    "def predict_eta_with_memory(dataframe, memory):\n",
    "    speeds = dataframe['speed_mps_prev'].values\n",
    "    etas = []\n",
    "    for index, row in dataframe.iterrows():\n",
    "        eta = 0\n",
    "        if memory <= index:\n",
    "            previous_speeds = speeds[index-memory:index+1]\n",
    "            time_seconds = row.distance_prev / np.mean(previous_speeds)\n",
    "            try:\n",
    "                eta = pd.to_datetime(row.arrival_ax_date) + pd.to_timedelta(time_seconds, unit='s') \n",
    "            except:\n",
    "                print('Time: ' + str(row))\n",
    "                print('time: ' + str(time_seconds))\n",
    "                raise ValueError \n",
    "            \n",
    "        etas.append(eta)\n",
    "    return etas\n",
    "\n",
    "def predict_eta_average(dataframe):\n",
    "    speeds = dataframe['speed_mps_prev'].values\n",
    "    etas = []\n",
    "    for index, row in dataframe.iterrows():\n",
    "        average_speed = np.mean(speeds) \n",
    "        if average_speed > 0:\n",
    "            time_seconds = row.distance_prev / average_speed\n",
    "            try:\n",
    "                eta = pd.to_datetime(row.arrival_ax_date) + pd.to_timedelta(time_seconds, unit='s') \n",
    "            except:\n",
    "                print('Time: ' + str(row))\n",
    "                print('time: ' + str(time_seconds))\n",
    "                raise ValueError \n",
    "        etas.append(eta)\n",
    "    return etas\n",
    "    "
   ]
  },
  {
   "cell_type": "code",
   "execution_count": 84,
   "metadata": {
    "collapsed": true
   },
   "outputs": [],
   "source": [
    "# Predict eta using route average speed as parameter\n",
    "etas_speed_av = predict_eta_average(df_split_trip)"
   ]
  },
  {
   "cell_type": "code",
   "execution_count": 85,
   "metadata": {
    "collapsed": true
   },
   "outputs": [],
   "source": [
    "# Predict eta using the previous 3 speed values along with the current one to calculate a memory average to be used\n",
    "etas_m5 = predict_eta_with_memory(df_split_trip, 5)"
   ]
  },
  {
   "cell_type": "code",
   "execution_count": 86,
   "metadata": {
    "collapsed": true
   },
   "outputs": [],
   "source": [
    "df_split_trip.insert(len(df_split_trip.columns), \"eta_speed_av\", etas_speed_av, True) \n",
    "df_split_trip.insert(len(df_split_trip.columns), \"etas_m5\", etas_m5, True) "
   ]
  },
  {
   "cell_type": "code",
   "execution_count": 87,
   "metadata": {},
   "outputs": [
    {
     "data": {
      "text/html": [
       "<div>\n",
       "<style>\n",
       "    .dataframe thead tr:only-child th {\n",
       "        text-align: right;\n",
       "    }\n",
       "\n",
       "    .dataframe thead th {\n",
       "        text-align: left;\n",
       "    }\n",
       "\n",
       "    .dataframe tbody tr th {\n",
       "        vertical-align: top;\n",
       "    }\n",
       "</style>\n",
       "<table border=\"1\" class=\"dataframe\">\n",
       "  <thead>\n",
       "    <tr style=\"text-align: right;\">\n",
       "      <th></th>\n",
       "      <th>level_0</th>\n",
       "      <th>index</th>\n",
       "      <th>rt_trip_id</th>\n",
       "      <th>rt_stop_id</th>\n",
       "      <th>stop_offset</th>\n",
       "      <th>departure</th>\n",
       "      <th>lat</th>\n",
       "      <th>lng</th>\n",
       "      <th>distance_prev</th>\n",
       "      <th>departure_date</th>\n",
       "      <th>dist_to_prev</th>\n",
       "      <th>dist_to_start</th>\n",
       "      <th>dist_to_start</th>\n",
       "      <th>time_sec_prev</th>\n",
       "      <th>arrival_ax_date</th>\n",
       "      <th>speed_mps_prev</th>\n",
       "      <th>eta_speed_av</th>\n",
       "      <th>etas_m5</th>\n",
       "    </tr>\n",
       "  </thead>\n",
       "  <tbody>\n",
       "    <tr>\n",
       "      <th>0</th>\n",
       "      <td>0</td>\n",
       "      <td>111255</td>\n",
       "      <td>204063694</td>\n",
       "      <td>54269</td>\n",
       "      <td>0</td>\n",
       "      <td>1568638740</td>\n",
       "      <td>45.550548</td>\n",
       "      <td>-73.655055</td>\n",
       "      <td>0.0</td>\n",
       "      <td>2019-09-16 12:59:00</td>\n",
       "      <td>0.000000</td>\n",
       "      <td>0.0</td>\n",
       "      <td>0.0</td>\n",
       "      <td>0.0</td>\n",
       "      <td>2019-09-16 12:58:30</td>\n",
       "      <td>0.000000</td>\n",
       "      <td>2019-09-16 12:58:30.000000</td>\n",
       "      <td>0</td>\n",
       "    </tr>\n",
       "    <tr>\n",
       "      <th>1</th>\n",
       "      <td>1</td>\n",
       "      <td>111256</td>\n",
       "      <td>204063694</td>\n",
       "      <td>61241</td>\n",
       "      <td>1</td>\n",
       "      <td>1568638860</td>\n",
       "      <td>45.551789</td>\n",
       "      <td>-73.650271</td>\n",
       "      <td>554.0</td>\n",
       "      <td>2019-09-16 13:01:00</td>\n",
       "      <td>398.113600</td>\n",
       "      <td>0.0</td>\n",
       "      <td>0.0</td>\n",
       "      <td>120.0</td>\n",
       "      <td>2019-09-16 13:00:30</td>\n",
       "      <td>4.616667</td>\n",
       "      <td>2019-09-16 13:02:37.317085</td>\n",
       "      <td>0</td>\n",
       "    </tr>\n",
       "    <tr>\n",
       "      <th>2</th>\n",
       "      <td>2</td>\n",
       "      <td>111257</td>\n",
       "      <td>204063694</td>\n",
       "      <td>61117</td>\n",
       "      <td>2</td>\n",
       "      <td>1568638920</td>\n",
       "      <td>45.553471</td>\n",
       "      <td>-73.650172</td>\n",
       "      <td>226.0</td>\n",
       "      <td>2019-09-16 13:02:00</td>\n",
       "      <td>187.052274</td>\n",
       "      <td>554.0</td>\n",
       "      <td>554.0</td>\n",
       "      <td>60.0</td>\n",
       "      <td>2019-09-16 13:01:30</td>\n",
       "      <td>3.766667</td>\n",
       "      <td>2019-09-16 13:02:21.938017</td>\n",
       "      <td>0</td>\n",
       "    </tr>\n",
       "    <tr>\n",
       "      <th>3</th>\n",
       "      <td>3</td>\n",
       "      <td>111258</td>\n",
       "      <td>204063694</td>\n",
       "      <td>50466</td>\n",
       "      <td>3</td>\n",
       "      <td>1568638980</td>\n",
       "      <td>45.554496</td>\n",
       "      <td>-73.653760</td>\n",
       "      <td>302.0</td>\n",
       "      <td>2019-09-16 13:03:00</td>\n",
       "      <td>302.359194</td>\n",
       "      <td>1334.0</td>\n",
       "      <td>1334.0</td>\n",
       "      <td>60.0</td>\n",
       "      <td>2019-09-16 13:02:30</td>\n",
       "      <td>5.033333</td>\n",
       "      <td>2019-09-16 13:03:39.403898</td>\n",
       "      <td>0</td>\n",
       "    </tr>\n",
       "    <tr>\n",
       "      <th>4</th>\n",
       "      <td>4</td>\n",
       "      <td>111259</td>\n",
       "      <td>204063694</td>\n",
       "      <td>50420</td>\n",
       "      <td>4</td>\n",
       "      <td>1568639040</td>\n",
       "      <td>45.555440</td>\n",
       "      <td>-73.656970</td>\n",
       "      <td>272.0</td>\n",
       "      <td>2019-09-16 13:04:00</td>\n",
       "      <td>271.644700</td>\n",
       "      <td>3524.0</td>\n",
       "      <td>3524.0</td>\n",
       "      <td>60.0</td>\n",
       "      <td>2019-09-16 13:03:30</td>\n",
       "      <td>4.533333</td>\n",
       "      <td>2019-09-16 13:04:32.509471</td>\n",
       "      <td>0</td>\n",
       "    </tr>\n",
       "    <tr>\n",
       "      <th>5</th>\n",
       "      <td>5</td>\n",
       "      <td>111260</td>\n",
       "      <td>204063694</td>\n",
       "      <td>50383</td>\n",
       "      <td>5</td>\n",
       "      <td>1568639100</td>\n",
       "      <td>45.556331</td>\n",
       "      <td>-73.660019</td>\n",
       "      <td>258.0</td>\n",
       "      <td>2019-09-16 13:05:00</td>\n",
       "      <td>257.774533</td>\n",
       "      <td>9208.0</td>\n",
       "      <td>9208.0</td>\n",
       "      <td>60.0</td>\n",
       "      <td>2019-09-16 13:04:30</td>\n",
       "      <td>4.300000</td>\n",
       "      <td>2019-09-16 13:05:29.292072</td>\n",
       "      <td>2019-09-16 13:05:39.573034</td>\n",
       "    </tr>\n",
       "    <tr>\n",
       "      <th>6</th>\n",
       "      <td>6</td>\n",
       "      <td>111261</td>\n",
       "      <td>204063694</td>\n",
       "      <td>50396</td>\n",
       "      <td>6</td>\n",
       "      <td>1568639151</td>\n",
       "      <td>45.558273</td>\n",
       "      <td>-73.658967</td>\n",
       "      <td>243.0</td>\n",
       "      <td>2019-09-16 13:05:51</td>\n",
       "      <td>230.878716</td>\n",
       "      <td>24086.0</td>\n",
       "      <td>24086.0</td>\n",
       "      <td>51.0</td>\n",
       "      <td>2019-09-16 13:05:21</td>\n",
       "      <td>4.764706</td>\n",
       "      <td>2019-09-16 13:06:16.844859</td>\n",
       "      <td>2019-09-16 13:06:14.970604</td>\n",
       "    </tr>\n",
       "    <tr>\n",
       "      <th>7</th>\n",
       "      <td>7</td>\n",
       "      <td>111262</td>\n",
       "      <td>204063694</td>\n",
       "      <td>50407</td>\n",
       "      <td>7</td>\n",
       "      <td>1568639185</td>\n",
       "      <td>45.559613</td>\n",
       "      <td>-73.658185</td>\n",
       "      <td>161.0</td>\n",
       "      <td>2019-09-16 13:06:25</td>\n",
       "      <td>160.917918</td>\n",
       "      <td>63035.0</td>\n",
       "      <td>63035.0</td>\n",
       "      <td>34.0</td>\n",
       "      <td>2019-09-16 13:05:55</td>\n",
       "      <td>4.735294</td>\n",
       "      <td>2019-09-16 13:06:32.000091</td>\n",
       "      <td>2019-09-16 13:06:30.601966</td>\n",
       "    </tr>\n",
       "    <tr>\n",
       "      <th>8</th>\n",
       "      <td>8</td>\n",
       "      <td>111263</td>\n",
       "      <td>204063694</td>\n",
       "      <td>50419</td>\n",
       "      <td>8</td>\n",
       "      <td>1568639220</td>\n",
       "      <td>45.560953</td>\n",
       "      <td>-73.657393</td>\n",
       "      <td>162.0</td>\n",
       "      <td>2019-09-16 13:07:00</td>\n",
       "      <td>161.215111</td>\n",
       "      <td>164937.0</td>\n",
       "      <td>164937.0</td>\n",
       "      <td>35.0</td>\n",
       "      <td>2019-09-16 13:06:30</td>\n",
       "      <td>4.628571</td>\n",
       "      <td>2019-09-16 13:07:07.229906</td>\n",
       "      <td>2019-09-16 13:07:04.720191</td>\n",
       "    </tr>\n",
       "    <tr>\n",
       "      <th>9</th>\n",
       "      <td>9</td>\n",
       "      <td>111264</td>\n",
       "      <td>204063694</td>\n",
       "      <td>50425</td>\n",
       "      <td>9</td>\n",
       "      <td>1568639250</td>\n",
       "      <td>45.562401</td>\n",
       "      <td>-73.656530</td>\n",
       "      <td>174.0</td>\n",
       "      <td>2019-09-16 13:07:30</td>\n",
       "      <td>174.423268</td>\n",
       "      <td>431777.0</td>\n",
       "      <td>431777.0</td>\n",
       "      <td>30.0</td>\n",
       "      <td>2019-09-16 13:07:00</td>\n",
       "      <td>5.800000</td>\n",
       "      <td>2019-09-16 13:07:39.987677</td>\n",
       "      <td>2019-09-16 13:07:36.298013</td>\n",
       "    </tr>\n",
       "  </tbody>\n",
       "</table>\n",
       "</div>"
      ],
      "text/plain": [
       "   level_0   index  rt_trip_id  rt_stop_id  stop_offset   departure  \\\n",
       "0        0  111255   204063694       54269            0  1568638740   \n",
       "1        1  111256   204063694       61241            1  1568638860   \n",
       "2        2  111257   204063694       61117            2  1568638920   \n",
       "3        3  111258   204063694       50466            3  1568638980   \n",
       "4        4  111259   204063694       50420            4  1568639040   \n",
       "5        5  111260   204063694       50383            5  1568639100   \n",
       "6        6  111261   204063694       50396            6  1568639151   \n",
       "7        7  111262   204063694       50407            7  1568639185   \n",
       "8        8  111263   204063694       50419            8  1568639220   \n",
       "9        9  111264   204063694       50425            9  1568639250   \n",
       "\n",
       "         lat        lng  distance_prev       departure_date  dist_to_prev  \\\n",
       "0  45.550548 -73.655055            0.0  2019-09-16 12:59:00      0.000000   \n",
       "1  45.551789 -73.650271          554.0  2019-09-16 13:01:00    398.113600   \n",
       "2  45.553471 -73.650172          226.0  2019-09-16 13:02:00    187.052274   \n",
       "3  45.554496 -73.653760          302.0  2019-09-16 13:03:00    302.359194   \n",
       "4  45.555440 -73.656970          272.0  2019-09-16 13:04:00    271.644700   \n",
       "5  45.556331 -73.660019          258.0  2019-09-16 13:05:00    257.774533   \n",
       "6  45.558273 -73.658967          243.0  2019-09-16 13:05:51    230.878716   \n",
       "7  45.559613 -73.658185          161.0  2019-09-16 13:06:25    160.917918   \n",
       "8  45.560953 -73.657393          162.0  2019-09-16 13:07:00    161.215111   \n",
       "9  45.562401 -73.656530          174.0  2019-09-16 13:07:30    174.423268   \n",
       "\n",
       "   dist_to_start  dist_to_start  time_sec_prev     arrival_ax_date  \\\n",
       "0            0.0            0.0            0.0 2019-09-16 12:58:30   \n",
       "1            0.0            0.0          120.0 2019-09-16 13:00:30   \n",
       "2          554.0          554.0           60.0 2019-09-16 13:01:30   \n",
       "3         1334.0         1334.0           60.0 2019-09-16 13:02:30   \n",
       "4         3524.0         3524.0           60.0 2019-09-16 13:03:30   \n",
       "5         9208.0         9208.0           60.0 2019-09-16 13:04:30   \n",
       "6        24086.0        24086.0           51.0 2019-09-16 13:05:21   \n",
       "7        63035.0        63035.0           34.0 2019-09-16 13:05:55   \n",
       "8       164937.0       164937.0           35.0 2019-09-16 13:06:30   \n",
       "9       431777.0       431777.0           30.0 2019-09-16 13:07:00   \n",
       "\n",
       "   speed_mps_prev               eta_speed_av                     etas_m5  \n",
       "0        0.000000 2019-09-16 12:58:30.000000                           0  \n",
       "1        4.616667 2019-09-16 13:02:37.317085                           0  \n",
       "2        3.766667 2019-09-16 13:02:21.938017                           0  \n",
       "3        5.033333 2019-09-16 13:03:39.403898                           0  \n",
       "4        4.533333 2019-09-16 13:04:32.509471                           0  \n",
       "5        4.300000 2019-09-16 13:05:29.292072  2019-09-16 13:05:39.573034  \n",
       "6        4.764706 2019-09-16 13:06:16.844859  2019-09-16 13:06:14.970604  \n",
       "7        4.735294 2019-09-16 13:06:32.000091  2019-09-16 13:06:30.601966  \n",
       "8        4.628571 2019-09-16 13:07:07.229906  2019-09-16 13:07:04.720191  \n",
       "9        5.800000 2019-09-16 13:07:39.987677  2019-09-16 13:07:36.298013  "
      ]
     },
     "execution_count": 87,
     "metadata": {},
     "output_type": "execute_result"
    }
   ],
   "source": [
    "df_split_trip.head(10)"
   ]
  },
  {
   "cell_type": "markdown",
   "metadata": {},
   "source": [
    " \n",
    "\n",
    "#### eta_speed_av\n",
    "This model calculates eta using the global average speed over the route. This is a simple approach that requires knowledge on the global average speed per route,\n",
    "\n",
    "Pros: \n",
    "- Can compute values starting from the first row\n",
    "- Simple to calculate.\n",
    "\n",
    "Cons: \n",
    "- Will need to always know the average speed per route\n",
    "\n",
    "#### eta_m3 model\n",
    "We have created a simple model that computes ETA making use of the 3 previous speed values in order to calculate a moving average speed and use it to compute the ETA.\n",
    "\n",
    "Pros:\n",
    "- Simple to calculate \n",
    "\n",
    "Cons:\n",
    "- The first #memory predictions are not accesible due to lack of information to compute the mean speed\n",
    "- Highly sensitive to drastic changes in previous values. \n",
    "- Takes very fe params into consideration\n",
    "- Would need longer sequence to be able to learn sequential patterns better\n",
    "\n"
   ]
  },
  {
   "cell_type": "markdown",
   "metadata": {},
   "source": [
    "## Evaluating our predictions\n",
    "\n",
    "***How can we judge what a good prediction is?***\n",
    "In order to judge how accurate our ETA predictions we must take into consideration the impact they would have on our users. \n",
    "Let’s say for example in the case of a predicted  date for after the bus left (departure_date) then it must be penalized more than when the provided date was before the bus left. In one case the user misses the bus and in the other he/she just waits a bit for the bus at the stop. \n",
    "Our scoring algorithm should follow the following:\n",
    "- If predicted date is after departure_date then:\n",
    "***score = 0***. \n",
    "\n",
    "- If  predicted date lands in a small interval of  k  seconds around ***arrival_ax_date*** then we give the highest score possible:\n",
    "***score = 1***.\n",
    "\n",
    "- If ETA prediction is smaller than ***arrival_ax_date - k =  *** then we'll gradually assign smaller scores as the prediction is further back in the past over a finite interval of time of length m. Interval ***[arrival_ax_date - k - m, arrival_ax_date - k] ***.\n",
    "The score in this case will be: ***score =  SUM ( (if pred in mth interval) x 1/m)***\n"
   ]
  },
  {
   "cell_type": "code",
   "execution_count": null,
   "metadata": {
    "collapsed": true
   },
   "outputs": [],
   "source": []
  },
  {
   "cell_type": "markdown",
   "metadata": {},
   "source": [
    "*** The code for the following function is in tools.py ***"
   ]
  },
  {
   "cell_type": "code",
   "execution_count": 88,
   "metadata": {
    "collapsed": true
   },
   "outputs": [],
   "source": [
    "score_speed_av, _ = tools.score_eta_predictions(df_split_trip,'eta_speed_av', 'arrival_ax_date', 20)\n",
    "score_memory_5, _ = tools.score_eta_predictions(df_split_trip,'etas_m5', 'arrival_ax_date', 20)"
   ]
  },
  {
   "cell_type": "code",
   "execution_count": 89,
   "metadata": {},
   "outputs": [
    {
     "name": "stdout",
     "output_type": "stream",
     "text": [
      "Score for average speed model: 0.02\n",
      "Score for memory (5) model: 0.02\n"
     ]
    }
   ],
   "source": [
    "print('Score for average speed model: ' + str(score_speed_av))\n",
    "print('Score for memory (5) model: ' + str(score_memory_5))"
   ]
  },
  {
   "cell_type": "markdown",
   "metadata": {
    "collapsed": true
   },
   "source": [
    "Seems like non our simple models have small scores using our scoring algorithm. In the simple models we computed ETA as a linear combination of the time and distance features that we had. This is not enough since there are a lot more variables that would come into play when predicting ETA. This approach is interesting to study but it won't provide us with a trustable predictive model.\n",
    "\n",
    "Let's move into another notebook for some more robust modeling.\n"
   ]
  }
 ],
 "metadata": {
  "kernelspec": {
   "display_name": "Python 3",
   "language": "python",
   "name": "python3"
  },
  "language_info": {
   "codemirror_mode": {
    "name": "ipython",
    "version": 3
   },
   "file_extension": ".py",
   "mimetype": "text/x-python",
   "name": "python",
   "nbconvert_exporter": "python",
   "pygments_lexer": "ipython3",
   "version": "3.7.4"
  }
 },
 "nbformat": 4,
 "nbformat_minor": 2
}
