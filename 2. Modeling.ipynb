{
 "cells": [
  {
   "cell_type": "markdown",
   "metadata": {},
   "source": [
    "# Modeling\n",
    "\n",
    "In this notebook we will make use of the features we engineered in the last section to build a more robust model that we can use for predicting ETA. \n",
    "\n",
    "First we will prepare our data for modeling and then we will train three different models and evaluate their predictions using the scoring function we created.\n",
    "\n",
    "We will train the models on all the dataset and also on data for specific routes, with one or more instances of trips in each route (depending on the data that is available)."
   ]
  },
  {
   "cell_type": "code",
   "execution_count": 30,
   "metadata": {
    "collapsed": true
   },
   "outputs": [],
   "source": [
    "import sklearn\n",
    "import pandas as pd\n",
    "\n",
    "import numpy as np\n",
    "import seaborn as sns\n",
    "import matplotlib.pyplot as plt\n",
    "\n",
    "%matplotlib inline\n",
    "\n",
    "import time\n",
    "import tools\n",
    "\n",
    "from sklearn.utils import shuffle\n",
    "from sklearn.ensemble import GradientBoostingRegressor\n",
    "from sklearn.ensemble import RandomForestRegressor\n",
    "from sklearn.linear_model import LinearRegression\n"
   ]
  },
  {
   "cell_type": "markdown",
   "metadata": {},
   "source": [
    "Let's load the feature engineered data we saved in the last notebook."
   ]
  },
  {
   "cell_type": "code",
   "execution_count": 31,
   "metadata": {
    "collapsed": true
   },
   "outputs": [],
   "source": [
    "df_trips_stops = pd.read_csv('data/3_modeling/enhanced_data.csv')"
   ]
  },
  {
   "cell_type": "code",
   "execution_count": 32,
   "metadata": {},
   "outputs": [
    {
     "data": {
      "text/plain": [
       "(589448, 13)"
      ]
     },
     "execution_count": 32,
     "metadata": {},
     "output_type": "execute_result"
    }
   ],
   "source": [
    "df_trips_stops = shuffle(df_trips_stops)\n",
    "df_trips_stops.shape"
   ]
  },
  {
   "cell_type": "markdown",
   "metadata": {},
   "source": [
    "Looks good!"
   ]
  },
  {
   "cell_type": "code",
   "execution_count": 33,
   "metadata": {},
   "outputs": [
    {
     "data": {
      "text/html": [
       "<div>\n",
       "<style>\n",
       "    .dataframe thead tr:only-child th {\n",
       "        text-align: right;\n",
       "    }\n",
       "\n",
       "    .dataframe thead th {\n",
       "        text-align: left;\n",
       "    }\n",
       "\n",
       "    .dataframe tbody tr th {\n",
       "        vertical-align: top;\n",
       "    }\n",
       "</style>\n",
       "<table border=\"1\" class=\"dataframe\">\n",
       "  <thead>\n",
       "    <tr style=\"text-align: right;\">\n",
       "      <th></th>\n",
       "      <th>index</th>\n",
       "      <th>rt_trip_id</th>\n",
       "      <th>rt_stop_id</th>\n",
       "      <th>stop_offset</th>\n",
       "      <th>departure</th>\n",
       "      <th>lat</th>\n",
       "      <th>lng</th>\n",
       "      <th>distance_prev</th>\n",
       "      <th>departure_date</th>\n",
       "      <th>dist_to_start</th>\n",
       "      <th>time_sec_prev</th>\n",
       "      <th>arrival_ax_date</th>\n",
       "      <th>speed_mps_prev</th>\n",
       "    </tr>\n",
       "  </thead>\n",
       "  <tbody>\n",
       "    <tr>\n",
       "      <th>68007</th>\n",
       "      <td>147224</td>\n",
       "      <td>203579963</td>\n",
       "      <td>54132</td>\n",
       "      <td>34</td>\n",
       "      <td>1568630457</td>\n",
       "      <td>45.640849</td>\n",
       "      <td>-73.495174</td>\n",
       "      <td>181.0</td>\n",
       "      <td>2019-09-16 10:40:57</td>\n",
       "      <td>4.154322e+15</td>\n",
       "      <td>28.0</td>\n",
       "      <td>2019-09-16 10:39:27</td>\n",
       "      <td>6.464286</td>\n",
       "    </tr>\n",
       "    <tr>\n",
       "      <th>69193</th>\n",
       "      <td>148410</td>\n",
       "      <td>203579975</td>\n",
       "      <td>53659</td>\n",
       "      <td>63</td>\n",
       "      <td>1568685300</td>\n",
       "      <td>45.651973</td>\n",
       "      <td>-73.489247</td>\n",
       "      <td>441.0</td>\n",
       "      <td>2019-09-17 01:55:00</td>\n",
       "      <td>9.506173e+23</td>\n",
       "      <td>60.0</td>\n",
       "      <td>2019-09-17 01:53:30</td>\n",
       "      <td>7.350000</td>\n",
       "    </tr>\n",
       "    <tr>\n",
       "      <th>544946</th>\n",
       "      <td>298576</td>\n",
       "      <td>205384651</td>\n",
       "      <td>56348</td>\n",
       "      <td>2</td>\n",
       "      <td>1568655983</td>\n",
       "      <td>45.466102</td>\n",
       "      <td>-73.668374</td>\n",
       "      <td>224.0</td>\n",
       "      <td>2019-09-16 17:46:23</td>\n",
       "      <td>2.190000e+02</td>\n",
       "      <td>42.0</td>\n",
       "      <td>2019-09-16 17:44:53</td>\n",
       "      <td>5.333333</td>\n",
       "    </tr>\n",
       "    <tr>\n",
       "      <th>157482</th>\n",
       "      <td>173549</td>\n",
       "      <td>203894642</td>\n",
       "      <td>51950</td>\n",
       "      <td>30</td>\n",
       "      <td>1568631828</td>\n",
       "      <td>45.491562</td>\n",
       "      <td>-73.587759</td>\n",
       "      <td>223.0</td>\n",
       "      <td>2019-09-16 11:03:48</td>\n",
       "      <td>7.125913e+13</td>\n",
       "      <td>48.0</td>\n",
       "      <td>2019-09-16 11:02:18</td>\n",
       "      <td>4.645833</td>\n",
       "    </tr>\n",
       "    <tr>\n",
       "      <th>465099</th>\n",
       "      <td>429712</td>\n",
       "      <td>204905772</td>\n",
       "      <td>50192</td>\n",
       "      <td>7</td>\n",
       "      <td>1568655674</td>\n",
       "      <td>45.524675</td>\n",
       "      <td>-73.708448</td>\n",
       "      <td>166.0</td>\n",
       "      <td>2019-09-16 17:41:14</td>\n",
       "      <td>4.216000e+04</td>\n",
       "      <td>30.0</td>\n",
       "      <td>2019-09-16 17:39:44</td>\n",
       "      <td>5.533333</td>\n",
       "    </tr>\n",
       "  </tbody>\n",
       "</table>\n",
       "</div>"
      ],
      "text/plain": [
       "         index  rt_trip_id  rt_stop_id  stop_offset   departure        lat  \\\n",
       "68007   147224   203579963       54132           34  1568630457  45.640849   \n",
       "69193   148410   203579975       53659           63  1568685300  45.651973   \n",
       "544946  298576   205384651       56348            2  1568655983  45.466102   \n",
       "157482  173549   203894642       51950           30  1568631828  45.491562   \n",
       "465099  429712   204905772       50192            7  1568655674  45.524675   \n",
       "\n",
       "              lng  distance_prev       departure_date  dist_to_start  \\\n",
       "68007  -73.495174          181.0  2019-09-16 10:40:57   4.154322e+15   \n",
       "69193  -73.489247          441.0  2019-09-17 01:55:00   9.506173e+23   \n",
       "544946 -73.668374          224.0  2019-09-16 17:46:23   2.190000e+02   \n",
       "157482 -73.587759          223.0  2019-09-16 11:03:48   7.125913e+13   \n",
       "465099 -73.708448          166.0  2019-09-16 17:41:14   4.216000e+04   \n",
       "\n",
       "        time_sec_prev      arrival_ax_date  speed_mps_prev  \n",
       "68007            28.0  2019-09-16 10:39:27        6.464286  \n",
       "69193            60.0  2019-09-17 01:53:30        7.350000  \n",
       "544946           42.0  2019-09-16 17:44:53        5.333333  \n",
       "157482           48.0  2019-09-16 11:02:18        4.645833  \n",
       "465099           30.0  2019-09-16 17:39:44        5.533333  "
      ]
     },
     "execution_count": 33,
     "metadata": {},
     "output_type": "execute_result"
    }
   ],
   "source": [
    "df_trips_stops.head()"
   ]
  },
  {
   "cell_type": "markdown",
   "metadata": {},
   "source": [
    "***df_trips_stops*** represents all the data across all route. We'll use it for modeling bellow."
   ]
  },
  {
   "cell_type": "code",
   "execution_count": 34,
   "metadata": {
    "collapsed": true
   },
   "outputs": [],
   "source": [
    "df_grouped_by_trip = df_trips_stops.groupby('rt_trip_id')"
   ]
  },
  {
   "cell_type": "code",
   "execution_count": 35,
   "metadata": {},
   "outputs": [
    {
     "data": {
      "text/html": [
       "<div>\n",
       "<style>\n",
       "    .dataframe thead tr:only-child th {\n",
       "        text-align: right;\n",
       "    }\n",
       "\n",
       "    .dataframe thead th {\n",
       "        text-align: left;\n",
       "    }\n",
       "\n",
       "    .dataframe tbody tr th {\n",
       "        vertical-align: top;\n",
       "    }\n",
       "</style>\n",
       "<table border=\"1\" class=\"dataframe\">\n",
       "  <thead>\n",
       "    <tr style=\"text-align: right;\">\n",
       "      <th></th>\n",
       "      <th>index</th>\n",
       "      <th>rt_trip_id</th>\n",
       "      <th>rt_stop_id</th>\n",
       "      <th>stop_offset</th>\n",
       "      <th>departure</th>\n",
       "      <th>lat</th>\n",
       "      <th>lng</th>\n",
       "      <th>distance_prev</th>\n",
       "      <th>departure_date</th>\n",
       "      <th>dist_to_start</th>\n",
       "      <th>time_sec_prev</th>\n",
       "      <th>arrival_ax_date</th>\n",
       "      <th>speed_mps_prev</th>\n",
       "    </tr>\n",
       "  </thead>\n",
       "  <tbody>\n",
       "    <tr>\n",
       "      <th>128</th>\n",
       "      <td>37690</td>\n",
       "      <td>201874899</td>\n",
       "      <td>51611</td>\n",
       "      <td>57</td>\n",
       "      <td>1568619140</td>\n",
       "      <td>45.446874</td>\n",
       "      <td>-73.602166</td>\n",
       "      <td>253.0</td>\n",
       "      <td>2019-09-16 07:32:20</td>\n",
       "      <td>2.498104e+21</td>\n",
       "      <td>35.0</td>\n",
       "      <td>2019-09-16 07:30:50</td>\n",
       "      <td>7.228571</td>\n",
       "    </tr>\n",
       "    <tr>\n",
       "      <th>144</th>\n",
       "      <td>37706</td>\n",
       "      <td>201874899</td>\n",
       "      <td>56885</td>\n",
       "      <td>74</td>\n",
       "      <td>1568619952</td>\n",
       "      <td>45.438205</td>\n",
       "      <td>-73.623777</td>\n",
       "      <td>203.0</td>\n",
       "      <td>2019-09-16 07:45:52</td>\n",
       "      <td>1.216788e+28</td>\n",
       "      <td>21.0</td>\n",
       "      <td>2019-09-16 07:44:22</td>\n",
       "      <td>9.666667</td>\n",
       "    </tr>\n",
       "    <tr>\n",
       "      <th>143</th>\n",
       "      <td>37705</td>\n",
       "      <td>201874899</td>\n",
       "      <td>56899</td>\n",
       "      <td>73</td>\n",
       "      <td>1568619931</td>\n",
       "      <td>45.439662</td>\n",
       "      <td>-73.622194</td>\n",
       "      <td>125.0</td>\n",
       "      <td>2019-09-16 07:45:31</td>\n",
       "      <td>4.647717e+27</td>\n",
       "      <td>17.0</td>\n",
       "      <td>2019-09-16 07:44:01</td>\n",
       "      <td>7.352941</td>\n",
       "    </tr>\n",
       "    <tr>\n",
       "      <th>119</th>\n",
       "      <td>37681</td>\n",
       "      <td>201874899</td>\n",
       "      <td>51961</td>\n",
       "      <td>48</td>\n",
       "      <td>1568618700</td>\n",
       "      <td>45.457315</td>\n",
       "      <td>-73.587930</td>\n",
       "      <td>231.0</td>\n",
       "      <td>2019-09-16 07:25:00</td>\n",
       "      <td>4.323475e+17</td>\n",
       "      <td>34.0</td>\n",
       "      <td>2019-09-16 07:23:30</td>\n",
       "      <td>6.794118</td>\n",
       "    </tr>\n",
       "    <tr>\n",
       "      <th>121</th>\n",
       "      <td>37683</td>\n",
       "      <td>201874899</td>\n",
       "      <td>51836</td>\n",
       "      <td>50</td>\n",
       "      <td>1568618775</td>\n",
       "      <td>45.457172</td>\n",
       "      <td>-73.592732</td>\n",
       "      <td>183.0</td>\n",
       "      <td>2019-09-16 07:26:15</td>\n",
       "      <td>2.963354e+18</td>\n",
       "      <td>36.0</td>\n",
       "      <td>2019-09-16 07:24:45</td>\n",
       "      <td>5.083333</td>\n",
       "    </tr>\n",
       "  </tbody>\n",
       "</table>\n",
       "</div>"
      ],
      "text/plain": [
       "     index  rt_trip_id  rt_stop_id  stop_offset   departure        lat  \\\n",
       "128  37690   201874899       51611           57  1568619140  45.446874   \n",
       "144  37706   201874899       56885           74  1568619952  45.438205   \n",
       "143  37705   201874899       56899           73  1568619931  45.439662   \n",
       "119  37681   201874899       51961           48  1568618700  45.457315   \n",
       "121  37683   201874899       51836           50  1568618775  45.457172   \n",
       "\n",
       "           lng  distance_prev       departure_date  dist_to_start  \\\n",
       "128 -73.602166          253.0  2019-09-16 07:32:20   2.498104e+21   \n",
       "144 -73.623777          203.0  2019-09-16 07:45:52   1.216788e+28   \n",
       "143 -73.622194          125.0  2019-09-16 07:45:31   4.647717e+27   \n",
       "119 -73.587930          231.0  2019-09-16 07:25:00   4.323475e+17   \n",
       "121 -73.592732          183.0  2019-09-16 07:26:15   2.963354e+18   \n",
       "\n",
       "     time_sec_prev      arrival_ax_date  speed_mps_prev  \n",
       "128           35.0  2019-09-16 07:30:50        7.228571  \n",
       "144           21.0  2019-09-16 07:44:22        9.666667  \n",
       "143           17.0  2019-09-16 07:44:01        7.352941  \n",
       "119           34.0  2019-09-16 07:23:30        6.794118  \n",
       "121           36.0  2019-09-16 07:24:45        5.083333  "
      ]
     },
     "execution_count": 35,
     "metadata": {},
     "output_type": "execute_result"
    }
   ],
   "source": [
    "sample_route_id = 201874899\n",
    "df_per_trip = df_grouped_by_trip.get_group(sample_route_id) \n",
    "df_per_trip.head()"
   ]
  },
  {
   "cell_type": "markdown",
   "metadata": {},
   "source": [
    "df_per_trip is the data that corresponds to route 201874899. We'll use it for modeling beloow"
   ]
  },
  {
   "cell_type": "markdown",
   "metadata": {},
   "source": [
    "## Preparing data for modeling\n",
    "\n",
    "Let's define the methods that will allow us to process our data so it can be put into our models. We will split the data by trip_id and take only data for one trip to train our models first, then we will train over all the dataset. We will then compare the results making use of the scoring function we came up with in the last section."
   ]
  },
  {
   "cell_type": "code",
   "execution_count": 36,
   "metadata": {
    "collapsed": true
   },
   "outputs": [],
   "source": [
    "def numerize_date_feature(train):\n",
    "    train_num_dates = pd.to_datetime(pd.to_datetime(train.values, format='%Y-%m-%d', errors='coerce')).astype(np.int64)\n",
    "    return train_num_dates\n",
    "\n",
    "def normalize_numerical_feature(feature):\n",
    "    return feature.values/max(feature.values)"
   ]
  },
  {
   "cell_type": "code",
   "execution_count": 37,
   "metadata": {
    "collapsed": true
   },
   "outputs": [],
   "source": [
    "def prepare_data_for_modeling(dataframe):\n",
    "    distance_prev = normalize_numerical_feature(dataframe['distance_prev'])\n",
    "    speed_prev  = normalize_numerical_feature(dataframe['speed_mps_prev'])\n",
    "    time_prev  = normalize_numerical_feature(dataframe['time_sec_prev'])\n",
    "    lat  = normalize_numerical_feature(dataframe['lat'])\n",
    "    lng = normalize_numerical_feature(dataframe['lng'])\n",
    "    test_lng = normalize_numerical_feature(dataframe['lng'])\n",
    "    \n",
    "    departure = numerize_date_feature(dataframe['departure_date'])\n",
    "    \n",
    "    return list(zip(distance_prev, \n",
    "                   time_prev,\n",
    "                   speed_prev,\n",
    "                   departure,\n",
    "                   lat, \n",
    "                   lng))"
   ]
  },
  {
   "cell_type": "code",
   "execution_count": 38,
   "metadata": {
    "collapsed": true
   },
   "outputs": [],
   "source": [
    "def split_data(data, training_percentage):\n",
    "    df_trips_stops_train = data[:int(len(data)*training_percentage)]\n",
    "    df_trips_stops_test = data[len(df_trips_stops_train):]\n",
    "\n",
    "    assert len(data) == len(df_trips_stops_train)+len(df_trips_stops_test)\n",
    "    \n",
    "    return df_trips_stops_train, df_trips_stops_test\n",
    "    "
   ]
  },
  {
   "cell_type": "code",
   "execution_count": 39,
   "metadata": {
    "collapsed": true
   },
   "outputs": [],
   "source": [
    "def prepare_X_data(data, training_percentage):\n",
    "\n",
    "    df_trips_stops_train, df_trips_stops_test = split_data(data, training_percentage)\n",
    "    \n",
    "    return prepare_data_for_modeling(df_trips_stops_train), prepare_data_for_modeling(df_trips_stops_test)\n",
    "\n",
    "def prepare_y_data(data, training_percentage):\n",
    "    df_trips_stops_train, df_trips_stops_test = split_data(data, training_percentage)\n",
    "   \n",
    "    train_etas = numerize_date_feature(df_trips_stops_train['arrival_ax_date'])\n",
    "    test_etas = numerize_date_feature(df_trips_stops_test['arrival_ax_date'])\n",
    "    \n",
    "    return train_etas, test_etas"
   ]
  },
  {
   "cell_type": "markdown",
   "metadata": {},
   "source": [
    "The previous functions will be reused to prepare the data in both cases we will explore below."
   ]
  },
  {
   "cell_type": "markdown",
   "metadata": {},
   "source": [
    "### Modeling\n",
    "\n",
    "We will train a gradient boosting regressor, random forest regressor and a traditional linear regression on our data. Bellow we define a list with the initialized models passing the 'out of the box' parameters. This should be good enough to start."
   ]
  },
  {
   "cell_type": "code",
   "execution_count": 40,
   "metadata": {
    "collapsed": true
   },
   "outputs": [],
   "source": [
    "model_keys = ['gb_eta', 'rf_eta', 'lr_eta']\n",
    "model_list = [GradientBoostingRegressor(random_state=1, n_estimators=10),\n",
    "              RandomForestRegressor(random_state=1, n_estimators=10),\n",
    "              LinearRegression()]"
   ]
  },
  {
   "cell_type": "code",
   "execution_count": 41,
   "metadata": {
    "collapsed": true
   },
   "outputs": [],
   "source": [
    "def train_predict(model_list, data):\n",
    "    all_model_predictions = []\n",
    "    X_train, X_test = prepare_X_data(data, 0.8)\n",
    "    train_etas, test_etas = prepare_y_data(data, 0.8)\n",
    "    for model in model_list:\n",
    "        model.fit(X_train, train_etas)\n",
    "        preds = model.predict(X_test)\n",
    "        preds_as_dates = pd.to_datetime(preds)\n",
    "        \n",
    "        all_model_predictions.append((preds, preds_as_dates))\n",
    "    return all_model_predictions\n",
    "        "
   ]
  },
  {
   "cell_type": "code",
   "execution_count": 42,
   "metadata": {
    "collapsed": true
   },
   "outputs": [],
   "source": [
    "def predict_eta(model_list, data):\n",
    "    predictions_per_trip = train_predict(model_list, data)\n",
    "    df_trips_stops_train, df_trips_stops_test = split_data(data, 0.8)\n",
    "    print(df_trips_stops_test.shape)\n",
    "\n",
    "    gp_predicted_dates = predictions_per_trip[0][1]\n",
    "    print(len(gp_predicted_dates))\n",
    "    rf_predicted_dates = predictions_per_trip[1][1]\n",
    "    lr_predicted_dates = predictions_per_trip[2][1]\n",
    "\n",
    "    df_trips_stops_test.insert(len(df_trips_stops_test.columns), \"gb_eta\", gp_predicted_dates, True)\n",
    "    df_trips_stops_test.insert(len(df_trips_stops_test.columns), \"rf_eta\", rf_predicted_dates, True)\n",
    "    df_trips_stops_test.insert(len(df_trips_stops_test.columns), \"lr_eta\", lr_predicted_dates, True)\n",
    "    \n",
    "    return df_trips_stops_test"
   ]
  },
  {
   "cell_type": "markdown",
   "metadata": {},
   "source": [
    "### Predict eta for each route\n",
    "\n",
    "Let's train the models! Here we will train our three models for one specific trip (df_per_trip)."
   ]
  },
  {
   "cell_type": "code",
   "execution_count": 51,
   "metadata": {},
   "outputs": [
    {
     "name": "stdout",
     "output_type": "stream",
     "text": [
      "(17, 13)\n",
      "17\n"
     ]
    },
    {
     "data": {
      "text/html": [
       "<div>\n",
       "<style>\n",
       "    .dataframe thead tr:only-child th {\n",
       "        text-align: right;\n",
       "    }\n",
       "\n",
       "    .dataframe thead th {\n",
       "        text-align: left;\n",
       "    }\n",
       "\n",
       "    .dataframe tbody tr th {\n",
       "        vertical-align: top;\n",
       "    }\n",
       "</style>\n",
       "<table border=\"1\" class=\"dataframe\">\n",
       "  <thead>\n",
       "    <tr style=\"text-align: right;\">\n",
       "      <th></th>\n",
       "      <th>index</th>\n",
       "      <th>rt_trip_id</th>\n",
       "      <th>rt_stop_id</th>\n",
       "      <th>stop_offset</th>\n",
       "      <th>departure</th>\n",
       "      <th>lat</th>\n",
       "      <th>lng</th>\n",
       "      <th>distance_prev</th>\n",
       "      <th>departure_date</th>\n",
       "      <th>dist_to_start</th>\n",
       "      <th>time_sec_prev</th>\n",
       "      <th>arrival_ax_date</th>\n",
       "      <th>speed_mps_prev</th>\n",
       "      <th>gb_eta</th>\n",
       "      <th>rf_eta</th>\n",
       "      <th>lr_eta</th>\n",
       "    </tr>\n",
       "  </thead>\n",
       "  <tbody>\n",
       "    <tr>\n",
       "      <th>161</th>\n",
       "      <td>37723</td>\n",
       "      <td>201874899</td>\n",
       "      <td>56814</td>\n",
       "      <td>103</td>\n",
       "      <td>1568620920</td>\n",
       "      <td>45.417044</td>\n",
       "      <td>-73.639470</td>\n",
       "      <td>271.0</td>\n",
       "      <td>2019-09-16 08:02:00</td>\n",
       "      <td>1.551653e+35</td>\n",
       "      <td>32.0</td>\n",
       "      <td>2019-09-16 08:00:30</td>\n",
       "      <td>8.468750</td>\n",
       "      <td>2019-09-16 07:47:57.185905152</td>\n",
       "      <td>2019-09-16 07:58:39.533333504</td>\n",
       "      <td>2019-09-16 08:00:30.000000512</td>\n",
       "    </tr>\n",
       "    <tr>\n",
       "      <th>84</th>\n",
       "      <td>37646</td>\n",
       "      <td>201874899</td>\n",
       "      <td>53031</td>\n",
       "      <td>3</td>\n",
       "      <td>1568616480</td>\n",
       "      <td>45.518928</td>\n",
       "      <td>-73.552353</td>\n",
       "      <td>1714.0</td>\n",
       "      <td>2019-09-16 06:48:00</td>\n",
       "      <td>5.910000e+02</td>\n",
       "      <td>336.0</td>\n",
       "      <td>2019-09-16 06:46:30</td>\n",
       "      <td>5.101190</td>\n",
       "      <td>2019-09-16 07:01:35.158099200</td>\n",
       "      <td>2019-09-16 06:46:32.766666752</td>\n",
       "      <td>2019-09-16 06:46:30.000000512</td>\n",
       "    </tr>\n",
       "    <tr>\n",
       "      <th>158</th>\n",
       "      <td>37720</td>\n",
       "      <td>201874899</td>\n",
       "      <td>57099</td>\n",
       "      <td>100</td>\n",
       "      <td>1568620844</td>\n",
       "      <td>45.416324</td>\n",
       "      <td>-73.632239</td>\n",
       "      <td>348.0</td>\n",
       "      <td>2019-09-16 08:00:44</td>\n",
       "      <td>8.647068e+33</td>\n",
       "      <td>49.0</td>\n",
       "      <td>2019-09-16 07:59:14</td>\n",
       "      <td>7.102041</td>\n",
       "      <td>2019-09-16 07:47:57.185905152</td>\n",
       "      <td>2019-09-16 07:57:58.433333760</td>\n",
       "      <td>2019-09-16 07:59:14.000000512</td>\n",
       "    </tr>\n",
       "    <tr>\n",
       "      <th>91</th>\n",
       "      <td>37653</td>\n",
       "      <td>201874899</td>\n",
       "      <td>52783</td>\n",
       "      <td>10</td>\n",
       "      <td>1568616772</td>\n",
       "      <td>45.508667</td>\n",
       "      <td>-73.561939</td>\n",
       "      <td>282.0</td>\n",
       "      <td>2019-09-16 06:52:52</td>\n",
       "      <td>8.560910e+05</td>\n",
       "      <td>52.0</td>\n",
       "      <td>2019-09-16 06:51:22</td>\n",
       "      <td>5.423077</td>\n",
       "      <td>2019-09-16 07:02:55.245979904</td>\n",
       "      <td>2019-09-16 06:50:08.050000128</td>\n",
       "      <td>2019-09-16 06:51:22.000000512</td>\n",
       "    </tr>\n",
       "    <tr>\n",
       "      <th>115</th>\n",
       "      <td>37677</td>\n",
       "      <td>201874899</td>\n",
       "      <td>56531</td>\n",
       "      <td>44</td>\n",
       "      <td>1568618558</td>\n",
       "      <td>45.454680</td>\n",
       "      <td>-73.580780</td>\n",
       "      <td>233.0</td>\n",
       "      <td>2019-09-16 07:22:38</td>\n",
       "      <td>9.203050e+15</td>\n",
       "      <td>38.0</td>\n",
       "      <td>2019-09-16 07:21:08</td>\n",
       "      <td>6.131579</td>\n",
       "      <td>2019-09-16 07:22:26.732291072</td>\n",
       "      <td>2019-09-16 07:20:32.100000000</td>\n",
       "      <td>2019-09-16 07:21:08.000000512</td>\n",
       "    </tr>\n",
       "  </tbody>\n",
       "</table>\n",
       "</div>"
      ],
      "text/plain": [
       "     index  rt_trip_id  rt_stop_id  stop_offset   departure        lat  \\\n",
       "161  37723   201874899       56814          103  1568620920  45.417044   \n",
       "84   37646   201874899       53031            3  1568616480  45.518928   \n",
       "158  37720   201874899       57099          100  1568620844  45.416324   \n",
       "91   37653   201874899       52783           10  1568616772  45.508667   \n",
       "115  37677   201874899       56531           44  1568618558  45.454680   \n",
       "\n",
       "           lng  distance_prev       departure_date  dist_to_start  \\\n",
       "161 -73.639470          271.0  2019-09-16 08:02:00   1.551653e+35   \n",
       "84  -73.552353         1714.0  2019-09-16 06:48:00   5.910000e+02   \n",
       "158 -73.632239          348.0  2019-09-16 08:00:44   8.647068e+33   \n",
       "91  -73.561939          282.0  2019-09-16 06:52:52   8.560910e+05   \n",
       "115 -73.580780          233.0  2019-09-16 07:22:38   9.203050e+15   \n",
       "\n",
       "     time_sec_prev      arrival_ax_date  speed_mps_prev  \\\n",
       "161           32.0  2019-09-16 08:00:30        8.468750   \n",
       "84           336.0  2019-09-16 06:46:30        5.101190   \n",
       "158           49.0  2019-09-16 07:59:14        7.102041   \n",
       "91            52.0  2019-09-16 06:51:22        5.423077   \n",
       "115           38.0  2019-09-16 07:21:08        6.131579   \n",
       "\n",
       "                           gb_eta                        rf_eta  \\\n",
       "161 2019-09-16 07:47:57.185905152 2019-09-16 07:58:39.533333504   \n",
       "84  2019-09-16 07:01:35.158099200 2019-09-16 06:46:32.766666752   \n",
       "158 2019-09-16 07:47:57.185905152 2019-09-16 07:57:58.433333760   \n",
       "91  2019-09-16 07:02:55.245979904 2019-09-16 06:50:08.050000128   \n",
       "115 2019-09-16 07:22:26.732291072 2019-09-16 07:20:32.100000000   \n",
       "\n",
       "                           lr_eta  \n",
       "161 2019-09-16 08:00:30.000000512  \n",
       "84  2019-09-16 06:46:30.000000512  \n",
       "158 2019-09-16 07:59:14.000000512  \n",
       "91  2019-09-16 06:51:22.000000512  \n",
       "115 2019-09-16 07:21:08.000000512  "
      ]
     },
     "execution_count": 51,
     "metadata": {},
     "output_type": "execute_result"
    }
   ],
   "source": [
    "df_eta_per_trip = predict_eta(model_list, df_per_trip)\n",
    "df_eta_per_trip.head()"
   ]
  },
  {
   "cell_type": "markdown",
   "metadata": {
    "collapsed": true
   },
   "source": [
    "Let's plot our predictions"
   ]
  },
  {
   "cell_type": "code",
   "execution_count": 52,
   "metadata": {},
   "outputs": [
    {
     "data": {
      "text/plain": [
       "<matplotlib.figure.Figure at 0x115fec2b0>"
      ]
     },
     "metadata": {},
     "output_type": "display_data"
    },
    {
     "data": {
      "image/png": "[encoded data removed]",
      "text/plain": [
       "<matplotlib.figure.Figure at 0x115f9eb70>"
      ]
     },
     "metadata": {},
     "output_type": "display_data"
    }
   ],
   "source": [
    "plt.figure()\n",
    "plt.figure(figsize=(15, 10), dpi=70)\n",
    "plt.plot(df_eta_per_trip['gb_eta'].values, 'gd', label='GradientBoostingRegressor')\n",
    "plt.plot(df_eta_per_trip['rf_eta'].values, 'b^', label='RandomForestRegressor')\n",
    "plt.plot(df_eta_per_trip['lr_eta'].values, 'ys', label='LinearRegression')\n",
    "plt.ylabel('ETA')\n",
    "plt.xlabel('training samples')\n",
    "plt.legend(loc=\"best\")\n",
    "plt.show()"
   ]
  },
  {
   "cell_type": "markdown",
   "metadata": {},
   "source": [
    "#### Score \n",
    "\n",
    "Let's make use of the scoring function that we created in the other notebook to evaluate how good our predictions are "
   ]
  },
  {
   "cell_type": "code",
   "execution_count": 53,
   "metadata": {
    "collapsed": true
   },
   "outputs": [],
   "source": [
    "def test_predictions(data):\n",
    "    for key in model_keys :\n",
    "        print('Score: ' + key + ': ' + str(tools.score_eta_predictions(data,key, 'arrival_ax_date', 10)[0]))\n",
    "        print('\\n')"
   ]
  },
  {
   "cell_type": "code",
   "execution_count": 54,
   "metadata": {},
   "outputs": [
    {
     "name": "stdout",
     "output_type": "stream",
     "text": [
      "Score: gb_eta: 0.033950617284\n",
      "\n",
      "\n",
      "Score: rf_eta: 0.583333333333\n",
      "\n",
      "\n",
      "Score: lr_eta: 0.944444444444\n",
      "\n",
      "\n"
     ]
    }
   ],
   "source": [
    "test_predictions(df_eta_per_trip)"
   ]
  },
  {
   "cell_type": "markdown",
   "metadata": {},
   "source": [
    "We have some scores. According to the scoring function we defined the random forest regressor does the best job at predicting the etas."
   ]
  },
  {
   "cell_type": "markdown",
   "metadata": {},
   "source": [
    "### Predict eta using all the dataset\n",
    "\n",
    "Here we will put all the data we have into our models."
   ]
  },
  {
   "cell_type": "code",
   "execution_count": 22,
   "metadata": {},
   "outputs": [
    {
     "name": "stdout",
     "output_type": "stream",
     "text": [
      "(117890, 13)\n",
      "117890\n"
     ]
    },
    {
     "data": {
      "text/html": [
       "<div>\n",
       "<style>\n",
       "    .dataframe thead tr:only-child th {\n",
       "        text-align: right;\n",
       "    }\n",
       "\n",
       "    .dataframe thead th {\n",
       "        text-align: left;\n",
       "    }\n",
       "\n",
       "    .dataframe tbody tr th {\n",
       "        vertical-align: top;\n",
       "    }\n",
       "</style>\n",
       "<table border=\"1\" class=\"dataframe\">\n",
       "  <thead>\n",
       "    <tr style=\"text-align: right;\">\n",
       "      <th></th>\n",
       "      <th>index</th>\n",
       "      <th>rt_trip_id</th>\n",
       "      <th>rt_stop_id</th>\n",
       "      <th>stop_offset</th>\n",
       "      <th>departure</th>\n",
       "      <th>lat</th>\n",
       "      <th>lng</th>\n",
       "      <th>distance_prev</th>\n",
       "      <th>departure_date</th>\n",
       "      <th>dist_to_start</th>\n",
       "      <th>time_sec_prev</th>\n",
       "      <th>arrival_ax_date</th>\n",
       "      <th>speed_mps_prev</th>\n",
       "      <th>gb_eta</th>\n",
       "      <th>rf_eta</th>\n",
       "      <th>lr_eta</th>\n",
       "    </tr>\n",
       "  </thead>\n",
       "  <tbody>\n",
       "    <tr>\n",
       "      <th>269921</th>\n",
       "      <td>399834</td>\n",
       "      <td>204030915</td>\n",
       "      <td>56861</td>\n",
       "      <td>32</td>\n",
       "      <td>1568656560</td>\n",
       "      <td>45.421882</td>\n",
       "      <td>-73.629622</td>\n",
       "      <td>344.0</td>\n",
       "      <td>2019-09-16 17:56:00</td>\n",
       "      <td>9.490605e+14</td>\n",
       "      <td>60.0</td>\n",
       "      <td>2019-09-16 17:54:30</td>\n",
       "      <td>5.733333</td>\n",
       "      <td>2019-09-16 17:54:10.356980480</td>\n",
       "      <td>2019-09-16 17:51:30.340132096</td>\n",
       "      <td>2019-09-16 17:54:30.000013056</td>\n",
       "    </tr>\n",
       "    <tr>\n",
       "      <th>440343</th>\n",
       "      <td>125559</td>\n",
       "      <td>204904999</td>\n",
       "      <td>51239</td>\n",
       "      <td>26</td>\n",
       "      <td>1568632260</td>\n",
       "      <td>45.542895</td>\n",
       "      <td>-73.617832</td>\n",
       "      <td>264.0</td>\n",
       "      <td>2019-09-16 11:11:00</td>\n",
       "      <td>3.519665e+12</td>\n",
       "      <td>60.0</td>\n",
       "      <td>2019-09-16 11:09:30</td>\n",
       "      <td>4.400000</td>\n",
       "      <td>2019-09-16 13:30:19.140464896</td>\n",
       "      <td>2019-09-16 11:08:22.584050944</td>\n",
       "      <td>2019-09-16 11:09:30.000013056</td>\n",
       "    </tr>\n",
       "    <tr>\n",
       "      <th>555157</th>\n",
       "      <td>266096</td>\n",
       "      <td>205385173</td>\n",
       "      <td>55621</td>\n",
       "      <td>31</td>\n",
       "      <td>1568657443</td>\n",
       "      <td>45.489376</td>\n",
       "      <td>-73.685056</td>\n",
       "      <td>688.0</td>\n",
       "      <td>2019-09-16 18:10:43</td>\n",
       "      <td>4.319614e+14</td>\n",
       "      <td>63.0</td>\n",
       "      <td>2019-09-16 18:09:13</td>\n",
       "      <td>10.920635</td>\n",
       "      <td>2019-09-16 18:04:41.677811712</td>\n",
       "      <td>2019-09-16 18:08:13.249797632</td>\n",
       "      <td>2019-09-16 18:09:13.000013056</td>\n",
       "    </tr>\n",
       "    <tr>\n",
       "      <th>96477</th>\n",
       "      <td>250523</td>\n",
       "      <td>203581293</td>\n",
       "      <td>51421</td>\n",
       "      <td>5</td>\n",
       "      <td>1568633276</td>\n",
       "      <td>45.632908</td>\n",
       "      <td>-73.607148</td>\n",
       "      <td>178.0</td>\n",
       "      <td>2019-09-16 11:27:56</td>\n",
       "      <td>3.195000e+03</td>\n",
       "      <td>30.0</td>\n",
       "      <td>2019-09-16 11:26:26</td>\n",
       "      <td>5.933333</td>\n",
       "      <td>2019-09-16 13:30:19.140464896</td>\n",
       "      <td>2019-09-16 11:26:51.091195136</td>\n",
       "      <td>2019-09-16 11:26:26.000013056</td>\n",
       "    </tr>\n",
       "    <tr>\n",
       "      <th>545808</th>\n",
       "      <td>248297</td>\n",
       "      <td>205384681</td>\n",
       "      <td>56408</td>\n",
       "      <td>11</td>\n",
       "      <td>1568668597</td>\n",
       "      <td>45.476705</td>\n",
       "      <td>-73.651772</td>\n",
       "      <td>137.0</td>\n",
       "      <td>2019-09-16 21:16:37</td>\n",
       "      <td>1.443060e+06</td>\n",
       "      <td>37.0</td>\n",
       "      <td>2019-09-16 21:15:07</td>\n",
       "      <td>3.702703</td>\n",
       "      <td>2019-09-16 19:52:26.608231936</td>\n",
       "      <td>2019-09-16 21:13:49.632574976</td>\n",
       "      <td>2019-09-16 21:15:07.000013056</td>\n",
       "    </tr>\n",
       "  </tbody>\n",
       "</table>\n",
       "</div>"
      ],
      "text/plain": [
       "         index  rt_trip_id  rt_stop_id  stop_offset   departure        lat  \\\n",
       "269921  399834   204030915       56861           32  1568656560  45.421882   \n",
       "440343  125559   204904999       51239           26  1568632260  45.542895   \n",
       "555157  266096   205385173       55621           31  1568657443  45.489376   \n",
       "96477   250523   203581293       51421            5  1568633276  45.632908   \n",
       "545808  248297   205384681       56408           11  1568668597  45.476705   \n",
       "\n",
       "              lng  distance_prev       departure_date  dist_to_start  \\\n",
       "269921 -73.629622          344.0  2019-09-16 17:56:00   9.490605e+14   \n",
       "440343 -73.617832          264.0  2019-09-16 11:11:00   3.519665e+12   \n",
       "555157 -73.685056          688.0  2019-09-16 18:10:43   4.319614e+14   \n",
       "96477  -73.607148          178.0  2019-09-16 11:27:56   3.195000e+03   \n",
       "545808 -73.651772          137.0  2019-09-16 21:16:37   1.443060e+06   \n",
       "\n",
       "        time_sec_prev      arrival_ax_date  speed_mps_prev  \\\n",
       "269921           60.0  2019-09-16 17:54:30        5.733333   \n",
       "440343           60.0  2019-09-16 11:09:30        4.400000   \n",
       "555157           63.0  2019-09-16 18:09:13       10.920635   \n",
       "96477            30.0  2019-09-16 11:26:26        5.933333   \n",
       "545808           37.0  2019-09-16 21:15:07        3.702703   \n",
       "\n",
       "                              gb_eta                        rf_eta  \\\n",
       "269921 2019-09-16 17:54:10.356980480 2019-09-16 17:51:30.340132096   \n",
       "440343 2019-09-16 13:30:19.140464896 2019-09-16 11:08:22.584050944   \n",
       "555157 2019-09-16 18:04:41.677811712 2019-09-16 18:08:13.249797632   \n",
       "96477  2019-09-16 13:30:19.140464896 2019-09-16 11:26:51.091195136   \n",
       "545808 2019-09-16 19:52:26.608231936 2019-09-16 21:13:49.632574976   \n",
       "\n",
       "                              lr_eta  \n",
       "269921 2019-09-16 17:54:30.000013056  \n",
       "440343 2019-09-16 11:09:30.000013056  \n",
       "555157 2019-09-16 18:09:13.000013056  \n",
       "96477  2019-09-16 11:26:26.000013056  \n",
       "545808 2019-09-16 21:15:07.000013056  "
      ]
     },
     "execution_count": 22,
     "metadata": {},
     "output_type": "execute_result"
    }
   ],
   "source": [
    "df_eta_all = predict_eta(model_list, df_trips_stops)\n",
    "df_eta_all.head()"
   ]
  },
  {
   "cell_type": "code",
   "execution_count": 23,
   "metadata": {
    "scrolled": true
   },
   "outputs": [
    {
     "data": {
      "text/plain": [
       "<matplotlib.figure.Figure at 0x11699b630>"
      ]
     },
     "metadata": {},
     "output_type": "display_data"
    },
    {
     "data": {
      "image/png": "[encoded data removed]",
      "text/plain": [
       "<matplotlib.figure.Figure at 0x11699b2b0>"
      ]
     },
     "metadata": {},
     "output_type": "display_data"
    }
   ],
   "source": [
    "plt.figure()\n",
    "plt.figure(figsize=(15, 5), dpi=70)\n",
    "plt.plot(df_eta_per_trip['gb_eta'].values, 'gd', label='GradientBoostingRegressor')\n",
    "plt.plot(df_eta_per_trip['rf_eta'].values, 'b^', label='RandomForestRegressor')\n",
    "plt.plot(df_eta_per_trip['lr_eta'].values, 'ys', label='LinearRegression')\n",
    "plt.ylabel('ETA')\n",
    "plt.xlabel('training samples')\n",
    "plt.legend(loc=\"best\")\n",
    "plt.show()"
   ]
  },
  {
   "cell_type": "code",
   "execution_count": 24,
   "metadata": {},
   "outputs": [
    {
     "name": "stdout",
     "output_type": "stream",
     "text": [
      "Score: gb_eta: 0.0116768576785\n",
      "\n",
      "\n",
      "Score: rf_eta: 0.447140844926\n",
      "\n",
      "\n",
      "Score: lr_eta: 0.999991517588\n",
      "\n",
      "\n"
     ]
    }
   ],
   "source": [
    "test_predictions(df_eta_all)"
   ]
  },
  {
   "cell_type": "markdown",
   "metadata": {},
   "source": [
    "According to our scoring function the random forest regressor does the best job. The linear regression seems to be overfitting also in this case."
   ]
  },
  {
   "cell_type": "code",
   "execution_count": 25,
   "metadata": {
    "collapsed": true
   },
   "outputs": [],
   "source": [
    "df_eta_all.to_csv ('data/4_results/df_eta_all_results.csv', index = None, header=True)\n",
    "df_eta_per_trip.to_csv ('data/4_results/df_eta_trip_results.csv', index = None, header=True)"
   ]
  },
  {
   "cell_type": "markdown",
   "metadata": {
    "collapsed": true
   },
   "source": [
    "## Conclusion"
   ]
  },
  {
   "cell_type": "markdown",
   "metadata": {},
   "source": [
    "We have arrived to train several models of different complexities. All of them with the assumption that we could trust the data provided to us as 'departure_date' since we've used it to approximate bus arrival date and use it as an independent variable to train our regression models. It is our synthetic ground truth.\n",
    "\n",
    "*** Does this make sense? ***\n",
    "\n",
    "If we can trust 'departure_date' then by substracting a small interval to it we are very certainly at a point in time at which the bus is (or is about to be) at the stop. Making this assumption we have trained the models above.\n"
   ]
  },
  {
   "cell_type": "markdown",
   "metadata": {
    "collapsed": true
   },
   "source": [
    "### Scores\n",
    "\n",
    "Over one independent route:\n",
    "\n",
    " - gb_eta: 0.101789604731\n",
    " - rf_eta: 0.754901960784\n",
    " - lr_eta: 0.980392156863\n",
    "\n",
    "Over all the data:\n",
    "\n",
    "- gb_eta: 0.0141225170072\n",
    "- rf_eta: 0.427941840982\n",
    "- lr_eta: 0.999991671247\n",
    "\n",
    "\n",
    "The first thing that catches our eye is that the traditional linear regression has a very high score for both datasets. By looking at the predictions we can see that they are basically all almost exactly the same as arrival_ax_date or differ by very little from it. This might be a good model for this dataset in specific but they won't generalize well to new data. They are very likely overfit.\n",
    "\n",
    "It is more interesting to look at the score of the random forest regressor. In the case of the data for one route it gets over 0.75 score. This means that there's some errors but not too many. This is the type of model that could very likely generalize better and by tuning its hyperparameters we could get something better. \n",
    "\n",
    "The gradient boosting regressor seems to have done very bad according to our scoring algorithm. It might be because the choice of hyper parameters was not optimal. It could also not be the right model. To find out it would be interesting to get more data and train it again.\n",
    "\n",
    "\n",
    "Since all the models have been trained with data only for one day in Montreal they won't be very durable. There are many variables into play. If there is a traffic jam tomottow then the models that were trained on data for today won't be able to predict acceptable results. We need more data to put into our models so that they can learn seasonal patterns over time and other important factors.\n"
   ]
  },
  {
   "cell_type": "markdown",
   "metadata": {},
   "source": [
    "### How would we continue?\n",
    "\n",
    "- Since having more data would alow all the models to learn more patterns in the data I would first gather and process more data and retrain these three models. \n",
    "\n",
    "- Then I would use Grid Search or equivalent to get the best hyperparameters for each one of the models.\n",
    "\n",
    "- I would test the models on more data they haven't see if they generalize properly to new samples."
   ]
  },
  {
   "cell_type": "code",
   "execution_count": null,
   "metadata": {
    "collapsed": true
   },
   "outputs": [],
   "source": []
  }
 ],
 "metadata": {
  "kernelspec": {
   "display_name": "Python 3",
   "language": "python",
   "name": "python3"
  },
  "language_info": {
   "codemirror_mode": {
    "name": "ipython",
    "version": 3
   },
   "file_extension": ".py",
   "mimetype": "text/x-python",
   "name": "python",
   "nbconvert_exporter": "python",
   "pygments_lexer": "ipython3",
   "version": "3.6.7"
  }
 },
 "nbformat": 4,
 "nbformat_minor": 2
}
